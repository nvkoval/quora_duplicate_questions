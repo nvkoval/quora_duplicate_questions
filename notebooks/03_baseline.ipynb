{
 "cells": [
  {
   "cell_type": "markdown",
   "id": "88143632",
   "metadata": {},
   "source": [
    "# Baseline"
   ]
  },
  {
   "cell_type": "code",
   "execution_count": null,
   "id": "61c076a1",
   "metadata": {
    "id": "61c076a1"
   },
   "outputs": [],
   "source": [
    "import os\n",
    "import pandas as pd\n",
    "from sklearn.dummy import DummyClassifier\n",
    "from sklearn.metrics import log_loss, classification_report"
   ]
  },
  {
   "cell_type": "code",
   "execution_count": null,
   "id": "79e2ecad",
   "metadata": {},
   "outputs": [],
   "source": [
    "from google.colab import drive\n",
    "drive.mount('/content/drive')"
   ]
  },
  {
   "cell_type": "code",
   "execution_count": null,
   "id": "31d9d251",
   "metadata": {
    "id": "31d9d251"
   },
   "outputs": [],
   "source": [
    "DATA_PATH = '/content/drive/MyDrive/quora_duplicate_questions/data/processed'\n",
    "train_df = pd.read_csv(os.path.join(DATA_PATH, 'train.csv.zip'), compression='zip')\n",
    "val_df = pd.read_csv(os.path.join(DATA_PATH, 'val.csv.zip'), compression='zip')"
   ]
  },
  {
   "cell_type": "code",
   "execution_count": null,
   "id": "09a20e49",
   "metadata": {
    "id": "09a20e49",
    "outputId": "221da343-d047-4616-dbc5-a5af5f1a0f62"
   },
   "outputs": [
    {
     "name": "stdout",
     "output_type": "stream",
     "text": [
      "Log loss: 13.307071439994061\n",
      "              precision    recall  f1-score   support\n",
      "\n",
      "           0       0.63      1.00      0.77     40805\n",
      "           1       0.00      0.00      0.00     23882\n",
      "\n",
      "    accuracy                           0.63     64687\n",
      "   macro avg       0.32      0.50      0.39     64687\n",
      "weighted avg       0.40      0.63      0.49     64687\n",
      "\n"
     ]
    }
   ],
   "source": [
    "model = (DummyClassifier(strategy='most_frequent', random_state=7)\n",
    "         .fit(train_df[['question1', 'question2']], train_df['is_duplicate']))\n",
    "preds_proba = model.predict_proba(val_df[['question1', 'question2']])\n",
    "preds = model.predict(val_df[['question1', 'question2']])\n",
    "print('Log loss:', log_loss(val_df['is_duplicate'], preds_proba))\n",
    "print(classification_report(val_df['is_duplicate'], preds, zero_division=0))"
   ]
  },
  {
   "cell_type": "code",
   "execution_count": null,
   "id": "41a3e458",
   "metadata": {
    "id": "41a3e458",
    "outputId": "178101ba-b833-46c7-a311-fe9b9794956d"
   },
   "outputs": [
    {
     "name": "stdout",
     "output_type": "stream",
     "text": [
      "Log loss: 0.6931471805599453\n",
      "              precision    recall  f1-score   support\n",
      "\n",
      "           0       0.63      0.50      0.56     40805\n",
      "           1       0.37      0.50      0.42     23882\n",
      "\n",
      "    accuracy                           0.50     64687\n",
      "   macro avg       0.50      0.50      0.49     64687\n",
      "weighted avg       0.53      0.50      0.51     64687\n",
      "\n"
     ]
    }
   ],
   "source": [
    "model = (DummyClassifier(strategy='uniform', random_state=7)\n",
    "         .fit(train_df[['question1', 'question2']], train_df['is_duplicate']))\n",
    "preds_proba = model.predict_proba(val[['question1', 'question2']])\n",
    "preds = model.predict(val_df[['question1', 'question2']])\n",
    "print('Log loss:', log_loss(val_df['is_duplicate'], preds_proba))\n",
    "print(classification_report(val_df['is_duplicate'], preds, zero_division=0))"
   ]
  }
 ],
 "metadata": {
  "colab": {
   "provenance": []
  },
  "kernelspec": {
   "display_name": "py312",
   "language": "python",
   "name": "python3"
  },
  "language_info": {
   "codemirror_mode": {
    "name": "ipython",
    "version": 3
   },
   "file_extension": ".py",
   "mimetype": "text/x-python",
   "name": "python",
   "nbconvert_exporter": "python",
   "pygments_lexer": "ipython3",
   "version": "3.12.7"
  }
 },
 "nbformat": 4,
 "nbformat_minor": 5
}
