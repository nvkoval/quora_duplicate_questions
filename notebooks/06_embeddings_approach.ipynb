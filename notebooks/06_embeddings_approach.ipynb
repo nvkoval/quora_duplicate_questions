{
  "cells": [
    {
      "cell_type": "markdown",
      "id": "8c5543eb",
      "metadata": {
        "id": "8c5543eb"
      },
      "source": [
        "## Importing Libraries"
      ]
    },
    {
      "cell_type": "code",
      "execution_count": null,
      "id": "bdhvrA-Bks1j",
      "metadata": {
        "executionInfo": {
          "elapsed": 3535,
          "status": "ok",
          "timestamp": 1748849946862,
          "user": {
            "displayName": "Natalia Koval",
            "userId": "10118236118774007377"
          },
          "user_tz": -180
        },
        "id": "bdhvrA-Bks1j"
      },
      "outputs": [],
      "source": [
        "! pip install gensim --quiet"
      ]
    },
    {
      "cell_type": "code",
      "execution_count": 4,
      "id": "-PzQE33IXIpR",
      "metadata": {
        "colab": {
          "base_uri": "https://localhost:8080/"
        },
        "executionInfo": {
          "elapsed": 27598,
          "status": "ok",
          "timestamp": 1748850021221,
          "user": {
            "displayName": "Natalia Koval",
            "userId": "10118236118774007377"
          },
          "user_tz": -180
        },
        "id": "-PzQE33IXIpR",
        "outputId": "a9f1ee91-9096-44ee-d60c-c53d4794036e"
      },
      "outputs": [
        {
          "name": "stdout",
          "output_type": "stream",
          "text": [
            "Mounted at /content/drive\n"
          ]
        }
      ],
      "source": [
        "from google.colab import drive\n",
        "drive.mount('/content/drive')"
      ]
    },
    {
      "cell_type": "code",
      "execution_count": null,
      "id": "89a40644",
      "metadata": {
        "executionInfo": {
          "elapsed": 2,
          "status": "ok",
          "timestamp": 1748853267095,
          "user": {
            "displayName": "Natalia Koval",
            "userId": "10118236118774007377"
          },
          "user_tz": -180
        },
        "id": "89a40644"
      },
      "outputs": [],
      "source": [
        "import sys\n",
        "import os\n",
        "sys.path.append('/content/drive/MyDrive/quora_duplicate_questions/src')\n",
        "\n",
        "import joblib\n",
        "import re\n",
        "\n",
        "import numpy as np\n",
        "import pandas as pd\n",
        "\n",
        "from sklearn.metrics import classification_report\n",
        "from sklearn.metrics.pairwise import (cosine_similarity,\n",
        "                                      euclidean_distances,\n",
        "                                      manhattan_distances)\n",
        "from sklearn.linear_model import LogisticRegression\n",
        "from sklearn.preprocessing import StandardScaler\n",
        "import gensim.downloader as api\n",
        "\n",
        "import nltk\n",
        "from nltk.corpus import stopwords\n",
        "from nltk.tokenize import word_tokenize\n",
        "nltk.download('punkt_tab', quiet=True)\n",
        "nltk.download('stopwords', quiet=True)\n",
        "\n",
        "from tqdm.auto import tqdm\n",
        "tqdm.pandas()\n",
        "\n",
        "from utils import evaluate_model, plot_confusion_matrix"
      ]
    },
    {
      "cell_type": "markdown",
      "id": "ae406ef9",
      "metadata": {
        "id": "ae406ef9"
      },
      "source": [
        "## Load data"
      ]
    },
    {
      "cell_type": "code",
      "execution_count": 29,
      "id": "bjPOlpZ5XWJy",
      "metadata": {
        "executionInfo": {
          "elapsed": 4844,
          "status": "ok",
          "timestamp": 1748852132219,
          "user": {
            "displayName": "Natalia Koval",
            "userId": "10118236118774007377"
          },
          "user_tz": -180
        },
        "id": "bjPOlpZ5XWJy"
      },
      "outputs": [],
      "source": [
        "DATA_PATH = '/content/drive/MyDrive/quora_duplicate_questions/data/processed'\n",
        "train_df = pd.read_csv(os.path.join(DATA_PATH, 'train.csv.zip'), compression='zip')\n",
        "val_df = pd.read_csv(os.path.join(DATA_PATH, 'val.csv.zip'), compression='zip')"
      ]
    },
    {
      "cell_type": "markdown",
      "id": "wI48YhTjoGV0",
      "metadata": {
        "id": "wI48YhTjoGV0"
      },
      "source": [
        "## Preprocess text"
      ]
    },
    {
      "cell_type": "code",
      "execution_count": 3,
      "id": "uPEWQF6BoPDG",
      "metadata": {
        "executionInfo": {
          "elapsed": 43,
          "status": "ok",
          "timestamp": 1748852135019,
          "user": {
            "displayName": "Natalia Koval",
            "userId": "10118236118774007377"
          },
          "user_tz": -180
        },
        "id": "uPEWQF6BoPDG"
      },
      "outputs": [],
      "source": [
        "def preprocess_text(text):\n",
        "    \"\"\"Clean and preprocess text\"\"\"\n",
        "    if pd.isna(text):\n",
        "        return []\n",
        "\n",
        "    # Convert to lowercase\n",
        "    text = str(text).lower()\n",
        "\n",
        "    # Remove punctuation\n",
        "    text = re.sub(r'[^\\w\\s]', '', text)\n",
        "\n",
        "    stop_words = set(stopwords.words('english'))\n",
        "\n",
        "    tokens = word_tokenize(text)\n",
        "    tokens = [token for token in tokens if token not in stop_words]\n",
        "\n",
        "    return tokens"
      ]
    },
    {
      "cell_type": "code",
      "execution_count": 4,
      "id": "e_sbH1EBerGO",
      "metadata": {
        "colab": {
          "base_uri": "https://localhost:8080/",
          "height": 98,
          "referenced_widgets": [
            "3cff8c371a9c4ac1876c507e2211c25e",
            "2c4d6b88d1ff47ff8f564dd221598925",
            "913f7fed1f5946bd9d2af9d477ec73ce",
            "eca77be1680444e785279a835f2a0dc7",
            "4daf07f2145f4de7b5f9b98238ff878f",
            "df89a220a0dc49358b5c65bbe2131593",
            "6239e6a2f0b44e2fbf26e3030a11fb06",
            "525a87f023b9447bbf036442792d0b82",
            "d4b77f29664a4f458c50f370fb8dfc85",
            "355bdaa4e29c4474a4ee09afb0875840",
            "ff3fd3b3596c49efa04bea3fb7917630",
            "3d1e157a86c745129adea0bad3c7f3d3",
            "92835f645e484515a418e61150b69b99",
            "4b4af3132bde4ef585d96e46c1437728",
            "7760fac4c9a54b96afc672de87f67935",
            "e1d4889db6044ed5aad614b6663a68bc",
            "046351d654b34e6391dc58bd78c134b7",
            "fef177b230dc475da159c167686bbf66",
            "a0d056c24781466a90b13656b62abeb5",
            "a00a64cb9ef24997a2cb29c9e0ede1ea",
            "b38b906fdb924ca48092972e9a48d0cd",
            "708bea7fc5b84d49b9ceb100ef3978b5"
          ]
        },
        "executionInfo": {
          "elapsed": 180636,
          "status": "ok",
          "timestamp": 1748852944878,
          "user": {
            "displayName": "Natalia Koval",
            "userId": "10118236118774007377"
          },
          "user_tz": -180
        },
        "id": "e_sbH1EBerGO",
        "outputId": "315bb595-903c-480d-ff66-0bbff74be0f3"
      },
      "outputs": [
        {
          "name": "stdout",
          "output_type": "stream",
          "text": [
            "Preprocessing questions for Train set...\n"
          ]
        },
        {
          "data": {
            "application/vnd.jupyter.widget-view+json": {
              "model_id": "5afae4689ed746419f2a6523017a7576",
              "version_major": 2,
              "version_minor": 0
            },
            "text/plain": [
              "  0%|          | 0/258743 [00:00<?, ?it/s]"
            ]
          },
          "metadata": {},
          "output_type": "display_data"
        },
        {
          "data": {
            "application/vnd.jupyter.widget-view+json": {
              "model_id": "b42d75153f6e41afa74265ec0f5612ec",
              "version_major": 2,
              "version_minor": 0
            },
            "text/plain": [
              "  0%|          | 0/258743 [00:00<?, ?it/s]"
            ]
          },
          "metadata": {},
          "output_type": "display_data"
        }
      ],
      "source": [
        "print(\"Preprocessing questions for Train set...\")\n",
        "train_df['q1_tokens'] = train_df['question1'].progress_apply(preprocess_text)\n",
        "train_df['q2_tokens'] = train_df['question2'].progress_apply(preprocess_text)"
      ]
    },
    {
      "cell_type": "code",
      "execution_count": 5,
      "id": "c55Ni4Zem162",
      "metadata": {
        "colab": {
          "base_uri": "https://localhost:8080/",
          "height": 98,
          "referenced_widgets": [
            "a934af2ceda84e5e91e9c51c1d45d28b",
            "a0b829c0969c4ec487bc5e0969e91551",
            "95795b8f756040d99d12712a9a06c8ca",
            "cee6d2a3eb2e4eaaa7072c45714fa073",
            "cbeae08d1d1a497ea6db42354376732f",
            "fd33693436854361998f46300d3514e2",
            "93e1fe07bd234607bac7645acb559e14",
            "2a606d21706842049e957dd77ff32ec1",
            "9bba7b06d766489487e42d65499a8694",
            "946674d36a68484b93c6cb87b87e45d2",
            "83fa3da35b384802b3858f87a2d2587f",
            "069b334afbe94a1d80a716a476000211",
            "fc68b210715049d39ad08e49b83aa542",
            "1c40ffdaff4342a2a6910c4606baf827",
            "d33696a71c2646e88593d779a037daf8",
            "142a2367cba14e4296ca8b720f8fe015",
            "b4bc2679edeb4f34b0bf4fe8ea2aaeae",
            "e5daa4c093ab43c6859a10a8d9fb6c77",
            "6f1361a455fd4be4ad30dbb1a5f95d4a",
            "22b069a331ff4652a2332c4e4042e4a5",
            "c134e51ae5fa41d09745fb3b0bd4a97d",
            "ff72455e660c41e49c493d7199b40704"
          ]
        },
        "executionInfo": {
          "elapsed": 46666,
          "status": "ok",
          "timestamp": 1748852991547,
          "user": {
            "displayName": "Natalia Koval",
            "userId": "10118236118774007377"
          },
          "user_tz": -180
        },
        "id": "c55Ni4Zem162",
        "outputId": "6be9230e-c8cc-49af-afd8-3b3347b284cc"
      },
      "outputs": [
        {
          "name": "stdout",
          "output_type": "stream",
          "text": [
            "Preprocessing questions for Validation set...\n"
          ]
        },
        {
          "data": {
            "application/vnd.jupyter.widget-view+json": {
              "model_id": "32a3aad6ae8f49b6b59a1406a7fe714c",
              "version_major": 2,
              "version_minor": 0
            },
            "text/plain": [
              "  0%|          | 0/64686 [00:00<?, ?it/s]"
            ]
          },
          "metadata": {},
          "output_type": "display_data"
        },
        {
          "data": {
            "application/vnd.jupyter.widget-view+json": {
              "model_id": "8557a24bf9744472a63e7f2c5fe8e299",
              "version_major": 2,
              "version_minor": 0
            },
            "text/plain": [
              "  0%|          | 0/64686 [00:00<?, ?it/s]"
            ]
          },
          "metadata": {},
          "output_type": "display_data"
        }
      ],
      "source": [
        "print(\"Preprocessing questions for Validation set...\")\n",
        "val_df['q1_tokens'] = val_df['question1'].progress_apply(preprocess_text)\n",
        "val_df['q2_tokens'] = val_df['question2'].progress_apply(preprocess_text)"
      ]
    },
    {
      "cell_type": "markdown",
      "id": "rJYHycATppi9",
      "metadata": {
        "id": "rJYHycATppi9"
      },
      "source": [
        "## Load GloVe Embeddings"
      ]
    },
    {
      "cell_type": "code",
      "execution_count": 8,
      "id": "bI3xkG2-7L88",
      "metadata": {
        "colab": {
          "base_uri": "https://localhost:8080/"
        },
        "executionInfo": {
          "elapsed": 34544,
          "status": "ok",
          "timestamp": 1748852251515,
          "user": {
            "displayName": "Natalia Koval",
            "userId": "10118236118774007377"
          },
          "user_tz": -180
        },
        "id": "bI3xkG2-7L88",
        "outputId": "14a229b3-ab6d-414e-e1a3-d39f5009282d"
      },
      "outputs": [
        {
          "name": "stdout",
          "output_type": "stream",
          "text": [
            "[==================================================] 100.0% 128.1/128.1MB downloaded\n",
            "GloVe model loaded successfully. Vocabulary size: 400000\n",
            "Embedding dimension: 100\n"
          ]
        }
      ],
      "source": [
        "glove_name='glove-wiki-gigaword-100'\n",
        "\n",
        "glove_model = api.load(glove_name)\n",
        "print(f\"GloVe model loaded successfully. Vocabulary size: {len(glove_model)}\")\n",
        "print(f\"Embedding dimension: {glove_model.vector_size}\")"
      ]
    },
    {
      "cell_type": "code",
      "execution_count": 9,
      "id": "nIJhnsMs7sh7",
      "metadata": {
        "executionInfo": {
          "elapsed": 7,
          "status": "ok",
          "timestamp": 1748852991557,
          "user": {
            "displayName": "Natalia Koval",
            "userId": "10118236118774007377"
          },
          "user_tz": -180
        },
        "id": "nIJhnsMs7sh7"
      },
      "outputs": [],
      "source": [
        "def get_sentence_embedding(tokens, model):\n",
        "    \"\"\"Get sentence embedding by averaging word embeddings\"\"\"\n",
        "    if not tokens:\n",
        "      return np.zeros(model.vector_size)\n",
        "\n",
        "    embeddings = []\n",
        "    for token in tokens:\n",
        "        if token in model:\n",
        "            embeddings.append(model[token])\n",
        "\n",
        "    if embeddings:\n",
        "        return np.mean(embeddings, axis=0)\n",
        "    else:\n",
        "      return np.zeros(model.vector_size)"
      ]
    },
    {
      "cell_type": "markdown",
      "id": "ecb03d69",
      "metadata": {
        "id": "ecb03d69"
      },
      "source": [
        "## Prepare text features"
      ]
    },
    {
      "cell_type": "code",
      "execution_count": 10,
      "id": "s4RFY7BrhVQh",
      "metadata": {
        "executionInfo": {
          "elapsed": 13,
          "status": "ok",
          "timestamp": 1748854126529,
          "user": {
            "displayName": "Natalia Koval",
            "userId": "10118236118774007377"
          },
          "user_tz": -180
        },
        "id": "s4RFY7BrhVQh"
      },
      "outputs": [],
      "source": [
        "def create_features(df, model):\n",
        "    \"\"\"Create features using embeddings\"\"\"\n",
        "    features = []\n",
        "\n",
        "    for idx, row in df.iterrows():\n",
        "        if idx % 10000 == 0:\n",
        "            print(f\"Precessing row {idx}/{len(df)}\")\n",
        "\n",
        "        # Get embeddings for each question\n",
        "        q1_emb = get_sentence_embedding(row['q1_tokens'], model)\n",
        "        q2_emb = get_sentence_embedding(row['q2_tokens'], model)\n",
        "\n",
        "        # Create similarity features\n",
        "        cos_sim = cosine_similarity(q1_emb.reshape(1, -1), q2_emb.reshape(1, -1))[0][0]\n",
        "        euclidean_dist = euclidean_distances(q1_emb.reshape(1, -1),\n",
        "                                             q2_emb.reshape(1, -1))[0][0]\n",
        "        manhattan_dist = manhattan_distances(q1_emb.reshape(1, -1),\n",
        "                                             q2_emb.reshape(1, -1))[0][0]\n",
        "\n",
        "        # Element-wise features\n",
        "        diff = q1_emb - q2_emb\n",
        "        mult = q1_emb * q2_emb\n",
        "\n",
        "        # Combine features\n",
        "        feature_vector = np.concatenate([\n",
        "            q1_emb, q2_emb, diff, mult, [cos_sim], [euclidean_dist], [manhattan_dist]\n",
        "        ])\n",
        "        features.append(feature_vector)\n",
        "\n",
        "    return np.array(features)"
      ]
    },
    {
      "cell_type": "code",
      "execution_count": 69,
      "id": "ipGqAV8Rowoh",
      "metadata": {
        "colab": {
          "base_uri": "https://localhost:8080/"
        },
        "executionInfo": {
          "elapsed": 527902,
          "status": "ok",
          "timestamp": 1748854727694,
          "user": {
            "displayName": "Natalia Koval",
            "userId": "10118236118774007377"
          },
          "user_tz": -180
        },
        "id": "ipGqAV8Rowoh",
        "outputId": "ec853fed-8dd0-493a-9744-16b5fde2ba06"
      },
      "outputs": [
        {
          "name": "stdout",
          "output_type": "stream",
          "text": [
            "Create features for Train set:\n",
            "Precessing row 0/258743\n",
            "Precessing row 10000/258743\n",
            "Precessing row 20000/258743\n",
            "Precessing row 30000/258743\n",
            "Precessing row 40000/258743\n",
            "Precessing row 50000/258743\n",
            "Precessing row 60000/258743\n",
            "Precessing row 70000/258743\n",
            "Precessing row 80000/258743\n",
            "Precessing row 90000/258743\n",
            "Precessing row 100000/258743\n",
            "Precessing row 110000/258743\n",
            "Precessing row 120000/258743\n",
            "Precessing row 130000/258743\n",
            "Precessing row 140000/258743\n",
            "Precessing row 150000/258743\n",
            "Precessing row 160000/258743\n",
            "Precessing row 170000/258743\n",
            "Precessing row 180000/258743\n",
            "Precessing row 190000/258743\n",
            "Precessing row 200000/258743\n",
            "Precessing row 210000/258743\n",
            "Precessing row 220000/258743\n",
            "Precessing row 230000/258743\n",
            "Precessing row 240000/258743\n",
            "Precessing row 250000/258743\n",
            "\n",
            "Create features for Validation set:\n",
            "Precessing row 0/64686\n",
            "Precessing row 10000/64686\n",
            "Precessing row 20000/64686\n",
            "Precessing row 30000/64686\n",
            "Precessing row 40000/64686\n",
            "Precessing row 50000/64686\n",
            "Precessing row 60000/64686\n"
          ]
        }
      ],
      "source": [
        "print(\"Create features for Train set:\")\n",
        "X_train_features = create_features(train_df, glove_model)\n",
        "\n",
        "print(\"\\nCreate features for Validation set:\")\n",
        "X_val_features = create_features(val_df, glove_model)"
      ]
    },
    {
      "cell_type": "markdown",
      "id": "-fKzGrbP8SkK",
      "metadata": {
        "id": "-fKzGrbP8SkK"
      },
      "source": [
        "## Train and Evaluate Logistic Regression"
      ]
    },
    {
      "cell_type": "code",
      "execution_count": 83,
      "id": "ima6VTHUpO3B",
      "metadata": {
        "executionInfo": {
          "elapsed": 1907,
          "status": "ok",
          "timestamp": 1748855333090,
          "user": {
            "displayName": "Natalia Koval",
            "userId": "10118236118774007377"
          },
          "user_tz": -180
        },
        "id": "ima6VTHUpO3B"
      },
      "outputs": [],
      "source": [
        "scaler = StandardScaler()\n",
        "X_train_scaled = scaler.fit_transform(X_train_features)\n",
        "X_val_scaled = scaler.transform(X_val_features)"
      ]
    },
    {
      "cell_type": "code",
      "execution_count": 84,
      "id": "9L4Ymhl6pgwT",
      "metadata": {
        "executionInfo": {
          "elapsed": 4,
          "status": "ok",
          "timestamp": 1748855333093,
          "user": {
            "displayName": "Natalia Koval",
            "userId": "10118236118774007377"
          },
          "user_tz": -180
        },
        "id": "9L4Ymhl6pgwT"
      },
      "outputs": [],
      "source": [
        "y_train = train_df['is_duplicate']\n",
        "y_val = val_df['is_duplicate']"
      ]
    },
    {
      "cell_type": "code",
      "execution_count": 85,
      "id": "r0A4laIRidE7",
      "metadata": {
        "colab": {
          "base_uri": "https://localhost:8080/",
          "height": 80
        },
        "executionInfo": {
          "elapsed": 23885,
          "status": "ok",
          "timestamp": 1748855358168,
          "user": {
            "displayName": "Natalia Koval",
            "userId": "10118236118774007377"
          },
          "user_tz": -180
        },
        "id": "r0A4laIRidE7",
        "outputId": "51e84f54-6bb8-406b-e426-50a60aee834f"
      },
      "outputs": [
        {
          "data": {
            "text/html": [
              "<style>#sk-container-id-2 {\n",
              "  /* Definition of color scheme common for light and dark mode */\n",
              "  --sklearn-color-text: #000;\n",
              "  --sklearn-color-text-muted: #666;\n",
              "  --sklearn-color-line: gray;\n",
              "  /* Definition of color scheme for unfitted estimators */\n",
              "  --sklearn-color-unfitted-level-0: #fff5e6;\n",
              "  --sklearn-color-unfitted-level-1: #f6e4d2;\n",
              "  --sklearn-color-unfitted-level-2: #ffe0b3;\n",
              "  --sklearn-color-unfitted-level-3: chocolate;\n",
              "  /* Definition of color scheme for fitted estimators */\n",
              "  --sklearn-color-fitted-level-0: #f0f8ff;\n",
              "  --sklearn-color-fitted-level-1: #d4ebff;\n",
              "  --sklearn-color-fitted-level-2: #b3dbfd;\n",
              "  --sklearn-color-fitted-level-3: cornflowerblue;\n",
              "\n",
              "  /* Specific color for light theme */\n",
              "  --sklearn-color-text-on-default-background: var(--sg-text-color, var(--theme-code-foreground, var(--jp-content-font-color1, black)));\n",
              "  --sklearn-color-background: var(--sg-background-color, var(--theme-background, var(--jp-layout-color0, white)));\n",
              "  --sklearn-color-border-box: var(--sg-text-color, var(--theme-code-foreground, var(--jp-content-font-color1, black)));\n",
              "  --sklearn-color-icon: #696969;\n",
              "\n",
              "  @media (prefers-color-scheme: dark) {\n",
              "    /* Redefinition of color scheme for dark theme */\n",
              "    --sklearn-color-text-on-default-background: var(--sg-text-color, var(--theme-code-foreground, var(--jp-content-font-color1, white)));\n",
              "    --sklearn-color-background: var(--sg-background-color, var(--theme-background, var(--jp-layout-color0, #111)));\n",
              "    --sklearn-color-border-box: var(--sg-text-color, var(--theme-code-foreground, var(--jp-content-font-color1, white)));\n",
              "    --sklearn-color-icon: #878787;\n",
              "  }\n",
              "}\n",
              "\n",
              "#sk-container-id-2 {\n",
              "  color: var(--sklearn-color-text);\n",
              "}\n",
              "\n",
              "#sk-container-id-2 pre {\n",
              "  padding: 0;\n",
              "}\n",
              "\n",
              "#sk-container-id-2 input.sk-hidden--visually {\n",
              "  border: 0;\n",
              "  clip: rect(1px 1px 1px 1px);\n",
              "  clip: rect(1px, 1px, 1px, 1px);\n",
              "  height: 1px;\n",
              "  margin: -1px;\n",
              "  overflow: hidden;\n",
              "  padding: 0;\n",
              "  position: absolute;\n",
              "  width: 1px;\n",
              "}\n",
              "\n",
              "#sk-container-id-2 div.sk-dashed-wrapped {\n",
              "  border: 1px dashed var(--sklearn-color-line);\n",
              "  margin: 0 0.4em 0.5em 0.4em;\n",
              "  box-sizing: border-box;\n",
              "  padding-bottom: 0.4em;\n",
              "  background-color: var(--sklearn-color-background);\n",
              "}\n",
              "\n",
              "#sk-container-id-2 div.sk-container {\n",
              "  /* jupyter's `normalize.less` sets `[hidden] { display: none; }`\n",
              "     but bootstrap.min.css set `[hidden] { display: none !important; }`\n",
              "     so we also need the `!important` here to be able to override the\n",
              "     default hidden behavior on the sphinx rendered scikit-learn.org.\n",
              "     See: https://github.com/scikit-learn/scikit-learn/issues/21755 */\n",
              "  display: inline-block !important;\n",
              "  position: relative;\n",
              "}\n",
              "\n",
              "#sk-container-id-2 div.sk-text-repr-fallback {\n",
              "  display: none;\n",
              "}\n",
              "\n",
              "div.sk-parallel-item,\n",
              "div.sk-serial,\n",
              "div.sk-item {\n",
              "  /* draw centered vertical line to link estimators */\n",
              "  background-image: linear-gradient(var(--sklearn-color-text-on-default-background), var(--sklearn-color-text-on-default-background));\n",
              "  background-size: 2px 100%;\n",
              "  background-repeat: no-repeat;\n",
              "  background-position: center center;\n",
              "}\n",
              "\n",
              "/* Parallel-specific style estimator block */\n",
              "\n",
              "#sk-container-id-2 div.sk-parallel-item::after {\n",
              "  content: \"\";\n",
              "  width: 100%;\n",
              "  border-bottom: 2px solid var(--sklearn-color-text-on-default-background);\n",
              "  flex-grow: 1;\n",
              "}\n",
              "\n",
              "#sk-container-id-2 div.sk-parallel {\n",
              "  display: flex;\n",
              "  align-items: stretch;\n",
              "  justify-content: center;\n",
              "  background-color: var(--sklearn-color-background);\n",
              "  position: relative;\n",
              "}\n",
              "\n",
              "#sk-container-id-2 div.sk-parallel-item {\n",
              "  display: flex;\n",
              "  flex-direction: column;\n",
              "}\n",
              "\n",
              "#sk-container-id-2 div.sk-parallel-item:first-child::after {\n",
              "  align-self: flex-end;\n",
              "  width: 50%;\n",
              "}\n",
              "\n",
              "#sk-container-id-2 div.sk-parallel-item:last-child::after {\n",
              "  align-self: flex-start;\n",
              "  width: 50%;\n",
              "}\n",
              "\n",
              "#sk-container-id-2 div.sk-parallel-item:only-child::after {\n",
              "  width: 0;\n",
              "}\n",
              "\n",
              "/* Serial-specific style estimator block */\n",
              "\n",
              "#sk-container-id-2 div.sk-serial {\n",
              "  display: flex;\n",
              "  flex-direction: column;\n",
              "  align-items: center;\n",
              "  background-color: var(--sklearn-color-background);\n",
              "  padding-right: 1em;\n",
              "  padding-left: 1em;\n",
              "}\n",
              "\n",
              "\n",
              "/* Toggleable style: style used for estimator/Pipeline/ColumnTransformer box that is\n",
              "clickable and can be expanded/collapsed.\n",
              "- Pipeline and ColumnTransformer use this feature and define the default style\n",
              "- Estimators will overwrite some part of the style using the `sk-estimator` class\n",
              "*/\n",
              "\n",
              "/* Pipeline and ColumnTransformer style (default) */\n",
              "\n",
              "#sk-container-id-2 div.sk-toggleable {\n",
              "  /* Default theme specific background. It is overwritten whether we have a\n",
              "  specific estimator or a Pipeline/ColumnTransformer */\n",
              "  background-color: var(--sklearn-color-background);\n",
              "}\n",
              "\n",
              "/* Toggleable label */\n",
              "#sk-container-id-2 label.sk-toggleable__label {\n",
              "  cursor: pointer;\n",
              "  display: flex;\n",
              "  width: 100%;\n",
              "  margin-bottom: 0;\n",
              "  padding: 0.5em;\n",
              "  box-sizing: border-box;\n",
              "  text-align: center;\n",
              "  align-items: start;\n",
              "  justify-content: space-between;\n",
              "  gap: 0.5em;\n",
              "}\n",
              "\n",
              "#sk-container-id-2 label.sk-toggleable__label .caption {\n",
              "  font-size: 0.6rem;\n",
              "  font-weight: lighter;\n",
              "  color: var(--sklearn-color-text-muted);\n",
              "}\n",
              "\n",
              "#sk-container-id-2 label.sk-toggleable__label-arrow:before {\n",
              "  /* Arrow on the left of the label */\n",
              "  content: \"▸\";\n",
              "  float: left;\n",
              "  margin-right: 0.25em;\n",
              "  color: var(--sklearn-color-icon);\n",
              "}\n",
              "\n",
              "#sk-container-id-2 label.sk-toggleable__label-arrow:hover:before {\n",
              "  color: var(--sklearn-color-text);\n",
              "}\n",
              "\n",
              "/* Toggleable content - dropdown */\n",
              "\n",
              "#sk-container-id-2 div.sk-toggleable__content {\n",
              "  max-height: 0;\n",
              "  max-width: 0;\n",
              "  overflow: hidden;\n",
              "  text-align: left;\n",
              "  /* unfitted */\n",
              "  background-color: var(--sklearn-color-unfitted-level-0);\n",
              "}\n",
              "\n",
              "#sk-container-id-2 div.sk-toggleable__content.fitted {\n",
              "  /* fitted */\n",
              "  background-color: var(--sklearn-color-fitted-level-0);\n",
              "}\n",
              "\n",
              "#sk-container-id-2 div.sk-toggleable__content pre {\n",
              "  margin: 0.2em;\n",
              "  border-radius: 0.25em;\n",
              "  color: var(--sklearn-color-text);\n",
              "  /* unfitted */\n",
              "  background-color: var(--sklearn-color-unfitted-level-0);\n",
              "}\n",
              "\n",
              "#sk-container-id-2 div.sk-toggleable__content.fitted pre {\n",
              "  /* unfitted */\n",
              "  background-color: var(--sklearn-color-fitted-level-0);\n",
              "}\n",
              "\n",
              "#sk-container-id-2 input.sk-toggleable__control:checked~div.sk-toggleable__content {\n",
              "  /* Expand drop-down */\n",
              "  max-height: 200px;\n",
              "  max-width: 100%;\n",
              "  overflow: auto;\n",
              "}\n",
              "\n",
              "#sk-container-id-2 input.sk-toggleable__control:checked~label.sk-toggleable__label-arrow:before {\n",
              "  content: \"▾\";\n",
              "}\n",
              "\n",
              "/* Pipeline/ColumnTransformer-specific style */\n",
              "\n",
              "#sk-container-id-2 div.sk-label input.sk-toggleable__control:checked~label.sk-toggleable__label {\n",
              "  color: var(--sklearn-color-text);\n",
              "  background-color: var(--sklearn-color-unfitted-level-2);\n",
              "}\n",
              "\n",
              "#sk-container-id-2 div.sk-label.fitted input.sk-toggleable__control:checked~label.sk-toggleable__label {\n",
              "  background-color: var(--sklearn-color-fitted-level-2);\n",
              "}\n",
              "\n",
              "/* Estimator-specific style */\n",
              "\n",
              "/* Colorize estimator box */\n",
              "#sk-container-id-2 div.sk-estimator input.sk-toggleable__control:checked~label.sk-toggleable__label {\n",
              "  /* unfitted */\n",
              "  background-color: var(--sklearn-color-unfitted-level-2);\n",
              "}\n",
              "\n",
              "#sk-container-id-2 div.sk-estimator.fitted input.sk-toggleable__control:checked~label.sk-toggleable__label {\n",
              "  /* fitted */\n",
              "  background-color: var(--sklearn-color-fitted-level-2);\n",
              "}\n",
              "\n",
              "#sk-container-id-2 div.sk-label label.sk-toggleable__label,\n",
              "#sk-container-id-2 div.sk-label label {\n",
              "  /* The background is the default theme color */\n",
              "  color: var(--sklearn-color-text-on-default-background);\n",
              "}\n",
              "\n",
              "/* On hover, darken the color of the background */\n",
              "#sk-container-id-2 div.sk-label:hover label.sk-toggleable__label {\n",
              "  color: var(--sklearn-color-text);\n",
              "  background-color: var(--sklearn-color-unfitted-level-2);\n",
              "}\n",
              "\n",
              "/* Label box, darken color on hover, fitted */\n",
              "#sk-container-id-2 div.sk-label.fitted:hover label.sk-toggleable__label.fitted {\n",
              "  color: var(--sklearn-color-text);\n",
              "  background-color: var(--sklearn-color-fitted-level-2);\n",
              "}\n",
              "\n",
              "/* Estimator label */\n",
              "\n",
              "#sk-container-id-2 div.sk-label label {\n",
              "  font-family: monospace;\n",
              "  font-weight: bold;\n",
              "  display: inline-block;\n",
              "  line-height: 1.2em;\n",
              "}\n",
              "\n",
              "#sk-container-id-2 div.sk-label-container {\n",
              "  text-align: center;\n",
              "}\n",
              "\n",
              "/* Estimator-specific */\n",
              "#sk-container-id-2 div.sk-estimator {\n",
              "  font-family: monospace;\n",
              "  border: 1px dotted var(--sklearn-color-border-box);\n",
              "  border-radius: 0.25em;\n",
              "  box-sizing: border-box;\n",
              "  margin-bottom: 0.5em;\n",
              "  /* unfitted */\n",
              "  background-color: var(--sklearn-color-unfitted-level-0);\n",
              "}\n",
              "\n",
              "#sk-container-id-2 div.sk-estimator.fitted {\n",
              "  /* fitted */\n",
              "  background-color: var(--sklearn-color-fitted-level-0);\n",
              "}\n",
              "\n",
              "/* on hover */\n",
              "#sk-container-id-2 div.sk-estimator:hover {\n",
              "  /* unfitted */\n",
              "  background-color: var(--sklearn-color-unfitted-level-2);\n",
              "}\n",
              "\n",
              "#sk-container-id-2 div.sk-estimator.fitted:hover {\n",
              "  /* fitted */\n",
              "  background-color: var(--sklearn-color-fitted-level-2);\n",
              "}\n",
              "\n",
              "/* Specification for estimator info (e.g. \"i\" and \"?\") */\n",
              "\n",
              "/* Common style for \"i\" and \"?\" */\n",
              "\n",
              ".sk-estimator-doc-link,\n",
              "a:link.sk-estimator-doc-link,\n",
              "a:visited.sk-estimator-doc-link {\n",
              "  float: right;\n",
              "  font-size: smaller;\n",
              "  line-height: 1em;\n",
              "  font-family: monospace;\n",
              "  background-color: var(--sklearn-color-background);\n",
              "  border-radius: 1em;\n",
              "  height: 1em;\n",
              "  width: 1em;\n",
              "  text-decoration: none !important;\n",
              "  margin-left: 0.5em;\n",
              "  text-align: center;\n",
              "  /* unfitted */\n",
              "  border: var(--sklearn-color-unfitted-level-1) 1pt solid;\n",
              "  color: var(--sklearn-color-unfitted-level-1);\n",
              "}\n",
              "\n",
              ".sk-estimator-doc-link.fitted,\n",
              "a:link.sk-estimator-doc-link.fitted,\n",
              "a:visited.sk-estimator-doc-link.fitted {\n",
              "  /* fitted */\n",
              "  border: var(--sklearn-color-fitted-level-1) 1pt solid;\n",
              "  color: var(--sklearn-color-fitted-level-1);\n",
              "}\n",
              "\n",
              "/* On hover */\n",
              "div.sk-estimator:hover .sk-estimator-doc-link:hover,\n",
              ".sk-estimator-doc-link:hover,\n",
              "div.sk-label-container:hover .sk-estimator-doc-link:hover,\n",
              ".sk-estimator-doc-link:hover {\n",
              "  /* unfitted */\n",
              "  background-color: var(--sklearn-color-unfitted-level-3);\n",
              "  color: var(--sklearn-color-background);\n",
              "  text-decoration: none;\n",
              "}\n",
              "\n",
              "div.sk-estimator.fitted:hover .sk-estimator-doc-link.fitted:hover,\n",
              ".sk-estimator-doc-link.fitted:hover,\n",
              "div.sk-label-container:hover .sk-estimator-doc-link.fitted:hover,\n",
              ".sk-estimator-doc-link.fitted:hover {\n",
              "  /* fitted */\n",
              "  background-color: var(--sklearn-color-fitted-level-3);\n",
              "  color: var(--sklearn-color-background);\n",
              "  text-decoration: none;\n",
              "}\n",
              "\n",
              "/* Span, style for the box shown on hovering the info icon */\n",
              ".sk-estimator-doc-link span {\n",
              "  display: none;\n",
              "  z-index: 9999;\n",
              "  position: relative;\n",
              "  font-weight: normal;\n",
              "  right: .2ex;\n",
              "  padding: .5ex;\n",
              "  margin: .5ex;\n",
              "  width: min-content;\n",
              "  min-width: 20ex;\n",
              "  max-width: 50ex;\n",
              "  color: var(--sklearn-color-text);\n",
              "  box-shadow: 2pt 2pt 4pt #999;\n",
              "  /* unfitted */\n",
              "  background: var(--sklearn-color-unfitted-level-0);\n",
              "  border: .5pt solid var(--sklearn-color-unfitted-level-3);\n",
              "}\n",
              "\n",
              ".sk-estimator-doc-link.fitted span {\n",
              "  /* fitted */\n",
              "  background: var(--sklearn-color-fitted-level-0);\n",
              "  border: var(--sklearn-color-fitted-level-3);\n",
              "}\n",
              "\n",
              ".sk-estimator-doc-link:hover span {\n",
              "  display: block;\n",
              "}\n",
              "\n",
              "/* \"?\"-specific style due to the `<a>` HTML tag */\n",
              "\n",
              "#sk-container-id-2 a.estimator_doc_link {\n",
              "  float: right;\n",
              "  font-size: 1rem;\n",
              "  line-height: 1em;\n",
              "  font-family: monospace;\n",
              "  background-color: var(--sklearn-color-background);\n",
              "  border-radius: 1rem;\n",
              "  height: 1rem;\n",
              "  width: 1rem;\n",
              "  text-decoration: none;\n",
              "  /* unfitted */\n",
              "  color: var(--sklearn-color-unfitted-level-1);\n",
              "  border: var(--sklearn-color-unfitted-level-1) 1pt solid;\n",
              "}\n",
              "\n",
              "#sk-container-id-2 a.estimator_doc_link.fitted {\n",
              "  /* fitted */\n",
              "  border: var(--sklearn-color-fitted-level-1) 1pt solid;\n",
              "  color: var(--sklearn-color-fitted-level-1);\n",
              "}\n",
              "\n",
              "/* On hover */\n",
              "#sk-container-id-2 a.estimator_doc_link:hover {\n",
              "  /* unfitted */\n",
              "  background-color: var(--sklearn-color-unfitted-level-3);\n",
              "  color: var(--sklearn-color-background);\n",
              "  text-decoration: none;\n",
              "}\n",
              "\n",
              "#sk-container-id-2 a.estimator_doc_link.fitted:hover {\n",
              "  /* fitted */\n",
              "  background-color: var(--sklearn-color-fitted-level-3);\n",
              "}\n",
              "</style><div id=\"sk-container-id-2\" class=\"sk-top-container\"><div class=\"sk-text-repr-fallback\"><pre>LogisticRegression(class_weight=&#x27;balanced&#x27;, max_iter=1000, random_state=7)</pre><b>In a Jupyter environment, please rerun this cell to show the HTML representation or trust the notebook. <br />On GitHub, the HTML representation is unable to render, please try loading this page with nbviewer.org.</b></div><div class=\"sk-container\" hidden><div class=\"sk-item\"><div class=\"sk-estimator fitted sk-toggleable\"><input class=\"sk-toggleable__control sk-hidden--visually\" id=\"sk-estimator-id-2\" type=\"checkbox\" checked><label for=\"sk-estimator-id-2\" class=\"sk-toggleable__label fitted sk-toggleable__label-arrow\"><div><div>LogisticRegression</div></div><div><a class=\"sk-estimator-doc-link fitted\" rel=\"noreferrer\" target=\"_blank\" href=\"https://scikit-learn.org/1.6/modules/generated/sklearn.linear_model.LogisticRegression.html\">?<span>Documentation for LogisticRegression</span></a><span class=\"sk-estimator-doc-link fitted\">i<span>Fitted</span></span></div></label><div class=\"sk-toggleable__content fitted\"><pre>LogisticRegression(class_weight=&#x27;balanced&#x27;, max_iter=1000, random_state=7)</pre></div> </div></div></div></div>"
            ],
            "text/plain": [
              "LogisticRegression(class_weight='balanced', max_iter=1000, random_state=7)"
            ]
          },
          "execution_count": 85,
          "metadata": {},
          "output_type": "execute_result"
        }
      ],
      "source": [
        "classifier = LogisticRegression(random_state=7, class_weight='balanced', max_iter=1000)\n",
        "classifier.fit(X_train_scaled, y_train)"
      ]
    },
    {
      "cell_type": "code",
      "execution_count": 91,
      "id": "C2Ugercu3iCm",
      "metadata": {
        "colab": {
          "base_uri": "https://localhost:8080/"
        },
        "executionInfo": {
          "elapsed": 396,
          "status": "ok",
          "timestamp": 1748855949680,
          "user": {
            "displayName": "Natalia Koval",
            "userId": "10118236118774007377"
          },
          "user_tz": -180
        },
        "id": "C2Ugercu3iCm",
        "outputId": "7991e899-13b1-4e4b-be6b-02e262dc8c96"
      },
      "outputs": [
        {
          "name": "stdout",
          "output_type": "stream",
          "text": [
            "Log loss on Train set: 0.5662\n",
            "Log loss on Validation set: 0.5654\n"
          ]
        }
      ],
      "source": [
        "log_loss_train, log_loss_val = evaluate_model(\n",
        "    X_train_scaled, X_val_scaled, y_train, y_val, classifier\n",
        ")\n",
        "print(f\"Log loss on Train set: {log_loss_train:.4f}\")\n",
        "print(f\"Log loss on Validation set: {log_loss_val:.4f}\")"
      ]
    },
    {
      "cell_type": "code",
      "execution_count": null,
      "id": "OFBZQN7e6MlH",
      "metadata": {
        "colab": {
          "base_uri": "https://localhost:8080/",
          "height": 507
        },
        "executionInfo": {
          "elapsed": 317,
          "status": "ok",
          "timestamp": 1748855811311,
          "user": {
            "displayName": "Natalia Koval",
            "userId": "10118236118774007377"
          },
          "user_tz": -180
        },
        "id": "OFBZQN7e6MlH",
        "outputId": "92aedbc6-2b3f-4b42-b63e-d2df9b0867a6"
      },
      "outputs": [
        {
          "name": "stdout",
          "output_type": "stream",
          "text": [
            "Classification Report:\n",
            "               precision    recall  f1-score   support\n",
            "\n",
            "Not Duplicate       0.83      0.67      0.74     40804\n",
            "    Duplicate       0.58      0.76      0.65     23882\n",
            "\n",
            "     accuracy                           0.70     64686\n",
            "    macro avg       0.70      0.72      0.70     64686\n",
            " weighted avg       0.73      0.70      0.71     64686\n",
            "\n"
          ]
        },
        {
          "data": {
            "image/png": "[encoded data removed]",
            "text/plain": [
              "<Figure size 400x300 with 2 Axes>"
            ]
          },
          "metadata": {},
          "output_type": "display_data"
        }
      ],
      "source": [
        "print(f\"Classification Report:\")\n",
        "y_pred = classifier.predict(X_val_scaled)\n",
        "print(classification_report(y_val, y_pred,\n",
        "                            target_names=['Not Duplicate', 'Duplicate']))\n",
        "\n",
        "\n",
        "plot_confusion_matrix(y_val, y_pred)"
      ]
    },
    {
      "cell_type": "code",
      "execution_count": 90,
      "id": "S6sbJUfS51Be",
      "metadata": {
        "executionInfo": {
          "elapsed": 235,
          "status": "ok",
          "timestamp": 1748855888739,
          "user": {
            "displayName": "Natalia Koval",
            "userId": "10118236118774007377"
          },
          "user_tz": -180
        },
        "id": "S6sbJUfS51Be"
      },
      "outputs": [],
      "source": [
        "experiment_results = joblib.load(os.path.join(DATA_PATH, 'experiment_results.joblib'))"
      ]
    },
    {
      "cell_type": "code",
      "execution_count": 93,
      "id": "2e7vhTLS5loP",
      "metadata": {
        "executionInfo": {
          "elapsed": 4,
          "status": "ok",
          "timestamp": 1748855994869,
          "user": {
            "displayName": "Natalia Koval",
            "userId": "10118236118774007377"
          },
          "user_tz": -180
        },
        "id": "2e7vhTLS5loP"
      },
      "outputs": [],
      "source": [
        "results = {}\n",
        "results['model'] = 'GloVe Embeddings with Logistic Regression'\n",
        "results['log_loss_train'] = np.round(log_loss_train, 5)\n",
        "results['log_loss_val'] = np.round(log_loss_val, 5)\n",
        "\n",
        "experiment_results.append(results)"
      ]
    },
    {
      "cell_type": "code",
      "execution_count": 94,
      "id": "TNhJBqdH53KM",
      "metadata": {
        "colab": {
          "base_uri": "https://localhost:8080/"
        },
        "executionInfo": {
          "elapsed": 6,
          "status": "ok",
          "timestamp": 1748856002783,
          "user": {
            "displayName": "Natalia Koval",
            "userId": "10118236118774007377"
          },
          "user_tz": -180
        },
        "id": "TNhJBqdH53KM",
        "outputId": "58621d42-efcd-4924-c62a-c6492003d40e"
      },
      "outputs": [
        {
          "data": {
            "text/plain": [
              "['/content/drive/MyDrive/quora_duplicate_questions/data/processed/experiment_results.joblib']"
            ]
          },
          "execution_count": 94,
          "metadata": {},
          "output_type": "execute_result"
        }
      ],
      "source": [
        "joblib.dump(experiment_results, os.path.join(DATA_PATH, 'experiment_results.joblib'))"
      ]
    },
    {
      "cell_type": "markdown",
      "id": "751c919c",
      "metadata": {},
      "source": [
        "`experiment_results` is updated and saved with the latest experiment's metrics."
      ]
    }
  ],
  "metadata": {
    "colab": {
      "provenance": []
    },
    "kernelspec": {
      "display_name": "py312",
      "language": "python",
      "name": "python3"
    },
    "language_info": {
      "codemirror_mode": {
        "name": "ipython",
        "version": 3
      },
      "file_extension": ".py",
      "mimetype": "text/x-python",
      "name": "python",
      "nbconvert_exporter": "python",
      "pygments_lexer": "ipython3",
      "version": "3.12.7"
    }
  },
  "nbformat": 4,
  "nbformat_minor": 5
}
