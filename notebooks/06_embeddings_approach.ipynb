{
 "cells": [
  {
   "cell_type": "markdown",
   "id": "0",
   "metadata": {
    "id": "8c5543eb"
   },
   "source": [
    "## Importing Libraries"
   ]
  },
  {
   "cell_type": "code",
   "execution_count": null,
   "id": "1",
   "metadata": {
    "executionInfo": {
     "elapsed": 3535,
     "status": "ok",
     "timestamp": 1748849946862,
     "user": {
      "displayName": "Natalia Koval",
      "userId": "10118236118774007377"
     },
     "user_tz": -180
    },
    "id": "bdhvrA-Bks1j"
   },
   "outputs": [],
   "source": [
    "! pip install gensim --quiet"
   ]
  },
  {
   "cell_type": "code",
   "execution_count": null,
   "id": "2",
   "metadata": {
    "colab": {
     "base_uri": "https://localhost:8080/"
    },
    "executionInfo": {
     "elapsed": 27598,
     "status": "ok",
     "timestamp": 1748850021221,
     "user": {
      "displayName": "Natalia Koval",
      "userId": "10118236118774007377"
     },
     "user_tz": -180
    },
    "id": "-PzQE33IXIpR",
    "outputId": "a9f1ee91-9096-44ee-d60c-c53d4794036e"
   },
   "outputs": [],
   "source": [
    "from google.colab import drive\n",
    "drive.mount('/content/drive')"
   ]
  },
  {
   "cell_type": "code",
   "execution_count": null,
   "id": "3",
   "metadata": {
    "executionInfo": {
     "elapsed": 2,
     "status": "ok",
     "timestamp": 1748853267095,
     "user": {
      "displayName": "Natalia Koval",
      "userId": "10118236118774007377"
     },
     "user_tz": -180
    },
    "id": "89a40644"
   },
   "outputs": [],
   "source": [
    "import sys\n",
    "import os\n",
    "sys.path.append('/content/drive/MyDrive/quora_duplicate_questions/src')\n",
    "\n",
    "import joblib\n",
    "import re\n",
    "\n",
    "import numpy as np\n",
    "import pandas as pd\n",
    "\n",
    "from sklearn.metrics import classification_report\n",
    "from sklearn.metrics.pairwise import (cosine_similarity,\n",
    "                                      euclidean_distances,\n",
    "                                      manhattan_distances)\n",
    "from sklearn.linear_model import LogisticRegression\n",
    "from sklearn.preprocessing import StandardScaler\n",
    "import gensim.downloader as api\n",
    "\n",
    "import nltk\n",
    "from nltk.corpus import stopwords\n",
    "from nltk.tokenize import word_tokenize\n",
    "nltk.download('punkt_tab', quiet=True)\n",
    "nltk.download('stopwords', quiet=True)\n",
    "\n",
    "from tqdm.auto import tqdm\n",
    "tqdm.pandas()\n",
    "\n",
    "from utils import evaluate_model, plot_confusion_matrix"
   ]
  },
  {
   "cell_type": "markdown",
   "id": "4",
   "metadata": {
    "id": "ae406ef9"
   },
   "source": [
    "## Load data"
   ]
  },
  {
   "cell_type": "code",
   "execution_count": null,
   "id": "5",
   "metadata": {
    "executionInfo": {
     "elapsed": 4844,
     "status": "ok",
     "timestamp": 1748852132219,
     "user": {
      "displayName": "Natalia Koval",
      "userId": "10118236118774007377"
     },
     "user_tz": -180
    },
    "id": "bjPOlpZ5XWJy"
   },
   "outputs": [],
   "source": [
    "DATA_PATH = '/content/drive/MyDrive/quora_duplicate_questions/data/processed'\n",
    "train_df = pd.read_csv(os.path.join(DATA_PATH, 'train.csv.zip'), compression='zip')\n",
    "val_df = pd.read_csv(os.path.join(DATA_PATH, 'val.csv.zip'), compression='zip')"
   ]
  },
  {
   "cell_type": "markdown",
   "id": "6",
   "metadata": {
    "id": "wI48YhTjoGV0"
   },
   "source": [
    "## Preprocess text"
   ]
  },
  {
   "cell_type": "code",
   "execution_count": null,
   "id": "7",
   "metadata": {
    "executionInfo": {
     "elapsed": 43,
     "status": "ok",
     "timestamp": 1748852135019,
     "user": {
      "displayName": "Natalia Koval",
      "userId": "10118236118774007377"
     },
     "user_tz": -180
    },
    "id": "uPEWQF6BoPDG"
   },
   "outputs": [],
   "source": [
    "def preprocess_text(text):\n",
    "    \"\"\"Clean and preprocess text\"\"\"\n",
    "    if pd.isna(text):\n",
    "        return []\n",
    "\n",
    "    # Convert to lowercase\n",
    "    text = str(text).lower()\n",
    "\n",
    "    # Remove punctuation\n",
    "    text = re.sub(r'[^\\w\\s]', '', text)\n",
    "\n",
    "    stop_words = set(stopwords.words('english'))\n",
    "\n",
    "    tokens = word_tokenize(text)\n",
    "    tokens = [token for token in tokens if token not in stop_words]\n",
    "\n",
    "    return tokens"
   ]
  },
  {
   "cell_type": "code",
   "execution_count": null,
   "id": "8",
   "metadata": {
    "colab": {
     "base_uri": "https://localhost:8080/",
     "height": 98,
     "referenced_widgets": [
      "3cff8c371a9c4ac1876c507e2211c25e",
      "2c4d6b88d1ff47ff8f564dd221598925",
      "913f7fed1f5946bd9d2af9d477ec73ce",
      "eca77be1680444e785279a835f2a0dc7",
      "4daf07f2145f4de7b5f9b98238ff878f",
      "df89a220a0dc49358b5c65bbe2131593",
      "6239e6a2f0b44e2fbf26e3030a11fb06",
      "525a87f023b9447bbf036442792d0b82",
      "d4b77f29664a4f458c50f370fb8dfc85",
      "355bdaa4e29c4474a4ee09afb0875840",
      "ff3fd3b3596c49efa04bea3fb7917630",
      "3d1e157a86c745129adea0bad3c7f3d3",
      "92835f645e484515a418e61150b69b99",
      "4b4af3132bde4ef585d96e46c1437728",
      "7760fac4c9a54b96afc672de87f67935",
      "e1d4889db6044ed5aad614b6663a68bc",
      "046351d654b34e6391dc58bd78c134b7",
      "fef177b230dc475da159c167686bbf66",
      "a0d056c24781466a90b13656b62abeb5",
      "a00a64cb9ef24997a2cb29c9e0ede1ea",
      "b38b906fdb924ca48092972e9a48d0cd",
      "708bea7fc5b84d49b9ceb100ef3978b5"
     ]
    },
    "executionInfo": {
     "elapsed": 180636,
     "status": "ok",
     "timestamp": 1748852944878,
     "user": {
      "displayName": "Natalia Koval",
      "userId": "10118236118774007377"
     },
     "user_tz": -180
    },
    "id": "e_sbH1EBerGO",
    "outputId": "315bb595-903c-480d-ff66-0bbff74be0f3"
   },
   "outputs": [],
   "source": [
    "print(\"Preprocessing questions for Train set...\")\n",
    "train_df['q1_tokens'] = train_df['question1'].progress_apply(preprocess_text)\n",
    "train_df['q2_tokens'] = train_df['question2'].progress_apply(preprocess_text)"
   ]
  },
  {
   "cell_type": "code",
   "execution_count": null,
   "id": "9",
   "metadata": {
    "colab": {
     "base_uri": "https://localhost:8080/",
     "height": 98,
     "referenced_widgets": [
      "a934af2ceda84e5e91e9c51c1d45d28b",
      "a0b829c0969c4ec487bc5e0969e91551",
      "95795b8f756040d99d12712a9a06c8ca",
      "cee6d2a3eb2e4eaaa7072c45714fa073",
      "cbeae08d1d1a497ea6db42354376732f",
      "fd33693436854361998f46300d3514e2",
      "93e1fe07bd234607bac7645acb559e14",
      "2a606d21706842049e957dd77ff32ec1",
      "9bba7b06d766489487e42d65499a8694",
      "946674d36a68484b93c6cb87b87e45d2",
      "83fa3da35b384802b3858f87a2d2587f",
      "069b334afbe94a1d80a716a476000211",
      "fc68b210715049d39ad08e49b83aa542",
      "1c40ffdaff4342a2a6910c4606baf827",
      "d33696a71c2646e88593d779a037daf8",
      "142a2367cba14e4296ca8b720f8fe015",
      "b4bc2679edeb4f34b0bf4fe8ea2aaeae",
      "e5daa4c093ab43c6859a10a8d9fb6c77",
      "6f1361a455fd4be4ad30dbb1a5f95d4a",
      "22b069a331ff4652a2332c4e4042e4a5",
      "c134e51ae5fa41d09745fb3b0bd4a97d",
      "ff72455e660c41e49c493d7199b40704"
     ]
    },
    "executionInfo": {
     "elapsed": 46666,
     "status": "ok",
     "timestamp": 1748852991547,
     "user": {
      "displayName": "Natalia Koval",
      "userId": "10118236118774007377"
     },
     "user_tz": -180
    },
    "id": "c55Ni4Zem162",
    "outputId": "6be9230e-c8cc-49af-afd8-3b3347b284cc"
   },
   "outputs": [],
   "source": [
    "print(\"Preprocessing questions for Validation set...\")\n",
    "val_df['q1_tokens'] = val_df['question1'].progress_apply(preprocess_text)\n",
    "val_df['q2_tokens'] = val_df['question2'].progress_apply(preprocess_text)"
   ]
  },
  {
   "cell_type": "markdown",
   "id": "10",
   "metadata": {
    "id": "rJYHycATppi9"
   },
   "source": [
    "## Load GloVe Embeddings"
   ]
  },
  {
   "cell_type": "code",
   "execution_count": null,
   "id": "11",
   "metadata": {
    "colab": {
     "base_uri": "https://localhost:8080/"
    },
    "executionInfo": {
     "elapsed": 34544,
     "status": "ok",
     "timestamp": 1748852251515,
     "user": {
      "displayName": "Natalia Koval",
      "userId": "10118236118774007377"
     },
     "user_tz": -180
    },
    "id": "bI3xkG2-7L88",
    "outputId": "14a229b3-ab6d-414e-e1a3-d39f5009282d"
   },
   "outputs": [],
   "source": [
    "glove_name='glove-wiki-gigaword-100'\n",
    "\n",
    "glove_model = api.load(glove_name)\n",
    "print(f\"GloVe model loaded successfully. Vocabulary size: {len(glove_model)}\")\n",
    "print(f\"Embedding dimension: {glove_model.vector_size}\")"
   ]
  },
  {
   "cell_type": "code",
   "execution_count": null,
   "id": "12",
   "metadata": {
    "executionInfo": {
     "elapsed": 7,
     "status": "ok",
     "timestamp": 1748852991557,
     "user": {
      "displayName": "Natalia Koval",
      "userId": "10118236118774007377"
     },
     "user_tz": -180
    },
    "id": "nIJhnsMs7sh7"
   },
   "outputs": [],
   "source": [
    "def get_sentence_embedding(tokens, model):\n",
    "    \"\"\"Get sentence embedding by averaging word embeddings\"\"\"\n",
    "    if not tokens:\n",
    "      return np.zeros(model.vector_size)\n",
    "\n",
    "    embeddings = []\n",
    "    for token in tokens:\n",
    "        if token in model:\n",
    "            embeddings.append(model[token])\n",
    "\n",
    "    if embeddings:\n",
    "        return np.mean(embeddings, axis=0)\n",
    "    else:\n",
    "      return np.zeros(model.vector_size)"
   ]
  },
  {
   "cell_type": "markdown",
   "id": "13",
   "metadata": {
    "id": "ecb03d69"
   },
   "source": [
    "## Prepare text features"
   ]
  },
  {
   "cell_type": "code",
   "execution_count": null,
   "id": "14",
   "metadata": {
    "executionInfo": {
     "elapsed": 13,
     "status": "ok",
     "timestamp": 1748854126529,
     "user": {
      "displayName": "Natalia Koval",
      "userId": "10118236118774007377"
     },
     "user_tz": -180
    },
    "id": "s4RFY7BrhVQh"
   },
   "outputs": [],
   "source": [
    "def create_features(df, model):\n",
    "    \"\"\"Create features using embeddings\"\"\"\n",
    "    features = []\n",
    "\n",
    "    for idx, row in df.iterrows():\n",
    "        if idx % 10000 == 0:\n",
    "            print(f\"Precessing row {idx}/{len(df)}\")\n",
    "\n",
    "        # Get embeddings for each question\n",
    "        q1_emb = get_sentence_embedding(row['q1_tokens'], model)\n",
    "        q2_emb = get_sentence_embedding(row['q2_tokens'], model)\n",
    "\n",
    "        # Create similarity features\n",
    "        cos_sim = cosine_similarity(q1_emb.reshape(1, -1), q2_emb.reshape(1, -1))[0][0]\n",
    "        euclidean_dist = euclidean_distances(q1_emb.reshape(1, -1),\n",
    "                                             q2_emb.reshape(1, -1))[0][0]\n",
    "        manhattan_dist = manhattan_distances(q1_emb.reshape(1, -1),\n",
    "                                             q2_emb.reshape(1, -1))[0][0]\n",
    "\n",
    "        # Element-wise features\n",
    "        diff = q1_emb - q2_emb\n",
    "        mult = q1_emb * q2_emb\n",
    "\n",
    "        # Combine features\n",
    "        feature_vector = np.concatenate([\n",
    "            q1_emb, q2_emb, diff, mult, [cos_sim], [euclidean_dist], [manhattan_dist]\n",
    "        ])\n",
    "        features.append(feature_vector)\n",
    "\n",
    "    return np.array(features)"
   ]
  },
  {
   "cell_type": "code",
   "execution_count": null,
   "id": "15",
   "metadata": {
    "colab": {
     "base_uri": "https://localhost:8080/"
    },
    "executionInfo": {
     "elapsed": 527902,
     "status": "ok",
     "timestamp": 1748854727694,
     "user": {
      "displayName": "Natalia Koval",
      "userId": "10118236118774007377"
     },
     "user_tz": -180
    },
    "id": "ipGqAV8Rowoh",
    "outputId": "ec853fed-8dd0-493a-9744-16b5fde2ba06"
   },
   "outputs": [],
   "source": [
    "print(\"Create features for Train set:\")\n",
    "X_train_features = create_features(train_df, glove_model)\n",
    "\n",
    "print(\"\\nCreate features for Validation set:\")\n",
    "X_val_features = create_features(val_df, glove_model)"
   ]
  },
  {
   "cell_type": "markdown",
   "id": "16",
   "metadata": {
    "id": "-fKzGrbP8SkK"
   },
   "source": [
    "## Train and Evaluate Logistic Regression"
   ]
  },
  {
   "cell_type": "code",
   "execution_count": null,
   "id": "17",
   "metadata": {
    "executionInfo": {
     "elapsed": 1907,
     "status": "ok",
     "timestamp": 1748855333090,
     "user": {
      "displayName": "Natalia Koval",
      "userId": "10118236118774007377"
     },
     "user_tz": -180
    },
    "id": "ima6VTHUpO3B"
   },
   "outputs": [],
   "source": [
    "scaler = StandardScaler()\n",
    "X_train_scaled = scaler.fit_transform(X_train_features)\n",
    "X_val_scaled = scaler.transform(X_val_features)"
   ]
  },
  {
   "cell_type": "code",
   "execution_count": null,
   "id": "18",
   "metadata": {
    "executionInfo": {
     "elapsed": 4,
     "status": "ok",
     "timestamp": 1748855333093,
     "user": {
      "displayName": "Natalia Koval",
      "userId": "10118236118774007377"
     },
     "user_tz": -180
    },
    "id": "9L4Ymhl6pgwT"
   },
   "outputs": [],
   "source": [
    "y_train = train_df['is_duplicate']\n",
    "y_val = val_df['is_duplicate']"
   ]
  },
  {
   "cell_type": "code",
   "execution_count": null,
   "id": "19",
   "metadata": {
    "colab": {
     "base_uri": "https://localhost:8080/",
     "height": 80
    },
    "executionInfo": {
     "elapsed": 23885,
     "status": "ok",
     "timestamp": 1748855358168,
     "user": {
      "displayName": "Natalia Koval",
      "userId": "10118236118774007377"
     },
     "user_tz": -180
    },
    "id": "r0A4laIRidE7",
    "outputId": "51e84f54-6bb8-406b-e426-50a60aee834f"
   },
   "outputs": [],
   "source": [
    "classifier = LogisticRegression(random_state=7, class_weight='balanced', max_iter=1000)\n",
    "classifier.fit(X_train_scaled, y_train)"
   ]
  },
  {
   "cell_type": "code",
   "execution_count": null,
   "id": "20",
   "metadata": {
    "colab": {
     "base_uri": "https://localhost:8080/"
    },
    "executionInfo": {
     "elapsed": 396,
     "status": "ok",
     "timestamp": 1748855949680,
     "user": {
      "displayName": "Natalia Koval",
      "userId": "10118236118774007377"
     },
     "user_tz": -180
    },
    "id": "C2Ugercu3iCm",
    "outputId": "7991e899-13b1-4e4b-be6b-02e262dc8c96"
   },
   "outputs": [],
   "source": [
    "log_loss_train, log_loss_val = evaluate_model(\n",
    "    X_train_scaled, X_val_scaled, y_train, y_val, classifier\n",
    ")\n",
    "print(f\"Log loss on Train set: {log_loss_train:.4f}\")\n",
    "print(f\"Log loss on Validation set: {log_loss_val:.4f}\")"
   ]
  },
  {
   "cell_type": "code",
   "execution_count": null,
   "id": "21",
   "metadata": {
    "colab": {
     "base_uri": "https://localhost:8080/",
     "height": 507
    },
    "executionInfo": {
     "elapsed": 317,
     "status": "ok",
     "timestamp": 1748855811311,
     "user": {
      "displayName": "Natalia Koval",
      "userId": "10118236118774007377"
     },
     "user_tz": -180
    },
    "id": "OFBZQN7e6MlH",
    "outputId": "92aedbc6-2b3f-4b42-b63e-d2df9b0867a6"
   },
   "outputs": [],
   "source": [
    "print(f\"Classification Report:\")\n",
    "y_pred = classifier.predict(X_val_scaled)\n",
    "print(classification_report(y_val, y_pred,\n",
    "                            target_names=['Not Duplicate', 'Duplicate']))\n",
    "\n",
    "\n",
    "plot_confusion_matrix(y_val, y_pred)"
   ]
  },
  {
   "cell_type": "code",
   "execution_count": null,
   "id": "22",
   "metadata": {
    "executionInfo": {
     "elapsed": 235,
     "status": "ok",
     "timestamp": 1748855888739,
     "user": {
      "displayName": "Natalia Koval",
      "userId": "10118236118774007377"
     },
     "user_tz": -180
    },
    "id": "S6sbJUfS51Be"
   },
   "outputs": [],
   "source": [
    "experiment_results = joblib.load(os.path.join(DATA_PATH, 'experiment_results.joblib'))"
   ]
  },
  {
   "cell_type": "code",
   "execution_count": null,
   "id": "23",
   "metadata": {
    "executionInfo": {
     "elapsed": 4,
     "status": "ok",
     "timestamp": 1748855994869,
     "user": {
      "displayName": "Natalia Koval",
      "userId": "10118236118774007377"
     },
     "user_tz": -180
    },
    "id": "2e7vhTLS5loP"
   },
   "outputs": [],
   "source": [
    "results = {}\n",
    "results['model'] = 'GloVe Embeddings with Logistic Regression'\n",
    "results['log_loss_train'] = np.round(log_loss_train, 5)\n",
    "results['log_loss_val'] = np.round(log_loss_val, 5)\n",
    "\n",
    "experiment_results.append(results)"
   ]
  },
  {
   "cell_type": "code",
   "execution_count": null,
   "id": "24",
   "metadata": {
    "colab": {
     "base_uri": "https://localhost:8080/"
    },
    "executionInfo": {
     "elapsed": 6,
     "status": "ok",
     "timestamp": 1748856002783,
     "user": {
      "displayName": "Natalia Koval",
      "userId": "10118236118774007377"
     },
     "user_tz": -180
    },
    "id": "TNhJBqdH53KM",
    "outputId": "58621d42-efcd-4924-c62a-c6492003d40e"
   },
   "outputs": [],
   "source": [
    "joblib.dump(experiment_results, os.path.join(DATA_PATH, 'experiment_results.joblib'))"
   ]
  },
  {
   "cell_type": "markdown",
   "id": "25",
   "metadata": {},
   "source": [
    "`experiment_results` is updated and saved with the latest experiment's metrics."
   ]
  }
 ],
 "metadata": {
  "colab": {
   "provenance": []
  },
  "kernelspec": {
   "display_name": "py312",
   "language": "python",
   "name": "python3"
  },
  "language_info": {
   "codemirror_mode": {
    "name": "ipython",
    "version": 3
   },
   "file_extension": ".py",
   "mimetype": "text/x-python",
   "name": "python",
   "nbconvert_exporter": "python",
   "pygments_lexer": "ipython3",
   "version": "3.12.7"
  }
 },
 "nbformat": 4,
 "nbformat_minor": 5
}
