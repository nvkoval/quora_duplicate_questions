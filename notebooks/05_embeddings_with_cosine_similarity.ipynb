{
 "cells": [
  {
   "cell_type": "code",
   "execution_count": null,
   "id": "0",
   "metadata": {
    "id": "P7k0T9AR7EtL"
   },
   "outputs": [],
   "source": [
    "! pip install -U sentence-transformers --quiet"
   ]
  },
  {
   "cell_type": "code",
   "execution_count": null,
   "id": "1",
   "metadata": {
    "colab": {
     "base_uri": "https://localhost:8080/"
    },
    "executionInfo": {
     "elapsed": 19945,
     "status": "ok",
     "timestamp": 1748790369588,
     "user": {
      "displayName": "Natalia Koval",
      "userId": "10118236118774007377"
     },
     "user_tz": -180
    },
    "id": "-PzQE33IXIpR",
    "outputId": "7bfb3ffb-eca4-418d-8a2c-27c0884aea66"
   },
   "outputs": [],
   "source": [
    "from google.colab import drive\n",
    "drive.mount('/content/drive')"
   ]
  },
  {
   "cell_type": "markdown",
   "id": "2",
   "metadata": {
    "id": "8c5543eb"
   },
   "source": [
    "## Importing Libraries"
   ]
  },
  {
   "cell_type": "code",
   "execution_count": null,
   "id": "3",
   "metadata": {
    "colab": {
     "base_uri": "https://localhost:8080/"
    },
    "executionInfo": {
     "elapsed": 24,
     "status": "ok",
     "timestamp": 1748791277641,
     "user": {
      "displayName": "Natalia Koval",
      "userId": "10118236118774007377"
     },
     "user_tz": -180
    },
    "id": "89a40644",
    "outputId": "7ce1071f-0584-43a7-83c2-9c721cc72175"
   },
   "outputs": [],
   "source": [
    "import sys\n",
    "import os\n",
    "sys.path.append('/content/drive/MyDrive/quora_duplicate_questions/src')\n",
    "\n",
    "import joblib\n",
    "import numpy as np\n",
    "import pandas as pd\n",
    "import matplotlib.pyplot as plt\n",
    "import seaborn as sns\n",
    "import torch\n",
    "from sklearn.metrics.pairwise import cosine_similarity\n",
    "from sklearn.metrics import log_loss, classification_report\n",
    "from sklearn.linear_model import LogisticRegression\n",
    "from sklearn.calibration import calibration_curve\n",
    "from sentence_transformers import SentenceTransformer\n",
    "from utils import clean_text, evaluate_model\n",
    "\n",
    "np.random.seed(7)\n",
    "\n",
    "# Check GPU availability\n",
    "device = torch.device('cuda' if torch.cuda.is_available() else 'cpu')\n",
    "print(f\"Using device: {device}\")"
   ]
  },
  {
   "cell_type": "markdown",
   "id": "4",
   "metadata": {
    "id": "ae406ef9"
   },
   "source": [
    "## Load the Data"
   ]
  },
  {
   "cell_type": "code",
   "execution_count": null,
   "id": "5",
   "metadata": {
    "executionInfo": {
     "elapsed": 4631,
     "status": "ok",
     "timestamp": 1748790377667,
     "user": {
      "displayName": "Natalia Koval",
      "userId": "10118236118774007377"
     },
     "user_tz": -180
    },
    "id": "bjPOlpZ5XWJy"
   },
   "outputs": [],
   "source": [
    "DATA_PATH = '/content/drive/MyDrive/quora_duplicate_questions/data/processed'\n",
    "train_df = pd.read_csv(os.path.join(DATA_PATH, 'train.csv.zip'), compression='zip')\n",
    "val_df = pd.read_csv(os.path.join(DATA_PATH, 'val.csv.zip'), compression='zip')"
   ]
  },
  {
   "cell_type": "markdown",
   "id": "6",
   "metadata": {
    "id": "x3aD8TcH9PQ9"
   },
   "source": [
    "## Load pre-trained Sentence-BERT Model"
   ]
  },
  {
   "cell_type": "code",
   "execution_count": null,
   "id": "7",
   "metadata": {
    "colab": {
     "base_uri": "https://localhost:8080/",
     "height": 528,
     "referenced_widgets": [
      "55d2048ea0fb43fd8f7679e594e6cc21",
      "ba4e5df02dd94c07827f83bba1f294f5",
      "23adcba3f9b549c59b91bf09542bc85b",
      "06f8ecfe91314167be66a5612f8cb9e9",
      "b9c969df6d21467dac586857ba2e3b2d",
      "8d9ec02985d24dcea562bc48df460b3f",
      "748b9bc57d914dd7a2f7067c856358e6",
      "fb4907c13a8049b786f036ddff9285bb",
      "c4def93b140d45c3bd80feead11eaf1b",
      "7fa4f91a59a04f7fa4d9eedb865b2ef3",
      "81baddafa3bb4dcab9792661b69a8e4c",
      "59c545e653724aee8dd46008d9047dfc",
      "ba76698b172c46d2bf36bef0680f4cae",
      "76d270b9286c4094a8af1324238a20dc",
      "190d59e7fc8e4c58941c6f1a9f2984b8",
      "cdab2a3999944ed9b6a4e79999a20fd1",
      "f1443593e1f94989bee6ffc5f448ab59",
      "393e55fd8cb04de29b093eeb1232dcdb",
      "e38627128810458a81b1cfb20341f7a4",
      "be62468fdd7949418bc8c0329fce0160",
      "a388b2f613eb4ab8ba5b3e25eb177373",
      "d27a5715f96c417ba223f26aa40aa959",
      "1d483e7d4b504fa9aa3b6f1c5fea1f39",
      "705e2da232274f979eda0e5c5e04be49",
      "dbb6b4f91da04a1995ea36e13702463f",
      "8f3afcca13984846a9643c82315b32aa",
      "77184b929542470e8d60b55f716240f3",
      "15f444b63b6341e2a0783e6e11312496",
      "34a6154fcc184871bad42333c39831b9",
      "4a6fae62490245a38d229b91414b555a",
      "66d2d5c93cd0445089b3b8e7cbdb4292",
      "4d4a414fd60c49ae8861d484fc5e7545",
      "2b58b9dbf03e47ee81d58830b0945986",
      "f1118da205ec4e4e9634808847f08cd2",
      "97bbc91ee3e54b229361110cfeae6b63",
      "e70146689d0b42cc886936d7a5c90768",
      "c39e305a05264c73987e0ff9fdbb099d",
      "f85f904e02904229ad421128b73d7c2b",
      "3a2633e9b7414ee29c4febd73e930ef3",
      "72d0f92beae440fa9c12328593f615d5",
      "f00fefe97fc54f3a90415657618f2bd4",
      "395b876472ac4d1aae7903c85ac2abec",
      "81e94ab5cdf545cfa33a01131eb7b630",
      "849940f1c2be49cbb264f9ee30242303",
      "d4fb09c145d24b22bb2c848f66b7ea80",
      "da279a68b0f044b88347a1ec0bc3ff75",
      "70ae0856ee4c4a198a4f8c57a506c89c",
      "79bea54256f849c3817bd74fe48ca211",
      "0f896c5450124a4aa0a82b70c6871666",
      "08cdef43360c4706a4fd99fd8918dab7",
      "2e492043b59f45e68968f95f787a0094",
      "e99291d7bbc74371a45b27dc00c3ff9e",
      "1890c2a466c544189da89f856a816464",
      "3eaadd7e85d544edb9ca9d17aa0f3e60",
      "2767c7c8292941d4b478773c72c53a31",
      "dea15d5ecd2246eb8c5e28de65b00dcc",
      "2f7fe2b1296340078dab10eda35d73a9",
      "729e8134a81f4b3991367d9228c590fd",
      "dc46e9fe937e4676b5a4a10175998ae6",
      "ff72b6f1012d44a597d2ff56ef8f5bbb",
      "79ad1f0718264a1797b2c4273a6faec0",
      "ebff0c8bbffa427e96d2c74e00bd8ea1",
      "f04ded019b3e4d65943983793155fbfd",
      "fe0d907cf7f84cd3aabf6681bb408a1c",
      "a1c422e5b77d426fbc5958fa24c3d891",
      "8763575d914d4c7da3d177f5ea707099",
      "803d0848a0e74ef786142b48f4f3d1fa",
      "d8136c7bb8a14255b7692b1a40d2c3b0",
      "9fab4774fc0047f7bd5dd3e89ebb8e0f",
      "c3bf9210fdd44ee39bafbf35e11c4b8a",
      "942f984101da4f9aac7517c29191668a",
      "a8c73243c33e44569ffd4f11da0c5678",
      "e5aca9cf1ee34c0695338dd8ec57f309",
      "baead6bf01534a7a85789ba3fb737054",
      "0e6ce6685a7245df8f81dddf0faffba7",
      "6b6505a55c8a4f7999c6ffd9e08c7a6f",
      "8bb3b975b0d8403db7d9ef02f277b51c",
      "588526c17a1b419baaf145c905f7874c",
      "5f786342df454c60940faceba43ee34c",
      "149708f295fd43d0bbd8b7d358b54620",
      "ad259954caa84b8791c18557f0665ecb",
      "821bc82c9c3a4147b474ae806b759db6",
      "a469100fde1b4d35a039d8c6695e37c4",
      "507d675a6ed0470babcb1c490cb39c8d",
      "782058c88ec34d90b3f45f6d72c8a461",
      "619091a8483e459d8da5d815fde9b58b",
      "de3aa57b8f1748b38dfd30a0d3167dfc",
      "36cd92d228e448cb834c5c5806cbe4a2",
      "083b7a7040b24432a7856da5e9b6b551",
      "32c166d2f9994de3b7d4785fece13707",
      "f8c96515e93a4cd098d74cb1b30efc22",
      "cf299dd5c65044b5b5438e289ec85a65",
      "e70e8157f10248b89887e2470452388c",
      "f49ba56cedd0477b9a6490771d55f237",
      "2bf4b5672e3c4080b7732a4b8909ddd4",
      "ef9940ec0c44476eb966e3b1635d0197",
      "6d805761ad1348cc99730d6847abb466",
      "914fcb752f9b49d4bac9bff7c48c488a",
      "a71152fe9a8542e19376faac601f2981",
      "aa58a1cf1c834fd6a637898e2d54f738",
      "3e4bc19b735c4ea884ac1b81bb750912",
      "7347e399b0af4f57ad8ee89280a8331e",
      "6e7c6d00f9374e5ebad49930763cb6a8",
      "643c53416bce4b1a8285de8ee4c839cc",
      "2cb02cbe630b4c0fa6ee4ce42e58bf92",
      "1286aa7c59eb46daa4264fa213e930c1",
      "427a97ebfcb24fd1807d3b71b33fe759",
      "251c7656bebd4333b668f4a410472114",
      "90f02a6d509b49d18c1c061dfcbeace0",
      "29f667f373a3476a8cb0b2b928ae0280",
      "ead1a11c986b4f58aea90f648ec24a91",
      "4f64e1b326154557b318730658c790b5",
      "25f38e488d4a4117b12e271ddc39c23f",
      "a8535882913d476f83fb9e46e55650c9",
      "f1b5cb8df9234f09af03ea1a499b145c",
      "46e2bdf51cb347a9a832b4fbdd9afcb8",
      "939cf8e702bd432bbf573deba1147e0c",
      "d43f62a864dd4c23a1169f5a77e4d5a2",
      "4acabf42bec445fab1d4493d9df12fe8",
      "887cc59f31174478b35e5ac7b4876d13",
      "f3bcef8c83b44ed58abd281fd65c96e5"
     ]
    },
    "executionInfo": {
     "elapsed": 7263,
     "status": "ok",
     "timestamp": 1748790387667,
     "user": {
      "displayName": "Natalia Koval",
      "userId": "10118236118774007377"
     },
     "user_tz": -180
    },
    "id": "Q-2t7SlwrjxA",
    "outputId": "d5b0c9ed-b21f-421e-e0bc-d17d7729a4a9"
   },
   "outputs": [],
   "source": [
    "model = SentenceTransformer('all-MiniLM-L6-v2')"
   ]
  },
  {
   "cell_type": "markdown",
   "id": "8",
   "metadata": {
    "id": "HPrvPyBD9Zab"
   },
   "source": [
    "## Get Embeddings"
   ]
  },
  {
   "cell_type": "code",
   "execution_count": null,
   "id": "9",
   "metadata": {
    "executionInfo": {
     "elapsed": 44,
     "status": "ok",
     "timestamp": 1748790408175,
     "user": {
      "displayName": "Natalia Koval",
      "userId": "10118236118774007377"
     },
     "user_tz": -180
    },
    "id": "GZ-zLswByiR6"
   },
   "outputs": [],
   "source": [
    "def get_embeddings(df: pd.DataFrame):\n",
    "    \"\"\"\n",
    "    Transform questions to embeddings.\n",
    "\n",
    "    Args:\n",
    "        df: DataFrame with 'question1' and 'question2' columns\n",
    "\n",
    "    Returns:\n",
    "        Tuple of (question1_embeddings, question2_embeddings)\n",
    "    \"\"\"\n",
    "    q1 = df['question1'].apply(clean_text).fillna(\"\")\n",
    "    q2 = df['question2'].apply(clean_text).fillna(\"\")\n",
    "\n",
    "    q1_embeddings = model.encode(q1.tolist(),\n",
    "                                 show_progress_bar=True,\n",
    "                                 convert_to_numpy=True,\n",
    "                                 device=device)\n",
    "    q2_embeddings = model.encode(q2.tolist(),\n",
    "                                 show_progress_bar=True,\n",
    "                                 convert_to_numpy=True,\n",
    "                                 device=device)\n",
    "\n",
    "    return q1_embeddings, q2_embeddings"
   ]
  },
  {
   "cell_type": "code",
   "execution_count": null,
   "id": "10",
   "metadata": {
    "colab": {
     "base_uri": "https://localhost:8080/",
     "height": 197,
     "referenced_widgets": [
      "3453dc68248c40878417848e2ab5a257",
      "8d7b5bff633946b7a4f2279adae1efe8",
      "0680079aa31a4977bf15e4b215aa7356",
      "93d480606d9d42be8101d709478ecab0",
      "bff61f2a0222415ead2c314d8b3e2741",
      "f86dff80228d4faf901c61ef0083b61f",
      "8e768780961a41598a28c349e027a1d4",
      "6e9cb60df7f64294b14ef31ffdf405bc",
      "ffd6482c096b4c40ab93a5d421c2610e",
      "99a7dc8ff4c54dd8a35507ceab204fbc",
      "7c1a5b28f4af45f68922d1994f8bf9d4",
      "9cb8fde28dbd4b278bd2e879800831a6",
      "0b304b7828ff4ab9bf81d81ac0c4e197",
      "ce0a341b66a54e4fb3021fa79f179871",
      "98a38c7af0a942f88d8b389dcf00a026",
      "efb6cbf21ce84d1d921ee1564c435cc5",
      "912f83542d7e494fae99efdb2761d980",
      "091e3d72919f49e68ed4d15e6a55049a",
      "a225199f86c94354bdb4c004e87bcade",
      "750fe21f36894b81a2fda8bd6b23d2ba",
      "3938fffb6bd94d69a0f3f0b5028afb3a",
      "2e477e78a8a844dc8d674d52c5bb0c19",
      "ad11068205224240a8380291ebaf06e8",
      "2bc29af10855445c889ed1a0f51065c1",
      "cca4c158c0cd41af98697f50778fa2ba",
      "74d64389ce954753bd9cf457595bbe03",
      "d28fe3cbc45842009c10ce0dfced2614",
      "071722f5a96546dbbd4744e22a5b4bfe",
      "2d9699a892794d5da0d26f73bb75d029",
      "0563633e5f744a1fad6ef07098c1fccd",
      "dddb58819d4545b8a43334f4ed1b969a",
      "508c402316c74bf9af91c8e5c23e2722",
      "a851981c75bc43c2af855538039dacd9",
      "ea1a094e1c964c0b8a783fe14c7b10c8",
      "719a18bb661a47e58b7ca42cd34701d8",
      "08e6fcc3fe3c429785e5d6f26cf0def3",
      "efe781f9d64541b18b0b5a909dafb760",
      "51ae84c456254e05afb9dbce795490e0",
      "1748cc23db5a416b86a1d041a70cd6e3",
      "d4d475ad2be14932ae0ea209c0a80cd3",
      "cee567dfa3af419da8e37ea24f8fa939",
      "7cd493d9f3bb473384d3163d6d141f0c",
      "ac080a73dcc1462b99be6676e678941a",
      "61f7be015c004f00881fd9c48b0e70a8"
     ]
    },
    "executionInfo": {
     "elapsed": 149631,
     "status": "ok",
     "timestamp": 1748790566026,
     "user": {
      "displayName": "Natalia Koval",
      "userId": "10118236118774007377"
     },
     "user_tz": -180
    },
    "id": "tx3K2u48r173",
    "outputId": "b0f264a6-f824-42a8-ab43-a05440834817"
   },
   "outputs": [],
   "source": [
    "# Encode both questions\n",
    "print(\"Encoding questions from train set...\")\n",
    "q1_train_embeddings, q2_train_embeddings = get_embeddings(train_df)\n",
    "\n",
    "print(\"Encoding questions from validation set...\")\n",
    "q1_val_embeddings, q2_val_embeddings = get_embeddings(val_df)\n",
    "print(\"Successfully completed!\")"
   ]
  },
  {
   "cell_type": "markdown",
   "id": "11",
   "metadata": {
    "id": "cAupR-8v9dxh"
   },
   "source": [
    "## Calculate Cosine Similarity"
   ]
  },
  {
   "cell_type": "code",
   "execution_count": null,
   "id": "12",
   "metadata": {
    "executionInfo": {
     "elapsed": 3,
     "status": "ok",
     "timestamp": 1748790573154,
     "user": {
      "displayName": "Natalia Koval",
      "userId": "10118236118774007377"
     },
     "user_tz": -180
    },
    "id": "8X9_bRdnzV7-"
   },
   "outputs": [],
   "source": [
    "def calculate_cosine_similarities(q1_embeddings: np.ndarray,\n",
    "                                  q2_embeddings: np.ndarray) -> np.ndarray:\n",
    "    \"\"\"\n",
    "    Calculate cosine similarities between pairs of question embeddings.\n",
    "    Args:\n",
    "        q1_embeddings: Embeddings for question1\n",
    "        q2_embeddings: Embeddings for question2\n",
    "    Returns:\n",
    "        Array of cosine similarities\n",
    "    \"\"\"\n",
    "    similarities = [\n",
    "        cosine_similarity(q1.reshape(1, -1), q2.reshape(1, -1))[0][0]\n",
    "        for q1, q2 in zip(q1_embeddings, q2_embeddings)\n",
    "    ]\n",
    "\n",
    "    return np.array(similarities)"
   ]
  },
  {
   "cell_type": "code",
   "execution_count": null,
   "id": "13",
   "metadata": {
    "executionInfo": {
     "elapsed": 124904,
     "status": "ok",
     "timestamp": 1748790701072,
     "user": {
      "displayName": "Natalia Koval",
      "userId": "10118236118774007377"
     },
     "user_tz": -180
    },
    "id": "y9BKTaKesKxA"
   },
   "outputs": [],
   "source": [
    "similarities_train = calculate_cosine_similarities(q1_train_embeddings, q2_train_embeddings)\n",
    "similarities_val = calculate_cosine_similarities(q1_val_embeddings, q2_val_embeddings)"
   ]
  },
  {
   "cell_type": "markdown",
   "id": "14",
   "metadata": {
    "id": "Yrz5oSirxRE5"
   },
   "source": [
    "## Calibrate Similarity into Probabilities with Logistic Regression"
   ]
  },
  {
   "cell_type": "code",
   "execution_count": null,
   "id": "15",
   "metadata": {
    "executionInfo": {
     "elapsed": 460,
     "status": "ok",
     "timestamp": 1748791110804,
     "user": {
      "displayName": "Natalia Koval",
      "userId": "10118236118774007377"
     },
     "user_tz": -180
    },
    "id": "iiywYx2qxP-v"
   },
   "outputs": [],
   "source": [
    "# Cosine similarity is the only feature\n",
    "X_train = similarities_train.reshape(-1, 1)\n",
    "y_train = train_df['is_duplicate'].values\n",
    "\n",
    "X_val = similarities_val.reshape(-1, 1)\n",
    "y_val = val_df['is_duplicate'].values\n",
    "\n",
    "# Fit calibration model\n",
    "calibrator = LogisticRegression(class_weight='balanced')\n",
    "calibrator.fit(X_train, y_train)\n",
    "\n",
    "# Predict calibrated probabilities\n",
    "y_pred_probs_train = calibrator.predict_proba(X_train)\n",
    "y_pred_probs_val = calibrator.predict_proba(X_val)\n",
    "y_pred_val = calibrator.predict(X_val)"
   ]
  },
  {
   "cell_type": "markdown",
   "id": "16",
   "metadata": {
    "id": "Uw2dy9WL90ax"
   },
   "source": [
    "## Evaluate"
   ]
  },
  {
   "cell_type": "code",
   "execution_count": null,
   "id": "17",
   "metadata": {
    "colab": {
     "base_uri": "https://localhost:8080/",
     "height": 410
    },
    "executionInfo": {
     "elapsed": 690,
     "status": "ok",
     "timestamp": 1748791114188,
     "user": {
      "displayName": "Natalia Koval",
      "userId": "10118236118774007377"
     },
     "user_tz": -180
    },
    "id": "RYfGn-qd-CZ3",
    "outputId": "78b184e1-05f9-430c-fd9f-2f8642f91c8d"
   },
   "outputs": [],
   "source": [
    "# Separate scores for the two classes\n",
    "duplicates = X_val[y_val == 1].flatten()\n",
    "non_duplicates = X_val[y_val == 0].flatten()\n",
    "\n",
    "plt.figure(figsize=(7, 4))\n",
    "sns.kdeplot(duplicates, label='Duplicate (1)', fill=True, color='#D1A573')\n",
    "sns.kdeplot(non_duplicates, label='Not Duplicate (0)', fill=True, color='#73B5D1')\n",
    "plt.title('Distribution of Cosine Similarity for Question Pairs')\n",
    "plt.xlabel('Cosine Similarity')\n",
    "plt.ylabel('Density')\n",
    "plt.legend()\n",
    "plt.show()"
   ]
  },
  {
   "cell_type": "markdown",
   "id": "18",
   "metadata": {},
   "source": [
    "There's a lot of overlap, cosine similarity alone may not be sufficient."
   ]
  },
  {
   "cell_type": "code",
   "execution_count": null,
   "id": "19",
   "metadata": {
    "colab": {
     "base_uri": "https://localhost:8080/"
    },
    "executionInfo": {
     "elapsed": 56,
     "status": "ok",
     "timestamp": 1748791222004,
     "user": {
      "displayName": "Natalia Koval",
      "userId": "10118236118774007377"
     },
     "user_tz": -180
    },
    "id": "3-c7K_I68T5V",
    "outputId": "7525005e-78cd-46bb-d933-951c7841aead"
   },
   "outputs": [],
   "source": [
    "log_loss_train = log_loss(y_train, y_pred_probs_train)\n",
    "log_loss_val = log_loss(y_val, y_pred_probs_val)\n",
    "\n",
    "log_loss_train, log_loss_val = evaluate_model(\n",
    "    X_train, X_val, y_train, y_val, calibrator\n",
    ")\n",
    "\n",
    "print(f\"Log loss on Train set: {log_loss_train:.4f}\")\n",
    "print(f\"Log Loss on Validation set: {log_loss_val:.4f}\")\n",
    "print(\"\\nClassification Report:\")\n",
    "print(classification_report(y_val, y_pred_val))"
   ]
  },
  {
   "cell_type": "code",
   "execution_count": null,
   "id": "20",
   "metadata": {
    "colab": {
     "base_uri": "https://localhost:8080/",
     "height": 410
    },
    "executionInfo": {
     "elapsed": 192,
     "status": "ok",
     "timestamp": 1748791257111,
     "user": {
      "displayName": "Natalia Koval",
      "userId": "10118236118774007377"
     },
     "user_tz": -180
    },
    "id": "VfoGWQMZ6d_H",
    "outputId": "ee329ce8-60e5-4c83-fb59-356eb801a125"
   },
   "outputs": [],
   "source": [
    "# Compute calibration curve\n",
    "prob_true, prob_pred = calibration_curve(y_val, y_pred_probs_val[:, 1], n_bins=10)\n",
    "\n",
    "plt.figure(figsize=(5, 4))\n",
    "plt.plot(prob_pred, prob_true, marker='o', color='tan', label='Logistic Regression (calibrated)')\n",
    "plt.plot([0, 1], [0, 1], linestyle='--', color='gray', label='Perfect calibration')\n",
    "\n",
    "plt.title('Calibration Curve')\n",
    "plt.xlabel('Predicted Probability')\n",
    "plt.ylabel('True Probability in Bin')\n",
    "plt.legend()\n",
    "plt.grid(True)\n",
    "plt.show()"
   ]
  },
  {
   "cell_type": "markdown",
   "id": "21",
   "metadata": {},
   "source": [
    "Curve lies below the diagonal: over-confident (predicts higher probabilities than actual)."
   ]
  },
  {
   "cell_type": "code",
   "execution_count": null,
   "id": "22",
   "metadata": {
    "executionInfo": {
     "elapsed": 44,
     "status": "ok",
     "timestamp": 1748791370619,
     "user": {
      "displayName": "Natalia Koval",
      "userId": "10118236118774007377"
     },
     "user_tz": -180
    },
    "id": "K3dc878UFWHo"
   },
   "outputs": [],
   "source": [
    "experiment_results = joblib.load(os.path.join(DATA_PATH, 'experiment_results.joblib'))"
   ]
  },
  {
   "cell_type": "code",
   "execution_count": null,
   "id": "23",
   "metadata": {
    "executionInfo": {
     "elapsed": 47,
     "status": "ok",
     "timestamp": 1748791500652,
     "user": {
      "displayName": "Natalia Koval",
      "userId": "10118236118774007377"
     },
     "user_tz": -180
    },
    "id": "jxrF7JOmA6-a"
   },
   "outputs": [],
   "source": [
    "results = {}\n",
    "results['model'] = 'SentenceTransformer with Cosine Similarity'\n",
    "results['log_loss_train'] = np.round(log_loss_train, 5)\n",
    "results['log_loss_val'] = np.round(log_loss_val, 5)\n",
    "\n",
    "experiment_results.append(results)"
   ]
  },
  {
   "cell_type": "code",
   "execution_count": null,
   "id": "24",
   "metadata": {
    "colab": {
     "base_uri": "https://localhost:8080/"
    },
    "executionInfo": {
     "elapsed": 10,
     "status": "ok",
     "timestamp": 1748791522491,
     "user": {
      "displayName": "Natalia Koval",
      "userId": "10118236118774007377"
     },
     "user_tz": -180
    },
    "id": "ErB50L2_A92y",
    "outputId": "cb1311d5-2a9b-45df-886f-8fff0bf7544e"
   },
   "outputs": [],
   "source": [
    "joblib.dump(experiment_results, os.path.join(DATA_PATH, 'experiment_results.joblib'))"
   ]
  }
 ],
 "metadata": {
  "accelerator": "GPU",
  "colab": {
   "gpuType": "A100",
   "provenance": [],
   "toc_visible": true
  },
  "kernelspec": {
   "display_name": "Python 3",
   "name": "python3"
  },
  "language_info": {
   "codemirror_mode": {
    "name": "ipython",
    "version": 3
   },
   "file_extension": ".py",
   "mimetype": "text/x-python",
   "name": "python",
   "nbconvert_exporter": "python",
   "pygments_lexer": "ipython3",
   "version": "3.12.7"
  }
 },
 "nbformat": 4,
 "nbformat_minor": 5
}
