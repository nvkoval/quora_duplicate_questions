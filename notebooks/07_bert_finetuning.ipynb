{
  "cells": [
    {
      "cell_type": "markdown",
      "id": "rt2OtxqfSur2",
      "metadata": {
        "id": "rt2OtxqfSur2"
      },
      "source": [
        "# BERT Fine-tuning for Quora Question Pairs Classification"
      ]
    },
    {
      "cell_type": "markdown",
      "id": "HgsNuFmXS0Yt",
      "metadata": {
        "id": "HgsNuFmXS0Yt"
      },
      "source": [
        "### Importing Libraries"
      ]
    },
    {
      "cell_type": "code",
      "execution_count": 1,
      "id": "Uo8ALkNvYVts",
      "metadata": {
        "collapsed": true,
        "executionInfo": {
          "elapsed": 2712,
          "status": "ok",
          "timestamp": 1748946142958,
          "user": {
            "displayName": "Natalia Koval",
            "userId": "10118236118774007377"
          },
          "user_tz": -180
        },
        "id": "Uo8ALkNvYVts"
      },
      "outputs": [],
      "source": [
        "! pip install -U datasets --quiet"
      ]
    },
    {
      "cell_type": "code",
      "execution_count": null,
      "id": "zKlLK2IkTCvP",
      "metadata": {
        "colab": {
          "base_uri": "https://localhost:8080/"
        },
        "executionInfo": {
          "elapsed": 17326,
          "status": "ok",
          "timestamp": 1748624441406,
          "user": {
            "displayName": "Natalia Koval",
            "userId": "10118236118774007377"
          },
          "user_tz": -180
        },
        "id": "zKlLK2IkTCvP",
        "outputId": "04c95208-ed63-4b82-f657-e6b096e56369"
      },
      "outputs": [
        {
          "name": "stdout",
          "output_type": "stream",
          "text": [
            "Using device: cuda\n"
          ]
        }
      ],
      "source": [
        "import os\n",
        "import joblib\n",
        "import pandas as pd\n",
        "import numpy as np\n",
        "import torch\n",
        "import torch.nn as nn\n",
        "from datasets import Dataset, load_dataset\n",
        "from torch.optim import AdamW\n",
        "from torch.utils.data import DataLoader\n",
        "from transformers import (\n",
        "    BertTokenizer,\n",
        "    BertForSequenceClassification,\n",
        "    get_linear_schedule_with_warmup,\n",
        "    DataCollatorWithPadding\n",
        ")\n",
        "from sklearn.metrics import f1_score, classification_report, confusion_matrix\n",
        "import matplotlib.pyplot as plt\n",
        "import seaborn as sns\n",
        "from tqdm.auto import tqdm\n",
        "\n",
        "import warnings\n",
        "warnings.simplefilter(action='ignore', category=FutureWarning)\n",
        "import logging\n",
        "logging.disable(logging.WARNING)\n",
        "\n",
        "# Set random seeds for reproducibility\n",
        "torch.manual_seed(7)\n",
        "np.random.seed(7)\n",
        "\n",
        "# Check GPU availability\n",
        "device = torch.device('cuda' if torch.cuda.is_available() else 'cpu')\n",
        "print(f\"Using device: {device}\")"
      ]
    },
    {
      "cell_type": "code",
      "execution_count": null,
      "id": "DUNofu5IY_PB",
      "metadata": {
        "colab": {
          "base_uri": "https://localhost:8080/"
        },
        "executionInfo": {
          "elapsed": 23067,
          "status": "ok",
          "timestamp": 1748624470196,
          "user": {
            "displayName": "Natalia Koval",
            "userId": "10118236118774007377"
          },
          "user_tz": -180
        },
        "id": "DUNofu5IY_PB",
        "outputId": "e3569f0c-c0a1-4c83-de9c-37e862dbccf6"
      },
      "outputs": [
        {
          "name": "stdout",
          "output_type": "stream",
          "text": [
            "Mounted at /content/drive\n"
          ]
        }
      ],
      "source": [
        "from google.colab import drive\n",
        "drive.mount('/content/drive')"
      ]
    },
    {
      "cell_type": "markdown",
      "id": "gC-tNymUTO-H",
      "metadata": {
        "id": "gC-tNymUTO-H"
      },
      "source": [
        "### Load the data"
      ]
    },
    {
      "cell_type": "code",
      "execution_count": null,
      "id": "RyfPvKofTTWF",
      "metadata": {
        "id": "RyfPvKofTTWF"
      },
      "outputs": [],
      "source": [
        "DATA_PATH = '/content/drive/MyDrive/quora_duplicate_questions/data/processed'\n",
        "\n",
        "train_df = pd.read_csv(os.path.join(DATA_PATH, 'train.csv.zip'), compression='zip')\n",
        "val_df = pd.read_csv(os.path.join(DATA_PATH, 'val.csv.zip'), compression='zip')\n",
        "test_df = pd.read_csv(os.path.join(DATA_PATH, 'test.csv.zip'), compression='zip')"
      ]
    },
    {
      "cell_type": "markdown",
      "id": "eidEB23vTX9T",
      "metadata": {
        "id": "eidEB23vTX9T"
      },
      "source": [
        "### Preprocess the data"
      ]
    },
    {
      "cell_type": "code",
      "execution_count": null,
      "id": "oIEMCzNez157",
      "metadata": {
        "id": "oIEMCzNez157"
      },
      "outputs": [],
      "source": [
        "train_df = train_df[['question1', 'question2', 'is_duplicate']]\n",
        "val_df = val_df[['question1', 'question2', 'is_duplicate']]\n",
        "test_df = test_df[['question1', 'question2', 'is_duplicate']]\n",
        "\n",
        "text_columns = ['question1', 'question2']"
      ]
    },
    {
      "cell_type": "code",
      "execution_count": null,
      "id": "H7Nhd3R6z6FE",
      "metadata": {
        "id": "H7Nhd3R6z6FE"
      },
      "outputs": [],
      "source": [
        "# Convert pandas DataFrame to Hugging Face Dataset\n",
        "# Use copy=True to avoid the NumPy warning\n",
        "train_dataset = Dataset.from_pandas(train_df.copy())\n",
        "val_dataset = Dataset.from_pandas(val_df.copy())\n",
        "test_dataset = Dataset.from_pandas(test_df.copy())"
      ]
    },
    {
      "cell_type": "code",
      "execution_count": null,
      "id": "jXQj-PvuTi64",
      "metadata": {
        "colab": {
          "base_uri": "https://localhost:8080/",
          "height": 269,
          "referenced_widgets": [
            "16b81d3bc1444509a49d2f28be6edd20",
            "b65fdf3670eb465b98c10eb6c042f377",
            "d19e7bb5e0be40979e7caba52af5de32",
            "90009cfbed8849bf9229c505f610db16",
            "c1a52086168141b2b4c8de725d7ef042",
            "4adcd0ff694a45f5ab02196f25b72c63",
            "cb39fba1ef404cf0baf3189d54da211c",
            "8611673706f24133ba94f22bf6537edd",
            "20042fc84f9c42eb8e09788025cab598",
            "2b13643d120042efa0a317043f57dac1",
            "985fe1ade34f46829f649cbe6eea0d2e",
            "d400325167014315bd0fcc079ecbc34b",
            "3ecc21a4744848f2ae663b58d627697c",
            "d3ecc14d39f247f79cb7afe618fe0785",
            "9c55e83f402a4ff58319d0b77fc46204",
            "afb30085f34d4e72bd926e2f0a7013be",
            "cfbeb9cb8caa4642b03b9540f4ea9474",
            "32280c1757814d609c5e0ca37b660eaf",
            "26feb6931c3b4063add0fb9e0965a1d0",
            "08360cf5f7d544a2811dac9846639e38",
            "7bbed1698727406784d189bb0adc77bb",
            "f448338823394c8fb76bfe0da945643e",
            "d9bb4f31798b438988afa40d915eda7e",
            "696adcc11ac1464e9ed8ecf25a10fc43",
            "761eaa4d34334d0b81adf9962155e719",
            "d14de24d4479416fb58dec116286b25f",
            "2dd93a25371d4cc694d17e08638406f6",
            "f7671018b76a4d4b9449b6a12c30d316",
            "5d47264a37974c7db3dc076ceba8f676",
            "87c5fdb70bd84d92aebfffb8ec02d88e",
            "f82882656c86403fb8fcb7fdea303658",
            "702785693c21457b8124b1ef625e6596",
            "1dc53ce873144f638ef6b340be36600e",
            "fafa1015efd9413b9d4462925b08c1d6",
            "8f013c88b2c646c18f356cb07ed3c832",
            "992751b6acea46aba3944eca1440a1e9",
            "40130169cf2647a5ba42062d53c14d27",
            "48c030da843a46d8abb09163f16d5ed5",
            "511b8bae0a1c4176b956cf260184d3b6",
            "06de00ca09244d14997caabf164c2a1d",
            "2b8e78341adf4ce09571a30e01b0261c",
            "caba211f6b3b44aebc40ed582ae3dcb3",
            "587f5318ffdb4e03ae59d8430739e1b9",
            "35556b9b3fce4a47b3275cee4262175b"
          ]
        },
        "executionInfo": {
          "elapsed": 2213,
          "status": "ok",
          "timestamp": 1748624522600,
          "user": {
            "displayName": "Natalia Koval",
            "userId": "10118236118774007377"
          },
          "user_tz": -180
        },
        "id": "jXQj-PvuTi64",
        "outputId": "7c4228f2-a353-4813-a57b-bd10c630f519"
      },
      "outputs": [
        {
          "name": "stderr",
          "output_type": "stream",
          "text": [
            "/usr/local/lib/python3.11/dist-packages/huggingface_hub/utils/_auth.py:94: UserWarning: \n",
            "The secret `HF_TOKEN` does not exist in your Colab secrets.\n",
            "To authenticate with the Hugging Face Hub, create a token in your settings tab (https://huggingface.co/settings/tokens), set it as secret in your Google Colab and restart your session.\n",
            "You will be able to reuse this secret in all of your notebooks.\n",
            "Please note that authentication is recommended but still optional to access public models or datasets.\n",
            "  warnings.warn(\n"
          ]
        },
        {
          "data": {
            "application/vnd.jupyter.widget-view+json": {
              "model_id": "16b81d3bc1444509a49d2f28be6edd20",
              "version_major": 2,
              "version_minor": 0
            },
            "text/plain": [
              "tokenizer_config.json:   0%|          | 0.00/48.0 [00:00<?, ?B/s]"
            ]
          },
          "metadata": {},
          "output_type": "display_data"
        },
        {
          "data": {
            "application/vnd.jupyter.widget-view+json": {
              "model_id": "d400325167014315bd0fcc079ecbc34b",
              "version_major": 2,
              "version_minor": 0
            },
            "text/plain": [
              "vocab.txt:   0%|          | 0.00/232k [00:00<?, ?B/s]"
            ]
          },
          "metadata": {},
          "output_type": "display_data"
        },
        {
          "data": {
            "application/vnd.jupyter.widget-view+json": {
              "model_id": "d9bb4f31798b438988afa40d915eda7e",
              "version_major": 2,
              "version_minor": 0
            },
            "text/plain": [
              "tokenizer.json:   0%|          | 0.00/466k [00:00<?, ?B/s]"
            ]
          },
          "metadata": {},
          "output_type": "display_data"
        },
        {
          "data": {
            "application/vnd.jupyter.widget-view+json": {
              "model_id": "fafa1015efd9413b9d4462925b08c1d6",
              "version_major": 2,
              "version_minor": 0
            },
            "text/plain": [
              "config.json:   0%|          | 0.00/570 [00:00<?, ?B/s]"
            ]
          },
          "metadata": {},
          "output_type": "display_data"
        }
      ],
      "source": [
        "# Initialize tokenizer\n",
        "model_name = 'bert-base-uncased'\n",
        "tokenizer = BertTokenizer.from_pretrained(model_name)\n",
        "\n",
        "# Initialize data collator\n",
        "data_collator = DataCollatorWithPadding(tokenizer=tokenizer)\n",
        "\n",
        "batch_size = 16"
      ]
    },
    {
      "cell_type": "code",
      "execution_count": null,
      "id": "QP53B7ut2IAK",
      "metadata": {
        "id": "QP53B7ut2IAK"
      },
      "outputs": [],
      "source": [
        "def tokenize_function(example):\n",
        "    return tokenizer(\n",
        "        example[\"question1\"],\n",
        "        example[\"question2\"],\n",
        "        truncation=True,\n",
        "        padding=True,\n",
        "        max_length=256,\n",
        "        return_tensors=None\n",
        "    )\n",
        "\n",
        "def prepare_dataset(df, tokenize_function):\n",
        "    tokenized_dataset = df.map(\n",
        "        tokenize_function,\n",
        "        batched=True,\n",
        "        remove_columns=text_columns\n",
        "    )\n",
        "    tokenized_dataset = tokenized_dataset.rename_column(\"is_duplicate\", \"labels\")\n",
        "    return tokenized_dataset"
      ]
    },
    {
      "cell_type": "code",
      "execution_count": null,
      "id": "G1CXIark8-gB",
      "metadata": {
        "colab": {
          "base_uri": "https://localhost:8080/",
          "height": 113,
          "referenced_widgets": [
            "17f6d83ec0554e378c6dd8ea09261143",
            "e16d8cbb498a4a70a530cbd800467dc6",
            "ab950ee4451f43f38df145752cf979ed",
            "a5c41bd77e48464b9e87a4b659fd76f4",
            "fb225f243d084b46abc07a8d31441349",
            "3eb4201f410345d9bae20690655674d5",
            "1cab165cf26e4f1687e69838c37c7f7e",
            "05dcd409f24e42ffb1d7b6eacf2f4769",
            "85dc1cceeb234ee9842b7dcf78ce28e9",
            "d1b367c6a0b94c409dffa03321c7dd60",
            "ac53104c05f3483389cda8a3297880da",
            "6a24411b1bad4aa3915185d5c3c4c013",
            "c2c8d8d4d87d4ef8bc2b6443e3ed5b0f",
            "5ccf56bd4c7c4acda40b89b681de480c",
            "4f0e161a3de74cbfb326ca365fa10b8f",
            "709c0772c2fc4b378ba929009e0cefba",
            "0596301267dd49c0a801b21ee29a6e46",
            "64625ab055c544afa0e0d0eb3b9b0fe6",
            "d4fcd9bc1f0a4410bd33f188948f0a76",
            "7ea90dc9442546d796c39446e869dced",
            "220bd13a5d714094b8f34b2e6b61d61d",
            "4a36f69cb3ef454aaccc9a61c683e871",
            "157bb892581446a6b1848fa9c3606cbd",
            "00ca8f33b8f84995b8ca6313b397560a",
            "90341c19000e453bbf7d78fb94151b0c",
            "fe8c8421a7d4491aaacc3a9663b1e9e9",
            "20d7c10eca5a434ebf72d68f17da2669",
            "acec1d01319c43acaef562eec4c4effd",
            "ac7e1a7d41084886bf51b6b9c6d3ed95",
            "f6abca863a9a4bbebe9446f42c61a5eb",
            "d499de05a46f46ae87492a8ef2bb46e5",
            "8ed3b045384244f687f201087ecdba9b",
            "db728e8cf10e41cb933a57aac2c6f9db"
          ]
        },
        "executionInfo": {
          "elapsed": 222758,
          "status": "ok",
          "timestamp": 1748520912555,
          "user": {
            "displayName": "Natalia Koval",
            "userId": "10118236118774007377"
          },
          "user_tz": -180
        },
        "id": "G1CXIark8-gB",
        "outputId": "7b306bda-040f-4cd7-b91f-d2c2d8d07d4a"
      },
      "outputs": [
        {
          "data": {
            "application/vnd.jupyter.widget-view+json": {
              "model_id": "17f6d83ec0554e378c6dd8ea09261143",
              "version_major": 2,
              "version_minor": 0
            },
            "text/plain": [
              "Map:   0%|          | 0/258743 [00:00<?, ? examples/s]"
            ]
          },
          "metadata": {},
          "output_type": "display_data"
        },
        {
          "data": {
            "application/vnd.jupyter.widget-view+json": {
              "model_id": "6a24411b1bad4aa3915185d5c3c4c013",
              "version_major": 2,
              "version_minor": 0
            },
            "text/plain": [
              "Map:   0%|          | 0/64686 [00:00<?, ? examples/s]"
            ]
          },
          "metadata": {},
          "output_type": "display_data"
        },
        {
          "data": {
            "application/vnd.jupyter.widget-view+json": {
              "model_id": "157bb892581446a6b1848fa9c3606cbd",
              "version_major": 2,
              "version_minor": 0
            },
            "text/plain": [
              "Map:   0%|          | 0/80858 [00:00<?, ? examples/s]"
            ]
          },
          "metadata": {},
          "output_type": "display_data"
        }
      ],
      "source": [
        "# Create datasets using tokenize_function\n",
        "tokenized_train_dataset = prepare_dataset(train_dataset, tokenize_function)\n",
        "tokenized_val_dataset = prepare_dataset(val_dataset, tokenize_function)\n",
        "tokenized_test_dataset = prepare_dataset(test_dataset, tokenize_function)"
      ]
    },
    {
      "cell_type": "code",
      "execution_count": null,
      "id": "kUtqg9-18nb0",
      "metadata": {
        "colab": {
          "base_uri": "https://localhost:8080/",
          "height": 130,
          "referenced_widgets": [
            "530e3508b4a046c1a3b7bae010868862",
            "e71f0a8159f64b6b8f46fc125036f711",
            "c6b335cfcdb24e4f8cc660649bb37a12",
            "58b1054cc07d48df930693c3e8b5b3e3",
            "b1e656cfc9e145539b066fb6c51c5031",
            "824600b024694263a20d12a44bbbd3d0",
            "9e3d5d99d2514841a81da6d76d5de271",
            "99656cbf1d1e4af0938f396df6f57b55",
            "1e8f9ce7794e48e7ae04c2c1a07085e4",
            "31d32aad2a194d2f99189297591d05d7",
            "10e10daa49c84445bd213e06ad01519a",
            "a15c30bed5444f2e878443a693d6f798",
            "8f3f74a9439f42c98cac4b7b759d7368",
            "c063c26b0b7d490bb3cf30c4bc1f5d5a",
            "9ed7f8d69f2040cfbe92a3bf9fc9a621",
            "cfde421f1f974a49badd22dede2b7036",
            "d5c68684c87a46649bee8387ea0bcc8b",
            "25418e794f1043bb9772d3cd08c47636",
            "9e46786ec8274c6e8ae6c60d5ccd9e13",
            "a0875796f3b24edba53deb7e3675d0c7",
            "58ef0df40d3a4ed19d74b5e397b43ff9",
            "313c8655076f47c6b6236146bf70a233",
            "48b76c34e06645c18ff0a60e6c59d085",
            "4f3e36d043a7407c8bd706465ac23e81",
            "969619ecb66f4cf39318a800a1f090aa",
            "e48c82a68c33499595bd10cab713953d",
            "37ff0ae7532a43da968a3f6931014483",
            "9b57bfd8fc374daeb4cd78e7eeb8aecd",
            "c8bc5ea4e40e4c17a76bfad58f4d63b2",
            "a00eab6ef927405a9d0e4bcf4cf5673b",
            "fe0550d009a849018cbdc477e6123852",
            "43759072dbc848c1adbcf7e2ce568912",
            "8d1b7107d17a4bad95f30a6a3f1fcf3a"
          ]
        },
        "executionInfo": {
          "elapsed": 3123,
          "status": "ok",
          "timestamp": 1748521016244,
          "user": {
            "displayName": "Natalia Koval",
            "userId": "10118236118774007377"
          },
          "user_tz": -180
        },
        "id": "kUtqg9-18nb0",
        "outputId": "facd83f6-d9df-423c-ef33-3efc27d2b5c2"
      },
      "outputs": [
        {
          "data": {
            "application/vnd.jupyter.widget-view+json": {
              "model_id": "530e3508b4a046c1a3b7bae010868862",
              "version_major": 2,
              "version_minor": 0
            },
            "text/plain": [
              "Creating parquet from Arrow format:   0%|          | 0/259 [00:00<?, ?ba/s]"
            ]
          },
          "metadata": {},
          "output_type": "display_data"
        },
        {
          "data": {
            "application/vnd.jupyter.widget-view+json": {
              "model_id": "a15c30bed5444f2e878443a693d6f798",
              "version_major": 2,
              "version_minor": 0
            },
            "text/plain": [
              "Creating parquet from Arrow format:   0%|          | 0/65 [00:00<?, ?ba/s]"
            ]
          },
          "metadata": {},
          "output_type": "display_data"
        },
        {
          "data": {
            "application/vnd.jupyter.widget-view+json": {
              "model_id": "48b76c34e06645c18ff0a60e6c59d085",
              "version_major": 2,
              "version_minor": 0
            },
            "text/plain": [
              "Creating parquet from Arrow format:   0%|          | 0/81 [00:00<?, ?ba/s]"
            ]
          },
          "metadata": {},
          "output_type": "display_data"
        },
        {
          "data": {
            "text/plain": [
              "59865664"
            ]
          },
          "execution_count": 50,
          "metadata": {},
          "output_type": "execute_result"
        }
      ],
      "source": [
        "tokenized_train_dataset.to_parquet(DATA_PATH + '/tokenized_train_dataset.parquet')\n",
        "tokenized_val_dataset.to_parquet(DATA_PATH + '/tokenized_val_dataset.parquet')\n",
        "tokenized_test_dataset.to_parquet(DATA_PATH + '/tokenized_test_dataset.parquet')"
      ]
    },
    {
      "cell_type": "code",
      "execution_count": null,
      "id": "qbwZouGuXF0w",
      "metadata": {
        "colab": {
          "base_uri": "https://localhost:8080/",
          "height": 113,
          "referenced_widgets": [
            "b7c22099c6764071a463281bc551315a",
            "179915e92b614935bc528e0450883bf5",
            "69ad0c106fc147daa146515905e8f66e",
            "d7b485778cc84ce89c5e0e3542ef28dc",
            "17d5ee8a48254889b4c7ca8dc75b8ada",
            "eab424f56aa1436d9be46c989449f6b1",
            "c562e357097b47108cd072c5c3c753b3",
            "1b7e577c519c4c348bd9070bf9ac4d43",
            "c4998316a07c4627a0b1a44329c4ae38",
            "2b02544d925c4945bfc783694a808037",
            "c2ff22c68bc84792b677741b8e7cdebc",
            "c28cb75a69454c9d87d84352ad770034",
            "8081c035931d4ecf9f5a85c87df5f138",
            "0e586a29802443bda83abe642b6f36d5",
            "9ba8463a235a400796e71f87497024d3",
            "f6924cac41b34db9bf591b571c9910de",
            "6f77b52976e24103bf5b3c3829dc6223",
            "c5f8d6ef4ec14ca984e2dcabf77f8a89",
            "dc3cc509d18c46efbb239c1535da157b",
            "efa9f38d1d904b489c74345b86afa9f7",
            "1a656ee53f1b4b9ab3c80391e53e92dd",
            "c00dabb8c58c4eedab6337a4e392b07c",
            "a79e12c436c44eeeb4648ac626c44bff",
            "57a0523e08244ca0a753ae2db85482b5",
            "e6883703da694f3a97eaab7d8691e849",
            "ea43e028fab044c095d9e310dc0641cd",
            "4c5d58a77c734fbebb865b07e92abc7f",
            "072b0b7a0f0044968c7ff024869b7614",
            "f3c2d231919548d588a1a94e509c4e46",
            "1e523d9fc29142af9b38c1d9d47b4e1f",
            "7de72f5e152242979ce5099e5a2086be",
            "983ab4504929460ba17a749da313f0f1",
            "33af8721c05640de9448e1052b1420cc"
          ]
        },
        "executionInfo": {
          "elapsed": 5424,
          "status": "ok",
          "timestamp": 1748624485003,
          "user": {
            "displayName": "Natalia Koval",
            "userId": "10118236118774007377"
          },
          "user_tz": -180
        },
        "id": "qbwZouGuXF0w",
        "outputId": "add944fa-0917-407e-ae6d-53e487b24c66"
      },
      "outputs": [
        {
          "data": {
            "application/vnd.jupyter.widget-view+json": {
              "model_id": "b7c22099c6764071a463281bc551315a",
              "version_major": 2,
              "version_minor": 0
            },
            "text/plain": [
              "Generating train split: 0 examples [00:00, ? examples/s]"
            ]
          },
          "metadata": {},
          "output_type": "display_data"
        },
        {
          "data": {
            "application/vnd.jupyter.widget-view+json": {
              "model_id": "c28cb75a69454c9d87d84352ad770034",
              "version_major": 2,
              "version_minor": 0
            },
            "text/plain": [
              "Generating validation split: 0 examples [00:00, ? examples/s]"
            ]
          },
          "metadata": {},
          "output_type": "display_data"
        },
        {
          "data": {
            "application/vnd.jupyter.widget-view+json": {
              "model_id": "a79e12c436c44eeeb4648ac626c44bff",
              "version_major": 2,
              "version_minor": 0
            },
            "text/plain": [
              "Generating test split: 0 examples [00:00, ? examples/s]"
            ]
          },
          "metadata": {},
          "output_type": "display_data"
        }
      ],
      "source": [
        "data_files = {\n",
        "  'train': 'tokenized_train_dataset.parquet',\n",
        "  'validation': 'tokenized_val_dataset.parquet',\n",
        "  'test': 'tokenized_test_dataset.parquet'\n",
        "}\n",
        "\n",
        "raw_datasets = load_dataset('parquet', data_dir=DATA_PATH, data_files=data_files)"
      ]
    },
    {
      "cell_type": "code",
      "execution_count": null,
      "id": "seQx0JiNYomv",
      "metadata": {
        "id": "seQx0JiNYomv"
      },
      "outputs": [],
      "source": [
        "tokenized_train_dataset = raw_datasets['train']\n",
        "tokenized_val_dataset = raw_datasets['validation']\n",
        "tokenized_test_dataset = raw_datasets['test']"
      ]
    },
    {
      "cell_type": "code",
      "execution_count": null,
      "id": "7yxHd25xyXiX",
      "metadata": {
        "id": "7yxHd25xyXiX"
      },
      "outputs": [],
      "source": [
        "# Create data loaders with DataCollatorWithPadding\n",
        "train_loader = DataLoader(\n",
        "    tokenized_train_dataset,\n",
        "    batch_size=batch_size,\n",
        "    shuffle=True,\n",
        "    collate_fn=data_collator\n",
        ")\n",
        "\n",
        "val_loader = DataLoader(\n",
        "    tokenized_val_dataset,\n",
        "    batch_size=batch_size,\n",
        "    shuffle=False,\n",
        "    collate_fn=data_collator\n",
        ")\n",
        "\n",
        "test_loader = DataLoader(\n",
        "    tokenized_test_dataset,\n",
        "    batch_size=batch_size,\n",
        "    shuffle=False,\n",
        "    collate_fn=data_collator\n",
        ")"
      ]
    },
    {
      "cell_type": "markdown",
      "id": "pkJCT8GKVxGE",
      "metadata": {
        "id": "pkJCT8GKVxGE"
      },
      "source": [
        "### Model Setup"
      ]
    },
    {
      "cell_type": "code",
      "execution_count": null,
      "id": "GziA8lqjWELw",
      "metadata": {
        "id": "GziA8lqjWELw"
      },
      "outputs": [],
      "source": [
        "# Training parameters\n",
        "batch_size = 16\n",
        "learning_rate = 1e-5\n",
        "epochs = 2\n",
        "warmup_steps = 1000"
      ]
    },
    {
      "cell_type": "code",
      "execution_count": null,
      "id": "8zYtpG0VWC2i",
      "metadata": {
        "colab": {
          "base_uri": "https://localhost:8080/",
          "height": 830,
          "referenced_widgets": [
            "96ea1b18bc644a14badd2aeeb393f3d2",
            "aa57144c1f1c4640b317dd2edb62707d",
            "04aea86a9a24419aaa3f10b587ccbfd9",
            "7227a286843240ab8a8bd4d980cd1cd4",
            "c68476ef52974012a6ba8022cf8b12af",
            "75e48b6b9beb484bb40a69ae49a37e7e",
            "4c0a1ce74e394bd4bf2338712c886fc9",
            "f487e74165394c4096e738c891b44aee",
            "abc2b42c4bfb4291992f25b1f14e5ac3",
            "4b40943f40f54f998a9f39efa9fb9d85",
            "6f6f1de0f043400186048449c0b1ea09"
          ]
        },
        "executionInfo": {
          "elapsed": 3116,
          "status": "ok",
          "timestamp": 1748624555934,
          "user": {
            "displayName": "Natalia Koval",
            "userId": "10118236118774007377"
          },
          "user_tz": -180
        },
        "id": "8zYtpG0VWC2i",
        "outputId": "c93204fb-5872-41cc-8275-b659b61c6fd4"
      },
      "outputs": [
        {
          "data": {
            "application/vnd.jupyter.widget-view+json": {
              "model_id": "96ea1b18bc644a14badd2aeeb393f3d2",
              "version_major": 2,
              "version_minor": 0
            },
            "text/plain": [
              "model.safetensors:   0%|          | 0.00/440M [00:00<?, ?B/s]"
            ]
          },
          "metadata": {},
          "output_type": "display_data"
        },
        {
          "data": {
            "text/plain": [
              "BertForSequenceClassification(\n",
              "  (bert): BertModel(\n",
              "    (embeddings): BertEmbeddings(\n",
              "      (word_embeddings): Embedding(30522, 768, padding_idx=0)\n",
              "      (position_embeddings): Embedding(512, 768)\n",
              "      (token_type_embeddings): Embedding(2, 768)\n",
              "      (LayerNorm): LayerNorm((768,), eps=1e-12, elementwise_affine=True)\n",
              "      (dropout): Dropout(p=0.1, inplace=False)\n",
              "    )\n",
              "    (encoder): BertEncoder(\n",
              "      (layer): ModuleList(\n",
              "        (0-11): 12 x BertLayer(\n",
              "          (attention): BertAttention(\n",
              "            (self): BertSdpaSelfAttention(\n",
              "              (query): Linear(in_features=768, out_features=768, bias=True)\n",
              "              (key): Linear(in_features=768, out_features=768, bias=True)\n",
              "              (value): Linear(in_features=768, out_features=768, bias=True)\n",
              "              (dropout): Dropout(p=0.1, inplace=False)\n",
              "            )\n",
              "            (output): BertSelfOutput(\n",
              "              (dense): Linear(in_features=768, out_features=768, bias=True)\n",
              "              (LayerNorm): LayerNorm((768,), eps=1e-12, elementwise_affine=True)\n",
              "              (dropout): Dropout(p=0.1, inplace=False)\n",
              "            )\n",
              "          )\n",
              "          (intermediate): BertIntermediate(\n",
              "            (dense): Linear(in_features=768, out_features=3072, bias=True)\n",
              "            (intermediate_act_fn): GELUActivation()\n",
              "          )\n",
              "          (output): BertOutput(\n",
              "            (dense): Linear(in_features=3072, out_features=768, bias=True)\n",
              "            (LayerNorm): LayerNorm((768,), eps=1e-12, elementwise_affine=True)\n",
              "            (dropout): Dropout(p=0.1, inplace=False)\n",
              "          )\n",
              "        )\n",
              "      )\n",
              "    )\n",
              "    (pooler): BertPooler(\n",
              "      (dense): Linear(in_features=768, out_features=768, bias=True)\n",
              "      (activation): Tanh()\n",
              "    )\n",
              "  )\n",
              "  (dropout): Dropout(p=0.1, inplace=False)\n",
              "  (classifier): Linear(in_features=768, out_features=2, bias=True)\n",
              ")"
            ]
          },
          "execution_count": 13,
          "metadata": {},
          "output_type": "execute_result"
        }
      ],
      "source": [
        "model = BertForSequenceClassification.from_pretrained(\n",
        "    model_name,\n",
        "    num_labels=2,\n",
        "    output_attentions=False,\n",
        "    output_hidden_states=False\n",
        ")\n",
        "\n",
        "model.to(device)"
      ]
    },
    {
      "cell_type": "code",
      "execution_count": null,
      "id": "JiJPHJjqWJ8q",
      "metadata": {
        "id": "JiJPHJjqWJ8q"
      },
      "outputs": [],
      "source": [
        "# Optimizer and scheduler\n",
        "optimizer = AdamW(model.parameters(), lr=learning_rate, eps=1e-8)\n",
        "total_steps = len(train_loader) * epochs\n",
        "scheduler = get_linear_schedule_with_warmup(\n",
        "    optimizer,\n",
        "    num_warmup_steps=warmup_steps,\n",
        "    num_training_steps=total_steps\n",
        ")\n",
        "\n",
        "# Loss function\n",
        "loss_fn = nn.CrossEntropyLoss()"
      ]
    },
    {
      "cell_type": "markdown",
      "id": "z-shlinzWWn4",
      "metadata": {
        "id": "z-shlinzWWn4"
      },
      "source": [
        "### Train and evaluate the model"
      ]
    },
    {
      "cell_type": "code",
      "execution_count": null,
      "id": "-eA_-JyqC8SR",
      "metadata": {
        "id": "-eA_-JyqC8SR"
      },
      "outputs": [],
      "source": [
        "# Calculate accuracy (a classification metric)\n",
        "def accuracy_fn(y_true, y_pred):\n",
        "    \"\"\"Calculates accuracy between truth labels and predictions.\n",
        "\n",
        "    Args:\n",
        "        y_true (torch.Tensor): Truth labels for predictions.\n",
        "        y_pred (torch.Tensor): Predictions to be compared to predictions.\n",
        "\n",
        "    Returns:\n",
        "        [torch.float]: Accuracy value between y_true and y_pred\n",
        "    \"\"\"\n",
        "    correct = torch.eq(y_true, y_pred).sum().item()\n",
        "    acc = (correct / len(y_pred)) * 100\n",
        "    return acc"
      ]
    },
    {
      "cell_type": "code",
      "execution_count": null,
      "id": "LI50C4hCWMtf",
      "metadata": {
        "id": "LI50C4hCWMtf"
      },
      "outputs": [],
      "source": [
        "def train_step(model, data_loader, optimizer, scheduler, loss_fn, accuracy_fn, device):\n",
        "    \"\"\"Training step for one epoch.\"\"\"\n",
        "    model.train()\n",
        "    train_loss, train_acc = 0, 0\n",
        "\n",
        "    for batch in tqdm(data_loader, desc='Training'):\n",
        "        optimizer.zero_grad()\n",
        "\n",
        "        input_ids = batch['input_ids'].to(device)\n",
        "        attention_mask = batch['attention_mask'].to(device)\n",
        "        labels = batch['labels'].to(device)\n",
        "\n",
        "        outputs = model(input_ids=input_ids, attention_mask=attention_mask)\n",
        "\n",
        "        logits = outputs.logits\n",
        "\n",
        "        loss = loss_fn(logits, labels)\n",
        "        train_loss += loss.item()\n",
        "        train_acc += accuracy_fn(labels, logits.argmax(dim=1))\n",
        "\n",
        "        loss.backward()\n",
        "        torch.nn.utils.clip_grad_norm_(model.parameters(), 1.0)\n",
        "\n",
        "        optimizer.step()\n",
        "        scheduler.step()\n",
        "\n",
        "    train_loss /= len(data_loader)\n",
        "    train_acc /= len(data_loader)\n",
        "    print(f\"Train loss: {train_loss:.5f} | Train accuracy: {train_acc:.2f}%\")\n",
        "    return train_loss"
      ]
    },
    {
      "cell_type": "code",
      "execution_count": null,
      "id": "lhkdW32hQdPY",
      "metadata": {
        "id": "lhkdW32hQdPY"
      },
      "outputs": [],
      "source": [
        "def test_step(model, data_loader, loss_fn, accuracy_fn, device):\n",
        "    model.eval()\n",
        "    test_loss, test_acc = 0, 0\n",
        "\n",
        "    predictions = []\n",
        "    true_labels = []\n",
        "    probabilities = []\n",
        "\n",
        "    with torch.no_grad():\n",
        "        for batch in tqdm(data_loader, desc='Evaluating'):\n",
        "            input_ids = batch['input_ids'].to(device)\n",
        "            attention_mask = batch['attention_mask'].to(device)\n",
        "            labels = batch['labels'].to(device)\n",
        "\n",
        "            outputs = model(input_ids=input_ids, attention_mask=attention_mask)\n",
        "            logits = outputs.logits\n",
        "\n",
        "            loss = loss_fn(logits, labels)\n",
        "            test_loss += loss.item()\n",
        "            test_acc += accuracy_fn(labels, logits.argmax(dim=1))\n",
        "\n",
        "            # Get probabilities for log-loss calculation\n",
        "            probs = torch.nn.functional.softmax(logits, dim=-1)\n",
        "            probabilities.extend(probs.cpu().numpy())\n",
        "\n",
        "            # Get predictions for F1 score\n",
        "            preds = logits.argmax(dim=1)\n",
        "            predictions.extend(preds.cpu().numpy())\n",
        "            true_labels.extend(labels.cpu().numpy())\n",
        "\n",
        "    predictions = np.array(predictions)\n",
        "    true_labels = np.array(true_labels)\n",
        "\n",
        "    # Calculate metrics\n",
        "    test_loss /= len(data_loader)\n",
        "    test_acc /= len(data_loader)\n",
        "\n",
        "    f1 = f1_score(true_labels, predictions)\n",
        "\n",
        "\n",
        "    print(f\"Test loss: {test_loss:.5f} | Test accuracy: {test_acc:.2f}% | Test F1 Score: {f1:.4f}\")\n",
        "    return {\n",
        "        'loss': test_loss,\n",
        "        'accuracy': test_acc,\n",
        "        'f1_score': f1,\n",
        "        'predictions': predictions,\n",
        "        'true_labels': true_labels,\n",
        "    }"
      ]
    },
    {
      "cell_type": "code",
      "execution_count": null,
      "id": "4hMUYTgSWUwO",
      "metadata": {
        "colab": {
          "base_uri": "https://localhost:8080/",
          "height": 457,
          "referenced_widgets": [
            "60c5a085b744433892369cfc1c395c9b",
            "c3cf2b4e9042497e876a6127f06adda2",
            "9f82ca08a13e4f529d5aa68782d2e9e0",
            "12b84562532740d7b4e29cb0c10c1966",
            "31fa021f8d4541b5861ed7b56ead6a50",
            "0d7bade928cc4c38893da71fe656ac13",
            "950ba5b997d04792b2a8ef56fa9748ba",
            "a42bd9bb9a414d53a82669f9696f3267",
            "a2290739cb90448ba9d38a7652fbcfec",
            "e1e55bd2553049bfbf759d3bcd2f8ab7",
            "ca71566cdf38419fb4c9647b56a200b3",
            "2512a7bc93b34285824e542e24ee671f",
            "aa201d64de824615b746ac4976432687",
            "a97352aac69144998640b0548e6c1724",
            "673c2b65e1fb4225823aac9214f53144",
            "8511eaf3a4784004b4e6fc91b273f5a3",
            "21536ba3e4ba49119c9dede3e2b28fa9",
            "dc66000f6d7342e59052721d5bf7e137",
            "e5954dcae8ac459ead21f70b5c4a6880",
            "ac2d1a8f898248c58ca5a2ea58580c37",
            "b8cdd1da0d4c4fe7b524f079e3b34121",
            "600478f56ccf4a3f8b1f6fecdec14a86",
            "44aec9325f2d4f98835990b816304008",
            "f6abb8def148463e9dcaab1444b8495a",
            "6a90352f140a41ae99780a8994324878",
            "6e3c628318c24c528c88cb88eed122ee",
            "ad8ff1a7bfb84366bd840e1c4b9090cc",
            "0d921fc1d729452fbc303d111e539af5",
            "db6a66da65684b6daa0093d4b21476e8",
            "ad531c9059464dec9418a18d7cb557f5",
            "24694ee4b4014d2c9991774c8dbb72b7",
            "fc343e6595644fa48e88e43368b34e56",
            "e874b362cdd84a7eb3cfa87466ec70a3",
            "eff3637952f74cedaba237d497cb7926",
            "bc7b33f033a04c93968aa2e837177ff2",
            "fd483ff2b73a48448ecf9252289ece44",
            "60914d4f8a604636befb49718718fa0b",
            "946d4ed4bc0a4bac9b662b3fa497cad9",
            "65c19a890396422787e58f4bb39c1a02",
            "a7115b55fdb44b56968071989967d59b",
            "5aa44858495d4eeab92b68015554e5b3",
            "a9652243abe143e484613da69b8ef185",
            "28214c62d86b4f2c874270b3a6045040",
            "8205c7ced84e421fa7efcfc5c3754a67"
          ]
        },
        "executionInfo": {
          "elapsed": 4444914,
          "status": "ok",
          "timestamp": 1748629047380,
          "user": {
            "displayName": "Natalia Koval",
            "userId": "10118236118774007377"
          },
          "user_tz": -180
        },
        "id": "4hMUYTgSWUwO",
        "outputId": "dbce7a76-f364-4813-fa88-15f6a08a7baa"
      },
      "outputs": [
        {
          "name": "stdout",
          "output_type": "stream",
          "text": [
            "Starting training...\n",
            "\n",
            "Epoch 1/2\n",
            "--------------------------------------------------\n"
          ]
        },
        {
          "data": {
            "application/vnd.jupyter.widget-view+json": {
              "model_id": "60c5a085b744433892369cfc1c395c9b",
              "version_major": 2,
              "version_minor": 0
            },
            "text/plain": [
              "Training:   0%|          | 0/16172 [00:00<?, ?it/s]"
            ]
          },
          "metadata": {},
          "output_type": "display_data"
        },
        {
          "name": "stdout",
          "output_type": "stream",
          "text": [
            "Train loss: 0.34081 | Train accuracy: 84.61%\n"
          ]
        },
        {
          "data": {
            "application/vnd.jupyter.widget-view+json": {
              "model_id": "2512a7bc93b34285824e542e24ee671f",
              "version_major": 2,
              "version_minor": 0
            },
            "text/plain": [
              "Evaluating:   0%|          | 0/4043 [00:00<?, ?it/s]"
            ]
          },
          "metadata": {},
          "output_type": "display_data"
        },
        {
          "name": "stdout",
          "output_type": "stream",
          "text": [
            "Test loss: 0.26750 | Test accuracy: 88.71% | Test F1 Score: 0.8501\n",
            "\n",
            "Epoch 2/2\n",
            "--------------------------------------------------\n"
          ]
        },
        {
          "data": {
            "application/vnd.jupyter.widget-view+json": {
              "model_id": "44aec9325f2d4f98835990b816304008",
              "version_major": 2,
              "version_minor": 0
            },
            "text/plain": [
              "Training:   0%|          | 0/16172 [00:00<?, ?it/s]"
            ]
          },
          "metadata": {},
          "output_type": "display_data"
        },
        {
          "name": "stdout",
          "output_type": "stream",
          "text": [
            "Train loss: 0.22866 | Train accuracy: 90.82%\n"
          ]
        },
        {
          "data": {
            "application/vnd.jupyter.widget-view+json": {
              "model_id": "eff3637952f74cedaba237d497cb7926",
              "version_major": 2,
              "version_minor": 0
            },
            "text/plain": [
              "Evaluating:   0%|          | 0/4043 [00:00<?, ?it/s]"
            ]
          },
          "metadata": {},
          "output_type": "display_data"
        },
        {
          "name": "stdout",
          "output_type": "stream",
          "text": [
            "Test loss: 0.27312 | Test accuracy: 89.26% | Test F1 Score: 0.8587\n",
            "\n",
            "Training completed!\n",
            "\n",
            "Final Results:\n",
            "Best Validation Log Loss: 0.2675\n",
            "Best Validation F1 Score: 0.8587\n",
            "Best Validation Accuracy: 89.26%\n"
          ]
        }
      ],
      "source": [
        "# Training Loop\n",
        "train_losses = []\n",
        "val_losses = []\n",
        "val_accuracies = []\n",
        "val_f1_scores = []\n",
        "\n",
        "print(\"Starting training...\")\n",
        "\n",
        "for epoch in range(epochs):\n",
        "    print(f\"\\nEpoch {epoch + 1}/{epochs}\")\n",
        "    print(\"-\" * 50)\n",
        "\n",
        "    # Training\n",
        "    train_loss = train_step(model, train_loader, optimizer, scheduler, loss_fn, accuracy_fn, device)\n",
        "    train_losses.append(train_loss)\n",
        "\n",
        "    # Validation\n",
        "    val_results = test_step(model, val_loader, loss_fn, accuracy_fn, device)\n",
        "    val_losses.append(val_results['loss'])\n",
        "    val_accuracies.append(val_results['accuracy'])\n",
        "    val_f1_scores.append(val_results['f1_score'])\n",
        "\n",
        "\n",
        "print(\"\\nTraining completed!\")\n",
        "\n",
        "# Print final results\n",
        "print(f\"\\nFinal Results:\")\n",
        "print(f\"Best Validation Log Loss: {min(val_losses):.4f}\")\n",
        "print(f\"Best Validation F1 Score: {max(val_f1_scores):.4f}\")\n",
        "print(f\"Best Validation Accuracy: {max(val_accuracies):.2f}%\")\n"
      ]
    },
    {
      "cell_type": "markdown",
      "id": "0CtNVB5fflCa",
      "metadata": {
        "id": "0CtNVB5fflCa"
      },
      "source": [
        "### Save the model"
      ]
    },
    {
      "cell_type": "code",
      "execution_count": null,
      "id": "GgSIz3jSff0_",
      "metadata": {
        "colab": {
          "base_uri": "https://localhost:8080/"
        },
        "executionInfo": {
          "elapsed": 1121,
          "status": "ok",
          "timestamp": 1748629916068,
          "user": {
            "displayName": "Natalia Koval",
            "userId": "10118236118774007377"
          },
          "user_tz": -180
        },
        "id": "GgSIz3jSff0_",
        "outputId": "7393985f-b616-4afa-f493-9cee8ea854c3"
      },
      "outputs": [
        {
          "name": "stdout",
          "output_type": "stream",
          "text": [
            "\n",
            "Model saved to './bert_quora_model'\n"
          ]
        }
      ],
      "source": [
        "MODEL_PATH = '/content/drive/MyDrive/quora_duplicate_questions/models/bert_quora_model'\n",
        "model.save_pretrained(MODEL_PATH)\n",
        "tokenizer.save_pretrained(MODEL_PATH)\n",
        "print(\"\\nModel saved to './bert_quora_model'\")"
      ]
    },
    {
      "cell_type": "markdown",
      "id": "oDSOTS_Ffb24",
      "metadata": {
        "id": "oDSOTS_Ffb24"
      },
      "source": [
        "## Final Evaluation on Test Set"
      ]
    },
    {
      "cell_type": "code",
      "execution_count": null,
      "id": "9wvAWGeWX0LF",
      "metadata": {
        "colab": {
          "base_uri": "https://localhost:8080/",
          "height": 188,
          "referenced_widgets": [
            "2e047ce9d5984a6b9f783e8770148ee9",
            "9dde1008a36044a8a5996052356bde76",
            "98a3ed47274c449287ef6fbb4d9ab943",
            "9e79cbc9c4e84e38acdd02b9a65f9460",
            "8c1693bc86b94aaa938d5c0e20f508a6",
            "f6b82385a7b2460d89519470b2a3a30d",
            "bd85c8676ebb498eb49e49f293517ae4",
            "2648dd739d174456a6b6ca53b7c94bf0",
            "06db987476bd408d92ea9179d952fa38",
            "b2f0a35f6b1249de9b1f0c5d8f8092df",
            "cc7053371a0547348dc2c878ad392f30"
          ]
        },
        "executionInfo": {
          "elapsed": 147146,
          "status": "ok",
          "timestamp": 1748631864006,
          "user": {
            "displayName": "Natalia Koval",
            "userId": "10118236118774007377"
          },
          "user_tz": -180
        },
        "id": "9wvAWGeWX0LF",
        "outputId": "38dc5f91-664b-4f02-eb61-200d0f827402"
      },
      "outputs": [
        {
          "name": "stdout",
          "output_type": "stream",
          "text": [
            "\n",
            "==================================================\n",
            "FINAL EVALUATION ON TEST SET\n",
            "==================================================\n"
          ]
        },
        {
          "data": {
            "application/vnd.jupyter.widget-view+json": {
              "model_id": "2e047ce9d5984a6b9f783e8770148ee9",
              "version_major": 2,
              "version_minor": 0
            },
            "text/plain": [
              "Evaluating:   0%|          | 0/5054 [00:00<?, ?it/s]"
            ]
          },
          "metadata": {},
          "output_type": "display_data"
        },
        {
          "name": "stdout",
          "output_type": "stream",
          "text": [
            "Test loss: 0.27232 | Test accuracy: 89.24% | Test F1 Score: 0.8584\n",
            "Test Loss: 0.2723\n",
            "Test Accuracy: 89.2422\n",
            "Test F1 Score: 0.8584\n"
          ]
        }
      ],
      "source": [
        "print(\"\\n\" + \"=\"*50)\n",
        "print(\"FINAL EVALUATION ON TEST SET\")\n",
        "print(\"=\"*50)\n",
        "\n",
        "test_results = test_step(model, test_loader, loss_fn, accuracy_fn, device)\n",
        "\n",
        "print(f\"Test Loss: {test_results['loss']:.4f}\")\n",
        "print(f\"Test Accuracy: {test_results['accuracy']:.4f}\")\n",
        "print(f\"Test F1 Score: {test_results['f1_score']:.4f}\")"
      ]
    },
    {
      "cell_type": "code",
      "execution_count": null,
      "id": "dP0vpncFiTlu",
      "metadata": {
        "colab": {
          "base_uri": "https://localhost:8080/",
          "height": 576
        },
        "executionInfo": {
          "elapsed": 160,
          "status": "ok",
          "timestamp": 1748631590695,
          "user": {
            "displayName": "Natalia Koval",
            "userId": "10118236118774007377"
          },
          "user_tz": -180
        },
        "id": "dP0vpncFiTlu",
        "outputId": "13f9592a-5c9c-4a08-b371-29a59b3a5c1c"
      },
      "outputs": [
        {
          "name": "stdout",
          "output_type": "stream",
          "text": [
            "Test Loss: 0.2723\n",
            "Test Accuracy: 89.2422\n",
            "Test F1 Score: 0.8584\n",
            "\n",
            "Classification Report:\n",
            "               precision    recall  f1-score   support\n",
            "\n",
            "Not Duplicate       0.93      0.90      0.91     51005\n",
            "    Duplicate       0.84      0.88      0.86     29853\n",
            "\n",
            "     accuracy                           0.89     80858\n",
            "    macro avg       0.88      0.89      0.89     80858\n",
            " weighted avg       0.89      0.89      0.89     80858\n",
            "\n"
          ]
        },
        {
          "data": {
            "image/png": "[encoded data removed]",
            "text/plain": [
              "<Figure size 400x300 with 2 Axes>"
            ]
          },
          "metadata": {},
          "output_type": "display_data"
        }
      ],
      "source": [
        "print(f\"Test Loss: {test_results['loss']:.4f}\")\n",
        "print(f\"Test Accuracy: {test_results['accuracy']:.4f}\")\n",
        "print(f\"Test F1 Score: {test_results['f1_score']:.4f}\")\n",
        "\n",
        "# Detailed classification report\n",
        "print(f\"\\nClassification Report:\")\n",
        "print(classification_report(test_results['true_labels'], test_results['predictions'],\n",
        "                          target_names=['Not Duplicate', 'Duplicate']))\n",
        "\n",
        "# Confusion Matrix\n",
        "plt.figure(figsize=(4, 3))\n",
        "cm = confusion_matrix(test_results['true_labels'],\n",
        "                      test_results['predictions'],\n",
        "                      normalize='true')\n",
        "sns.heatmap(cm, annot=True, cmap='YlOrBr')\n",
        "plt.title('Confusion Matrix (Test Set)')\n",
        "plt.xlabel('Predicted')\n",
        "plt.ylabel('Actual')\n",
        "plt.show()"
      ]
    },
    {
      "cell_type": "markdown",
      "id": "e87c22c7",
      "metadata": {},
      "source": [
        "## Prediction"
      ]
    },
    {
      "cell_type": "code",
      "execution_count": null,
      "id": "ulblOdZbRe4I",
      "metadata": {
        "colab": {
          "base_uri": "https://localhost:8080/"
        },
        "executionInfo": {
          "elapsed": 40,
          "status": "ok",
          "timestamp": 1748632535850,
          "user": {
            "displayName": "Natalia Koval",
            "userId": "10118236118774007377"
          },
          "user_tz": -180
        },
        "id": "ulblOdZbRe4I",
        "outputId": "6e9115ba-8de7-4213-fba0-ed34080d37f9"
      },
      "outputs": [
        {
          "name": "stdout",
          "output_type": "stream",
          "text": [
            "\n",
            "Example Prediction:\n",
            "Question 1: Why is beef banned in India and not pork as well?\t\n",
            "Question 2: Is beef banned in india?\n",
            "Is Duplicate: False\n",
            "Probability: 0.0942\n",
            "Confidence: 0.9058\n"
          ]
        }
      ],
      "source": [
        "def predict_duplicate(question1, question2, model, tokenizer, device):\n",
        "    \"\"\"\n",
        "    Predict if two questions are duplicates\n",
        "    \"\"\"\n",
        "    model.eval()\n",
        "\n",
        "    encoding = tokenizer(\n",
        "        question1,\n",
        "        question2,\n",
        "        truncation=True,\n",
        "        padding=True,\n",
        "        max_length=256,\n",
        "        return_tensors=None\n",
        "    )\n",
        "\n",
        "    input_ids = torch.unsqueeze(torch.tensor(encoding['input_ids']), dim=0).to(device)\n",
        "    attention_mask = torch.unsqueeze(torch.tensor(encoding['attention_mask']), dim=0).to(device)\n",
        "\n",
        "    with torch.no_grad():\n",
        "        outputs = model(input_ids=input_ids, attention_mask=attention_mask)\n",
        "        predictions = torch.nn.functional.softmax(outputs.logits, dim=-1)\n",
        "\n",
        "    probability = predictions[0][1].item()  # Probability of being duplicate\n",
        "    is_duplicate = probability > 0.5\n",
        "\n",
        "    return {\n",
        "        'is_duplicate': is_duplicate,\n",
        "        'probability': probability,\n",
        "        'confidence': max(probability, 1 - probability)\n",
        "    }\n",
        "\n",
        "# Example usage\n",
        "example_q1 = \"Why is beef banned in India and not pork as well?\t\"\n",
        "example_q2 = \"Is beef banned in india?\"\n",
        "\n",
        "result = predict_duplicate(example_q1, example_q2, model, tokenizer, device)\n",
        "print(f\"\\nExample Prediction:\")\n",
        "print(f\"Question 1: {example_q1}\")\n",
        "print(f\"Question 2: {example_q2}\")\n",
        "print(f\"Is Duplicate: {result['is_duplicate']}\")\n",
        "print(f\"Probability: {result['probability']:.4f}\")\n",
        "print(f\"Confidence: {result['confidence']:.4f}\")"
      ]
    },
    {
      "cell_type": "code",
      "execution_count": null,
      "id": "40f65bca",
      "metadata": {},
      "outputs": [],
      "source": [
        "experiment_results = joblib.load(os.path.join(DATA_PATH, 'experiment_results.joblib'))"
      ]
    },
    {
      "cell_type": "code",
      "execution_count": null,
      "id": "S59bnB5xonKL",
      "metadata": {
        "id": "S59bnB5xonKL"
      },
      "outputs": [],
      "source": [
        "results = {}\n",
        "results['model'] = 'BERT Fine-Tuning'\n",
        "results['log_loss_train'] = np.round(train_losses[-1], 5)\n",
        "results['log_loss_val'] = np.round(val_losses[-1], 5)\n",
        "\n",
        "experiment_results.append(results)"
      ]
    },
    {
      "cell_type": "code",
      "execution_count": null,
      "id": "DK-Th45PopG6",
      "metadata": {
        "colab": {
          "base_uri": "https://localhost:8080/"
        },
        "executionInfo": {
          "elapsed": 17,
          "status": "ok",
          "timestamp": 1748632956017,
          "user": {
            "displayName": "Natalia Koval",
            "userId": "10118236118774007377"
          },
          "user_tz": -180
        },
        "id": "DK-Th45PopG6",
        "outputId": "a180e678-7b71-49a1-8757-fdc92c5845ab"
      },
      "outputs": [
        {
          "data": {
            "text/plain": [
              "['/content/drive/MyDrive/quora_duplicate_questions/data/processed/experiment_results.joblib']"
            ]
          },
          "execution_count": 53,
          "metadata": {},
          "output_type": "execute_result"
        }
      ],
      "source": [
        "joblib.dump(experiment_results,\n",
        "            os.path.join(DATA_PATH, 'experiment_results.joblib'))"
      ]
    }
  ],
  "metadata": {
    "accelerator": "GPU",
    "colab": {
      "gpuType": "A100",
      "provenance": []
    },
    "kernelspec": {
      "display_name": "Python 3",
      "name": "python3"
    },
    "language_info": {
      "codemirror_mode": {
        "name": "ipython",
        "version": 3
      },
      "file_extension": ".py",
      "mimetype": "text/x-python",
      "name": "python",
      "nbconvert_exporter": "python",
      "pygments_lexer": "ipython3",
      "version": "3.12.7"
    }
  },
  "nbformat": 4,
  "nbformat_minor": 5
}
