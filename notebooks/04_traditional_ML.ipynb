{
 "cells": [
  {
   "cell_type": "markdown",
   "id": "8c5543eb",
   "metadata": {
    "id": "8c5543eb"
   },
   "source": [
    "## Importing Libraries"
   ]
  },
  {
   "cell_type": "code",
   "execution_count": 1,
   "id": "-PzQE33IXIpR",
   "metadata": {
    "colab": {
     "base_uri": "https://localhost:8080/"
    },
    "executionInfo": {
     "elapsed": 1292,
     "status": "ok",
     "timestamp": 1748889065580,
     "user": {
      "displayName": "Natalia Koval",
      "userId": "10118236118774007377"
     },
     "user_tz": -180
    },
    "id": "-PzQE33IXIpR",
    "outputId": "84a569d8-a11b-45aa-b9cf-751979ce5d34"
   },
   "outputs": [
    {
     "name": "stdout",
     "output_type": "stream",
     "text": [
      "Drive already mounted at /content/drive; to attempt to forcibly remount, call drive.mount(\"/content/drive\", force_remount=True).\n"
     ]
    }
   ],
   "source": [
    "from google.colab import drive\n",
    "drive.mount('/content/drive')"
   ]
  },
  {
   "cell_type": "code",
   "execution_count": 2,
   "id": "89a40644",
   "metadata": {
    "executionInfo": {
     "elapsed": 14143,
     "status": "ok",
     "timestamp": 1748889081159,
     "user": {
      "displayName": "Natalia Koval",
      "userId": "10118236118774007377"
     },
     "user_tz": -180
    },
    "id": "89a40644"
   },
   "outputs": [],
   "source": [
    "import sys\n",
    "import os\n",
    "sys.path.append('/content/drive/MyDrive/quora_duplicate_questions/src')\n",
    "\n",
    "import joblib\n",
    "import numpy as np\n",
    "import pandas as pd\n",
    "from scipy.sparse import hstack, csr_matrix\n",
    "from sklearn.feature_extraction.text import TfidfVectorizer\n",
    "from sklearn.linear_model import LogisticRegression\n",
    "from sklearn.ensemble import RandomForestClassifier\n",
    "from xgboost import XGBClassifier\n",
    "from lightgbm import LGBMClassifier\n",
    "\n",
    "from utils import evaluate_model\n",
    "import warnings\n",
    "warnings.simplefilter(action='ignore', category=FutureWarning)"
   ]
  },
  {
   "cell_type": "markdown",
   "id": "ae406ef9",
   "metadata": {
    "id": "ae406ef9"
   },
   "source": [
    "## Load data"
   ]
  },
  {
   "cell_type": "code",
   "execution_count": 4,
   "id": "bjPOlpZ5XWJy",
   "metadata": {
    "executionInfo": {
     "elapsed": 6744,
     "status": "ok",
     "timestamp": 1748889101815,
     "user": {
      "displayName": "Natalia Koval",
      "userId": "10118236118774007377"
     },
     "user_tz": -180
    },
    "id": "bjPOlpZ5XWJy"
   },
   "outputs": [],
   "source": [
    "DATA_PATH = '/content/drive/MyDrive/quora_duplicate_questions/data/processed'\n",
    "df_train = pd.read_csv(os.path.join(DATA_PATH, 'train.csv.zip'), compression='zip')\n",
    "df_val = pd.read_csv(os.path.join(DATA_PATH, 'val.csv.zip'), compression='zip')"
   ]
  },
  {
   "cell_type": "code",
   "execution_count": 5,
   "id": "xyzZ3hcsX0X_",
   "metadata": {
    "executionInfo": {
     "elapsed": 301,
     "status": "ok",
     "timestamp": 1748889106104,
     "user": {
      "displayName": "Natalia Koval",
      "userId": "10118236118774007377"
     },
     "user_tz": -180
    },
    "id": "xyzZ3hcsX0X_"
   },
   "outputs": [],
   "source": [
    "feature_info = joblib.load(os.path.join(DATA_PATH, 'feature_info.joblib'))"
   ]
  },
  {
   "cell_type": "code",
   "execution_count": 6,
   "id": "b187448e",
   "metadata": {
    "executionInfo": {
     "elapsed": 4,
     "status": "ok",
     "timestamp": 1748889107524,
     "user": {
      "displayName": "Natalia Koval",
      "userId": "10118236118774007377"
     },
     "user_tz": -180
    },
    "id": "b187448e"
   },
   "outputs": [],
   "source": [
    "numerical_features = feature_info['numerical_features']\n",
    "text_features = feature_info['text_features']"
   ]
  },
  {
   "cell_type": "code",
   "execution_count": 7,
   "id": "yP8XtZ1unGiH",
   "metadata": {
    "executionInfo": {
     "elapsed": 8,
     "status": "ok",
     "timestamp": 1748889109847,
     "user": {
      "displayName": "Natalia Koval",
      "userId": "10118236118774007377"
     },
     "user_tz": -180
    },
    "id": "yP8XtZ1unGiH"
   },
   "outputs": [],
   "source": [
    "train_target = df_train['is_duplicate']\n",
    "val_target = df_val['is_duplicate']"
   ]
  },
  {
   "cell_type": "markdown",
   "id": "ecb03d69",
   "metadata": {
    "id": "ecb03d69"
   },
   "source": [
    "## Prepare text features"
   ]
  },
  {
   "cell_type": "code",
   "execution_count": 8,
   "id": "5c9a8ca5",
   "metadata": {
    "executionInfo": {
     "elapsed": 10,
     "status": "ok",
     "timestamp": 1748889113734,
     "user": {
      "displayName": "Natalia Koval",
      "userId": "10118236118774007377"
     },
     "user_tz": -180
    },
    "id": "5c9a8ca5"
   },
   "outputs": [],
   "source": [
    "def prepare_vectorizer(\n",
    "        df,\n",
    "        text_col1, text_col2,\n",
    "        **vectorizer_params):\n",
    "    \"\"\"\n",
    "\n",
    "    Prepare text features using either CountVectorizer or TfidfVectorizer.\n",
    "    Args:\n",
    "        df (pd.DataFrame): DataFrame containing the text data.\n",
    "        text_col1 (str): Name of the first text column.\n",
    "        text_col2 (str): Name of the second text column.\n",
    "        **vectorizer_params: Additional parameters for the vectorizer.\n",
    "    Returns:\n",
    "        Vectorizer: Fitted vectorizer instance.\n",
    "    \"\"\"\n",
    "    # Default parameters for vectorizer\n",
    "    default_params = {\n",
    "        'max_features': 10000\n",
    "    }\n",
    "\n",
    "    default_params.update(vectorizer_params)\n",
    "\n",
    "    # Combine questions for fitting\n",
    "    all_questions = pd.concat([df[text_col1], df[text_col2]]).fillna('')\n",
    "\n",
    "    vectorizer = TfidfVectorizer(**default_params)\n",
    "    vectorizer.fit(all_questions)\n",
    "\n",
    "    return vectorizer"
   ]
  },
  {
   "cell_type": "code",
   "execution_count": 9,
   "id": "73b74838",
   "metadata": {
    "executionInfo": {
     "elapsed": 18,
     "status": "ok",
     "timestamp": 1748889117114,
     "user": {
      "displayName": "Natalia Koval",
      "userId": "10118236118774007377"
     },
     "user_tz": -180
    },
    "id": "73b74838"
   },
   "outputs": [],
   "source": [
    "def transform(df, text_col1, text_col2, vectorizer):\n",
    "    \"\"\"Transform new data using fitted vectorizer\"\"\"\n",
    "    q1_vec = vectorizer.transform(df[text_col1].fillna(''))\n",
    "    q2_vec = vectorizer.transform(df[text_col2].fillna(''))\n",
    "    return q1_vec, q2_vec\n",
    "\n",
    "\n",
    "def combine_features(df, numerical_features, q1_vec, q2_vec):\n",
    "    \"\"\"Combine numerical features with vectorized text features\"\"\"\n",
    "    combined_features = hstack([csr_matrix(df[numerical_features]), q1_vec, q2_vec])\n",
    "    return combined_features"
   ]
  },
  {
   "cell_type": "markdown",
   "id": "55IyeZy3pHqC",
   "metadata": {
    "id": "55IyeZy3pHqC"
   },
   "source": [
    "## TF-IDF Vectorizer"
   ]
  },
  {
   "cell_type": "code",
   "execution_count": null,
   "id": "a7f1ab8a",
   "metadata": {
    "id": "a7f1ab8a"
   },
   "outputs": [],
   "source": [
    "vectorizer = prepare_vectorizer(\n",
    "    df_train,\n",
    "    text_col1='question1_clean',\n",
    "    text_col2='question2_clean',\n",
    "    max_features=10000\n",
    ")\n",
    "\n",
    "q1_vec, q2_vec = transform(\n",
    "    df_train,\n",
    "    text_col1='question1_clean',\n",
    "    text_col2='question2_clean',\n",
    "    vectorizer=vectorizer\n",
    ")\n",
    "\n",
    "train_inputs = combine_features(\n",
    "    df_train,\n",
    "    numerical_features=numerical_features,\n",
    "    q1_vec=q1_vec,\n",
    "    q2_vec=q2_vec\n",
    ")"
   ]
  },
  {
   "cell_type": "code",
   "execution_count": null,
   "id": "7104d445",
   "metadata": {
    "id": "7104d445"
   },
   "outputs": [],
   "source": [
    "q1_vec_val, q2_vec_val = transform(\n",
    "    df_val,\n",
    "    text_col1='question1_clean',\n",
    "    text_col2='question2_clean',\n",
    "    vectorizer=vectorizer\n",
    ")\n",
    "\n",
    "val_inputs = combine_features(\n",
    "    df_val,\n",
    "    numerical_features=numerical_features,\n",
    "    q1_vec=q1_vec_val,\n",
    "    q2_vec=q2_vec_val\n",
    ")"
   ]
  },
  {
   "cell_type": "markdown",
   "id": "b04aef81",
   "metadata": {
    "id": "b04aef81"
   },
   "source": [
    "### Logistic Regression"
   ]
  },
  {
   "cell_type": "code",
   "execution_count": null,
   "id": "7465c91b",
   "metadata": {
    "colab": {
     "base_uri": "https://localhost:8080/"
    },
    "executionInfo": {
     "elapsed": 83379,
     "status": "ok",
     "timestamp": 1748428558590,
     "user": {
      "displayName": "Natalia Koval",
      "userId": "10118236118774007377"
     },
     "user_tz": -180
    },
    "id": "7465c91b",
    "outputId": "856fed04-6c05-4796-ad82-d1ff94fad256"
   },
   "outputs": [
    {
     "name": "stdout",
     "output_type": "stream",
     "text": [
      "Log loss on Train set: 0.452011036119724\n",
      "Log loss on Validation set: 0.46430953975827727\n"
     ]
    }
   ],
   "source": [
    "model_lr = LogisticRegression(\n",
    "    random_state=7,\n",
    "    max_iter=1000,\n",
    "    class_weight='balanced',\n",
    "    n_jobs=-1\n",
    ").fit(train_inputs, train_target)\n",
    "\n",
    "log_loss_train, log_loss_val = evaluate_model(\n",
    "    train_inputs, val_inputs, train_target, val_target, model_lr\n",
    ")\n",
    "print('Log loss on Train set:', log_loss_train)\n",
    "print('Log loss on Validation set:', log_loss_val)"
   ]
  },
  {
   "cell_type": "code",
   "execution_count": null,
   "id": "74c518b2",
   "metadata": {
    "id": "74c518b2"
   },
   "outputs": [],
   "source": [
    "experiment_results = []\n",
    "results = {}\n",
    "results['model'] = 'Logistic Regression'\n",
    "results['log_loss_train'] = log_loss_train\n",
    "results['log_loss_val'] = log_loss_val\n",
    "\n",
    "experiment_results.append(results)"
   ]
  },
  {
   "cell_type": "markdown",
   "id": "f6e1200c",
   "metadata": {
    "id": "f6e1200c"
   },
   "source": [
    "### Random Forest"
   ]
  },
  {
   "cell_type": "code",
   "execution_count": null,
   "id": "gQT3F1Dsa-um",
   "metadata": {
    "colab": {
     "base_uri": "https://localhost:8080/"
    },
    "executionInfo": {
     "elapsed": 235816,
     "status": "ok",
     "timestamp": 1748428103156,
     "user": {
      "displayName": "Natalia Koval",
      "userId": "10118236118774007377"
     },
     "user_tz": -180
    },
    "id": "gQT3F1Dsa-um",
    "outputId": "ce52b555-d72b-4102-f5ae-4b5ac8dd193a"
   },
   "outputs": [
    {
     "name": "stdout",
     "output_type": "stream",
     "text": [
      "Log loss on Train set: 0.11558998693332646\n",
      "Log loss on Validation set: 0.6956181623169458\n"
     ]
    }
   ],
   "source": [
    "model_rf = RandomForestClassifier(\n",
    "    n_estimators=10,\n",
    "    class_weight='balanced',\n",
    "    n_jobs=-1\n",
    ").fit(train_inputs, train_target)\n",
    "\n",
    "log_loss_train, log_loss_val = evaluate_model(\n",
    "    train_inputs, val_inputs, train_target, val_target, model_rf\n",
    ")\n",
    "print('Log loss on Train set:', log_loss_train)\n",
    "print('Log loss on Validation set:', log_loss_val)"
   ]
  },
  {
   "cell_type": "code",
   "execution_count": null,
   "id": "QMGrAor1bjle",
   "metadata": {
    "colab": {
     "base_uri": "https://localhost:8080/"
    },
    "executionInfo": {
     "elapsed": 1558,
     "status": "ok",
     "timestamp": 1748428105198,
     "user": {
      "displayName": "Natalia Koval",
      "userId": "10118236118774007377"
     },
     "user_tz": -180
    },
    "id": "QMGrAor1bjle",
    "outputId": "ad07ccd6-cde8-4a22-ff64-004f9cc82d3f"
   },
   "outputs": [
    {
     "name": "stdout",
     "output_type": "stream",
     "text": [
      "Log loss on Train set: 0.6293307756923079\n",
      "Log loss on Validation set: 0.6287038490071538\n"
     ]
    }
   ],
   "source": [
    "model_rf = RandomForestClassifier(\n",
    "    n_estimators=10,\n",
    "    max_depth=10,\n",
    "    class_weight='balanced',\n",
    "    n_jobs=-1\n",
    ").fit(train_inputs, train_target)\n",
    "\n",
    "log_loss_train, log_loss_val = evaluate_model(\n",
    "    train_inputs, val_inputs, train_target, val_target, model_rf\n",
    ")\n",
    "print('Log loss on Train set:', log_loss_train)\n",
    "print('Log loss on Validation set:', log_loss_val)"
   ]
  },
  {
   "cell_type": "code",
   "execution_count": null,
   "id": "Bk-1MTvdbpTM",
   "metadata": {
    "colab": {
     "base_uri": "https://localhost:8080/"
    },
    "executionInfo": {
     "elapsed": 3717,
     "status": "ok",
     "timestamp": 1748428108913,
     "user": {
      "displayName": "Natalia Koval",
      "userId": "10118236118774007377"
     },
     "user_tz": -180
    },
    "id": "Bk-1MTvdbpTM",
    "outputId": "41a0744a-97ce-4436-ff44-435f994d7f9b"
   },
   "outputs": [
    {
     "name": "stdout",
     "output_type": "stream",
     "text": [
      "Log loss on Train set: 0.5904949825153363\n",
      "Log loss on Validation set: 0.5928795746460779\n"
     ]
    }
   ],
   "source": [
    "model_rf = RandomForestClassifier(\n",
    "    n_estimators=10,\n",
    "    max_depth=20,\n",
    "    class_weight='balanced',\n",
    "    n_jobs=-1\n",
    ").fit(train_inputs, train_target)\n",
    "\n",
    "log_loss_train, log_loss_val = evaluate_model(\n",
    "    train_inputs, val_inputs, train_target, val_target, model_rf\n",
    ")\n",
    "print('Log loss on Train set:', log_loss_train)\n",
    "print('Log loss on Validation set:', log_loss_val)"
   ]
  },
  {
   "cell_type": "code",
   "execution_count": null,
   "id": "n-1waIHnbtMR",
   "metadata": {
    "colab": {
     "base_uri": "https://localhost:8080/"
    },
    "executionInfo": {
     "elapsed": 12169,
     "status": "ok",
     "timestamp": 1748428121085,
     "user": {
      "displayName": "Natalia Koval",
      "userId": "10118236118774007377"
     },
     "user_tz": -180
    },
    "id": "n-1waIHnbtMR",
    "outputId": "dbc61ce4-3bae-4a4e-cde3-b25395ed39f6"
   },
   "outputs": [
    {
     "name": "stdout",
     "output_type": "stream",
     "text": [
      "Log loss on Train set: 0.4880623920738313\n",
      "Log loss on Validation set: 0.49830950170711463\n"
     ]
    }
   ],
   "source": [
    "model_rf = RandomForestClassifier(\n",
    "    n_estimators=10,\n",
    "    max_leaf_nodes=1000,\n",
    "    class_weight='balanced',\n",
    "    n_jobs=-1\n",
    ").fit(train_inputs, train_target)\n",
    "\n",
    "log_loss_train, log_loss_val = evaluate_model(\n",
    "    train_inputs, val_inputs, train_target, val_target, model_rf\n",
    ")\n",
    "print('Log loss on Train set:', log_loss_train)\n",
    "print('Log loss on Validation set:', log_loss_val)"
   ]
  },
  {
   "cell_type": "code",
   "execution_count": null,
   "id": "c5hHA3oAbvIi",
   "metadata": {
    "colab": {
     "base_uri": "https://localhost:8080/"
    },
    "executionInfo": {
     "elapsed": 15039,
     "status": "ok",
     "timestamp": 1748428136120,
     "user": {
      "displayName": "Natalia Koval",
      "userId": "10118236118774007377"
     },
     "user_tz": -180
    },
    "id": "c5hHA3oAbvIi",
    "outputId": "69d793be-5585-438c-948a-ddba94b66c6a"
   },
   "outputs": [
    {
     "name": "stdout",
     "output_type": "stream",
     "text": [
      "Log loss on Train set: 0.47754872585050623\n",
      "Log loss on Validation set: 0.4940950501718493\n"
     ]
    }
   ],
   "source": [
    "model_rf = RandomForestClassifier(\n",
    "    n_estimators=10,\n",
    "    max_leaf_nodes=1500,\n",
    "    class_weight='balanced',\n",
    "    n_jobs=-1\n",
    ").fit(train_inputs, train_target)\n",
    "\n",
    "log_loss_train, log_loss_val = evaluate_model(\n",
    "    train_inputs, val_inputs, train_target, val_target, model_rf\n",
    ")\n",
    "print('Log loss on Train set:', log_loss_train)\n",
    "print('Log loss on Validation set:', log_loss_val)"
   ]
  },
  {
   "cell_type": "code",
   "execution_count": null,
   "id": "7zGsqS3zbyzz",
   "metadata": {
    "colab": {
     "base_uri": "https://localhost:8080/"
    },
    "executionInfo": {
     "elapsed": 16167,
     "status": "ok",
     "timestamp": 1748428574775,
     "user": {
      "displayName": "Natalia Koval",
      "userId": "10118236118774007377"
     },
     "user_tz": -180
    },
    "id": "7zGsqS3zbyzz",
    "outputId": "acbff031-90d5-4843-d4f8-560a2edd56ad"
   },
   "outputs": [
    {
     "name": "stdout",
     "output_type": "stream",
     "text": [
      "Log loss on Train set: 0.46324403501189154\n",
      "Log loss on Validation set: 0.48273726606001555\n"
     ]
    }
   ],
   "source": [
    "model_rf = RandomForestClassifier(\n",
    "    n_estimators=10,\n",
    "    max_leaf_nodes=1750,\n",
    "    class_weight='balanced',\n",
    "    n_jobs=-1\n",
    ").fit(train_inputs, train_target)\n",
    "\n",
    "log_loss_train, log_loss_val = evaluate_model(\n",
    "    train_inputs, val_inputs, train_target, val_target, model_rf\n",
    ")\n",
    "print('Log loss on Train set:', log_loss_train)\n",
    "print('Log loss on Validation set:', log_loss_val)"
   ]
  },
  {
   "cell_type": "code",
   "execution_count": null,
   "id": "b7beca1f",
   "metadata": {
    "id": "b7beca1f"
   },
   "outputs": [],
   "source": [
    "results = {}\n",
    "results['model'] = 'Random Forest'\n",
    "results['log_loss_train'] = log_loss_train\n",
    "results['log_loss_val'] = log_loss_val\n",
    "\n",
    "experiment_results.append(results)"
   ]
  },
  {
   "cell_type": "code",
   "execution_count": null,
   "id": "2b35852b",
   "metadata": {
    "colab": {
     "base_uri": "https://localhost:8080/",
     "height": 112
    },
    "executionInfo": {
     "elapsed": 62,
     "status": "ok",
     "timestamp": 1748428574842,
     "user": {
      "displayName": "Natalia Koval",
      "userId": "10118236118774007377"
     },
     "user_tz": -180
    },
    "id": "2b35852b",
    "outputId": "f44d256c-7c86-4e15-b9a3-89a5dd7b9703"
   },
   "outputs": [
    {
     "data": {
      "application/vnd.google.colaboratory.intrinsic+json": {
       "summary": "{\n  \"name\": \"pd\",\n  \"rows\": 2,\n  \"fields\": [\n    {\n      \"column\": \"model\",\n      \"properties\": {\n        \"dtype\": \"string\",\n        \"num_unique_values\": 2,\n        \"samples\": [\n          \"Random Forest\",\n          \"Logistic Regression\"\n        ],\n        \"semantic_type\": \"\",\n        \"description\": \"\"\n      }\n    },\n    {\n      \"column\": \"log_loss_train\",\n      \"properties\": {\n        \"dtype\": \"number\",\n        \"std\": 0.007942929689712655,\n        \"min\": 0.452011036119724,\n        \"max\": 0.46324403501189154,\n        \"num_unique_values\": 2,\n        \"samples\": [\n          0.46324403501189154,\n          0.452011036119724\n        ],\n        \"semantic_type\": \"\",\n        \"description\": \"\"\n      }\n    },\n    {\n      \"column\": \"log_loss_val\",\n      \"properties\": {\n        \"dtype\": \"number\",\n        \"std\": 0.013030370229808836,\n        \"min\": 0.46430953975827727,\n        \"max\": 0.48273726606001555,\n        \"num_unique_values\": 2,\n        \"samples\": [\n          0.48273726606001555,\n          0.46430953975827727\n        ],\n        \"semantic_type\": \"\",\n        \"description\": \"\"\n      }\n    }\n  ]\n}",
       "type": "dataframe"
      },
      "text/html": [
       "\n",
       "  <div id=\"df-761735bc-0905-4bf0-973d-997a5f8f0fea\" class=\"colab-df-container\">\n",
       "    <div>\n",
       "<style scoped>\n",
       "    .dataframe tbody tr th:only-of-type {\n",
       "        vertical-align: middle;\n",
       "    }\n",
       "\n",
       "    .dataframe tbody tr th {\n",
       "        vertical-align: top;\n",
       "    }\n",
       "\n",
       "    .dataframe thead th {\n",
       "        text-align: right;\n",
       "    }\n",
       "</style>\n",
       "<table border=\"1\" class=\"dataframe\">\n",
       "  <thead>\n",
       "    <tr style=\"text-align: right;\">\n",
       "      <th></th>\n",
       "      <th>model</th>\n",
       "      <th>log_loss_train</th>\n",
       "      <th>log_loss_val</th>\n",
       "    </tr>\n",
       "  </thead>\n",
       "  <tbody>\n",
       "    <tr>\n",
       "      <th>0</th>\n",
       "      <td>Logistic Regression</td>\n",
       "      <td>0.452011</td>\n",
       "      <td>0.464310</td>\n",
       "    </tr>\n",
       "    <tr>\n",
       "      <th>1</th>\n",
       "      <td>Random Forest</td>\n",
       "      <td>0.463244</td>\n",
       "      <td>0.482737</td>\n",
       "    </tr>\n",
       "  </tbody>\n",
       "</table>\n",
       "</div>\n",
       "    <div class=\"colab-df-buttons\">\n",
       "\n",
       "  <div class=\"colab-df-container\">\n",
       "    <button class=\"colab-df-convert\" onclick=\"convertToInteractive('df-761735bc-0905-4bf0-973d-997a5f8f0fea')\"\n",
       "            title=\"Convert this dataframe to an interactive table.\"\n",
       "            style=\"display:none;\">\n",
       "\n",
       "  <svg xmlns=\"http://www.w3.org/2000/svg\" height=\"24px\" viewBox=\"0 -960 960 960\">\n",
       "    <path d=\"M120-120v-720h720v720H120Zm60-500h600v-160H180v160Zm220 220h160v-160H400v160Zm0 220h160v-160H400v160ZM180-400h160v-160H180v160Zm440 0h160v-160H620v160ZM180-180h160v-160H180v160Zm440 0h160v-160H620v160Z\"/>\n",
       "  </svg>\n",
       "    </button>\n",
       "\n",
       "  <style>\n",
       "    .colab-df-container {\n",
       "      display:flex;\n",
       "      gap: 12px;\n",
       "    }\n",
       "\n",
       "    .colab-df-convert {\n",
       "      background-color: #E8F0FE;\n",
       "      border: none;\n",
       "      border-radius: 50%;\n",
       "      cursor: pointer;\n",
       "      display: none;\n",
       "      fill: #1967D2;\n",
       "      height: 32px;\n",
       "      padding: 0 0 0 0;\n",
       "      width: 32px;\n",
       "    }\n",
       "\n",
       "    .colab-df-convert:hover {\n",
       "      background-color: #E2EBFA;\n",
       "      box-shadow: 0px 1px 2px rgba(60, 64, 67, 0.3), 0px 1px 3px 1px rgba(60, 64, 67, 0.15);\n",
       "      fill: #174EA6;\n",
       "    }\n",
       "\n",
       "    .colab-df-buttons div {\n",
       "      margin-bottom: 4px;\n",
       "    }\n",
       "\n",
       "    [theme=dark] .colab-df-convert {\n",
       "      background-color: #3B4455;\n",
       "      fill: #D2E3FC;\n",
       "    }\n",
       "\n",
       "    [theme=dark] .colab-df-convert:hover {\n",
       "      background-color: #434B5C;\n",
       "      box-shadow: 0px 1px 3px 1px rgba(0, 0, 0, 0.15);\n",
       "      filter: drop-shadow(0px 1px 2px rgba(0, 0, 0, 0.3));\n",
       "      fill: #FFFFFF;\n",
       "    }\n",
       "  </style>\n",
       "\n",
       "    <script>\n",
       "      const buttonEl =\n",
       "        document.querySelector('#df-761735bc-0905-4bf0-973d-997a5f8f0fea button.colab-df-convert');\n",
       "      buttonEl.style.display =\n",
       "        google.colab.kernel.accessAllowed ? 'block' : 'none';\n",
       "\n",
       "      async function convertToInteractive(key) {\n",
       "        const element = document.querySelector('#df-761735bc-0905-4bf0-973d-997a5f8f0fea');\n",
       "        const dataTable =\n",
       "          await google.colab.kernel.invokeFunction('convertToInteractive',\n",
       "                                                    [key], {});\n",
       "        if (!dataTable) return;\n",
       "\n",
       "        const docLinkHtml = 'Like what you see? Visit the ' +\n",
       "          '<a target=\"_blank\" href=https://colab.research.google.com/notebooks/data_table.ipynb>data table notebook</a>'\n",
       "          + ' to learn more about interactive tables.';\n",
       "        element.innerHTML = '';\n",
       "        dataTable['output_type'] = 'display_data';\n",
       "        await google.colab.output.renderOutput(dataTable, element);\n",
       "        const docLink = document.createElement('div');\n",
       "        docLink.innerHTML = docLinkHtml;\n",
       "        element.appendChild(docLink);\n",
       "      }\n",
       "    </script>\n",
       "  </div>\n",
       "\n",
       "\n",
       "    <div id=\"df-a732f48c-76c8-48bd-b6b1-5eb9eb4163e4\">\n",
       "      <button class=\"colab-df-quickchart\" onclick=\"quickchart('df-a732f48c-76c8-48bd-b6b1-5eb9eb4163e4')\"\n",
       "                title=\"Suggest charts\"\n",
       "                style=\"display:none;\">\n",
       "\n",
       "<svg xmlns=\"http://www.w3.org/2000/svg\" height=\"24px\"viewBox=\"0 0 24 24\"\n",
       "     width=\"24px\">\n",
       "    <g>\n",
       "        <path d=\"M19 3H5c-1.1 0-2 .9-2 2v14c0 1.1.9 2 2 2h14c1.1 0 2-.9 2-2V5c0-1.1-.9-2-2-2zM9 17H7v-7h2v7zm4 0h-2V7h2v10zm4 0h-2v-4h2v4z\"/>\n",
       "    </g>\n",
       "</svg>\n",
       "      </button>\n",
       "\n",
       "<style>\n",
       "  .colab-df-quickchart {\n",
       "      --bg-color: #E8F0FE;\n",
       "      --fill-color: #1967D2;\n",
       "      --hover-bg-color: #E2EBFA;\n",
       "      --hover-fill-color: #174EA6;\n",
       "      --disabled-fill-color: #AAA;\n",
       "      --disabled-bg-color: #DDD;\n",
       "  }\n",
       "\n",
       "  [theme=dark] .colab-df-quickchart {\n",
       "      --bg-color: #3B4455;\n",
       "      --fill-color: #D2E3FC;\n",
       "      --hover-bg-color: #434B5C;\n",
       "      --hover-fill-color: #FFFFFF;\n",
       "      --disabled-bg-color: #3B4455;\n",
       "      --disabled-fill-color: #666;\n",
       "  }\n",
       "\n",
       "  .colab-df-quickchart {\n",
       "    background-color: var(--bg-color);\n",
       "    border: none;\n",
       "    border-radius: 50%;\n",
       "    cursor: pointer;\n",
       "    display: none;\n",
       "    fill: var(--fill-color);\n",
       "    height: 32px;\n",
       "    padding: 0;\n",
       "    width: 32px;\n",
       "  }\n",
       "\n",
       "  .colab-df-quickchart:hover {\n",
       "    background-color: var(--hover-bg-color);\n",
       "    box-shadow: 0 1px 2px rgba(60, 64, 67, 0.3), 0 1px 3px 1px rgba(60, 64, 67, 0.15);\n",
       "    fill: var(--button-hover-fill-color);\n",
       "  }\n",
       "\n",
       "  .colab-df-quickchart-complete:disabled,\n",
       "  .colab-df-quickchart-complete:disabled:hover {\n",
       "    background-color: var(--disabled-bg-color);\n",
       "    fill: var(--disabled-fill-color);\n",
       "    box-shadow: none;\n",
       "  }\n",
       "\n",
       "  .colab-df-spinner {\n",
       "    border: 2px solid var(--fill-color);\n",
       "    border-color: transparent;\n",
       "    border-bottom-color: var(--fill-color);\n",
       "    animation:\n",
       "      spin 1s steps(1) infinite;\n",
       "  }\n",
       "\n",
       "  @keyframes spin {\n",
       "    0% {\n",
       "      border-color: transparent;\n",
       "      border-bottom-color: var(--fill-color);\n",
       "      border-left-color: var(--fill-color);\n",
       "    }\n",
       "    20% {\n",
       "      border-color: transparent;\n",
       "      border-left-color: var(--fill-color);\n",
       "      border-top-color: var(--fill-color);\n",
       "    }\n",
       "    30% {\n",
       "      border-color: transparent;\n",
       "      border-left-color: var(--fill-color);\n",
       "      border-top-color: var(--fill-color);\n",
       "      border-right-color: var(--fill-color);\n",
       "    }\n",
       "    40% {\n",
       "      border-color: transparent;\n",
       "      border-right-color: var(--fill-color);\n",
       "      border-top-color: var(--fill-color);\n",
       "    }\n",
       "    60% {\n",
       "      border-color: transparent;\n",
       "      border-right-color: var(--fill-color);\n",
       "    }\n",
       "    80% {\n",
       "      border-color: transparent;\n",
       "      border-right-color: var(--fill-color);\n",
       "      border-bottom-color: var(--fill-color);\n",
       "    }\n",
       "    90% {\n",
       "      border-color: transparent;\n",
       "      border-bottom-color: var(--fill-color);\n",
       "    }\n",
       "  }\n",
       "</style>\n",
       "\n",
       "      <script>\n",
       "        async function quickchart(key) {\n",
       "          const quickchartButtonEl =\n",
       "            document.querySelector('#' + key + ' button');\n",
       "          quickchartButtonEl.disabled = true;  // To prevent multiple clicks.\n",
       "          quickchartButtonEl.classList.add('colab-df-spinner');\n",
       "          try {\n",
       "            const charts = await google.colab.kernel.invokeFunction(\n",
       "                'suggestCharts', [key], {});\n",
       "          } catch (error) {\n",
       "            console.error('Error during call to suggestCharts:', error);\n",
       "          }\n",
       "          quickchartButtonEl.classList.remove('colab-df-spinner');\n",
       "          quickchartButtonEl.classList.add('colab-df-quickchart-complete');\n",
       "        }\n",
       "        (() => {\n",
       "          let quickchartButtonEl =\n",
       "            document.querySelector('#df-a732f48c-76c8-48bd-b6b1-5eb9eb4163e4 button');\n",
       "          quickchartButtonEl.style.display =\n",
       "            google.colab.kernel.accessAllowed ? 'block' : 'none';\n",
       "        })();\n",
       "      </script>\n",
       "    </div>\n",
       "    </div>\n",
       "  </div>\n"
      ],
      "text/plain": [
       "                 model  log_loss_train  log_loss_val\n",
       "0  Logistic Regression        0.452011      0.464310\n",
       "1        Random Forest        0.463244      0.482737"
      ]
     },
     "execution_count": 17,
     "metadata": {},
     "output_type": "execute_result"
    }
   ],
   "source": [
    "pd.DataFrame(experiment_results)"
   ]
  },
  {
   "cell_type": "code",
   "execution_count": null,
   "id": "chRfXhZwdbxl",
   "metadata": {
    "colab": {
     "base_uri": "https://localhost:8080/"
    },
    "executionInfo": {
     "elapsed": 20,
     "status": "ok",
     "timestamp": 1748428614671,
     "user": {
      "displayName": "Natalia Koval",
      "userId": "10118236118774007377"
     },
     "user_tz": -180
    },
    "id": "chRfXhZwdbxl",
    "outputId": "420626b5-0bbb-4e67-d856-ee9a09d50ec6"
   },
   "outputs": [
    {
     "data": {
      "text/plain": [
       "['/content/drive/MyDrive/quora_duplicate_questions/data/processed/experiment_results.joblib']"
      ]
     },
     "execution_count": 18,
     "metadata": {},
     "output_type": "execute_result"
    }
   ],
   "source": [
    "joblib.dump(experiment_results, os.path.join(DATA_PATH, 'experiment_results.joblib'))"
   ]
  },
  {
   "cell_type": "markdown",
   "id": "62ad938f",
   "metadata": {
    "id": "62ad938f"
   },
   "source": [
    "### XGBoost"
   ]
  },
  {
   "cell_type": "code",
   "execution_count": null,
   "id": "a_LHmn1aoFnx",
   "metadata": {
    "colab": {
     "base_uri": "https://localhost:8080/"
    },
    "executionInfo": {
     "elapsed": 32,
     "status": "ok",
     "timestamp": 1748783766377,
     "user": {
      "displayName": "Natalia Koval",
      "userId": "10118236118774007377"
     },
     "user_tz": -180
    },
    "id": "a_LHmn1aoFnx",
    "outputId": "044bee7d-593b-4a82-be0e-a574ad27ccb6"
   },
   "outputs": [
    {
     "data": {
      "text/plain": [
       "np.float64(1.7086)"
      ]
     },
     "execution_count": 33,
     "metadata": {},
     "output_type": "execute_result"
    }
   ],
   "source": [
    "scale_pos_weight = np.round(sum(train_target == 0) / sum(train_target == 1), 4)\n",
    "scale_pos_weight"
   ]
  },
  {
   "cell_type": "code",
   "execution_count": null,
   "id": "6913f00b",
   "metadata": {
    "colab": {
     "base_uri": "https://localhost:8080/"
    },
    "executionInfo": {
     "elapsed": 26483,
     "status": "ok",
     "timestamp": 1748427184057,
     "user": {
      "displayName": "Natalia Koval",
      "userId": "10118236118774007377"
     },
     "user_tz": -180
    },
    "id": "6913f00b",
    "outputId": "1040a60f-32a4-489e-f349-5105a6f0bcbd"
   },
   "outputs": [
    {
     "name": "stdout",
     "output_type": "stream",
     "text": [
      "Log loss on Train set: 0.5578148240183674\n",
      "Log loss on Validation set: 0.5566084858130264\n"
     ]
    }
   ],
   "source": [
    "model_xgb = XGBClassifier(\n",
    "    n_estimators = 10,\n",
    "    learning_rate = 0.1,\n",
    "    random_state = 7,\n",
    "    n_jobs = -1,\n",
    "    eval_metric = 'logloss',\n",
    "    tree_method = 'hist',\n",
    "    scale_pos_weight = scale_pos_weight,\n",
    ").fit(train_inputs, train_target)\n",
    "\n",
    "log_loss_train, log_loss_val = evaluate_model(\n",
    "    train_inputs, val_inputs, train_target, val_target, model_xgb\n",
    ")\n",
    "print('Log loss on Train set:', log_loss_train)\n",
    "print('Log loss on Validation set:', log_loss_val)"
   ]
  },
  {
   "cell_type": "code",
   "execution_count": null,
   "id": "20673882",
   "metadata": {
    "colab": {
     "base_uri": "https://localhost:8080/"
    },
    "executionInfo": {
     "elapsed": 51193,
     "status": "ok",
     "timestamp": 1748427315570,
     "user": {
      "displayName": "Natalia Koval",
      "userId": "10118236118774007377"
     },
     "user_tz": -180
    },
    "id": "20673882",
    "outputId": "271d1cd8-34f1-49a6-f79a-81025c651e5f"
   },
   "outputs": [
    {
     "name": "stdout",
     "output_type": "stream",
     "text": [
      "Log loss on Train set: 0.547853552248769\n",
      "Log loss on Validation set: 0.5476358169741841\n"
     ]
    }
   ],
   "source": [
    "model_xgb = XGBClassifier(\n",
    "    n_estimators = 10,\n",
    "    max_depth=8,\n",
    "    learning_rate = 0.1,\n",
    "    random_state = 7,\n",
    "    n_jobs = -1,\n",
    "    eval_metric = 'logloss',\n",
    "    tree_method = 'hist',\n",
    "    scale_pos_weight = scale_pos_weight,\n",
    ").fit(train_inputs, train_target)\n",
    "\n",
    "log_loss_train, log_loss_val = evaluate_model(\n",
    "    train_inputs, val_inputs, train_target, val_target, model_xgb\n",
    ")\n",
    "print('Log loss on Train set:', log_loss_train)\n",
    "print('Log loss on Validation set:', log_loss_val)"
   ]
  },
  {
   "cell_type": "code",
   "execution_count": null,
   "id": "ef3c686b",
   "metadata": {
    "colab": {
     "base_uri": "https://localhost:8080/"
    },
    "executionInfo": {
     "elapsed": 90321,
     "status": "ok",
     "timestamp": 1748428722213,
     "user": {
      "displayName": "Natalia Koval",
      "userId": "10118236118774007377"
     },
     "user_tz": -180
    },
    "id": "ef3c686b",
    "outputId": "723b5144-8fd8-43dd-b744-812bfc059811"
   },
   "outputs": [
    {
     "name": "stdout",
     "output_type": "stream",
     "text": [
      "Log loss on Train set: 0.5380278210416257\n",
      "Log loss on Validation set: 0.5396793278246858\n"
     ]
    }
   ],
   "source": [
    "model_xgb = XGBClassifier(\n",
    "    n_estimators = 10,\n",
    "    max_depth = 10,\n",
    "    learning_rate = 0.1,\n",
    "    random_state = 7,\n",
    "    n_jobs = -1,\n",
    "    eval_metric = 'logloss',\n",
    "    tree_method = 'hist',\n",
    "    scale_pos_weight = scale_pos_weight,\n",
    ").fit(train_inputs, train_target)\n",
    "\n",
    "log_loss_train, log_loss_val = evaluate_model(\n",
    "    train_inputs, val_inputs, train_target, val_target, model_xgb\n",
    ")\n",
    "print('Log loss on Train set:', log_loss_train)\n",
    "print('Log loss on Validation set:', log_loss_val)"
   ]
  },
  {
   "cell_type": "code",
   "execution_count": null,
   "id": "1467b939",
   "metadata": {
    "id": "1467b939"
   },
   "outputs": [],
   "source": [
    "results = {}\n",
    "results['model'] = 'XGBClassifier'\n",
    "results['log_loss_train'] = log_loss_train\n",
    "results['log_loss_val'] = log_loss_val\n",
    "\n",
    "experiment_results.append(results)"
   ]
  },
  {
   "cell_type": "code",
   "execution_count": null,
   "id": "OGO_k0B3eCqZ",
   "metadata": {
    "colab": {
     "base_uri": "https://localhost:8080/"
    },
    "executionInfo": {
     "elapsed": 52,
     "status": "ok",
     "timestamp": 1748428745186,
     "user": {
      "displayName": "Natalia Koval",
      "userId": "10118236118774007377"
     },
     "user_tz": -180
    },
    "id": "OGO_k0B3eCqZ",
    "outputId": "f5e55895-4190-4972-8b3d-7c2126fd8d68"
   },
   "outputs": [
    {
     "data": {
      "text/plain": [
       "['/content/drive/MyDrive/quora_duplicate_questions/data/processed/experiment_results.joblib']"
      ]
     },
     "execution_count": 22,
     "metadata": {},
     "output_type": "execute_result"
    }
   ],
   "source": [
    "joblib.dump(experiment_results, os.path.join(DATA_PATH, 'experiment_results.joblib'))"
   ]
  },
  {
   "cell_type": "markdown",
   "id": "75008457",
   "metadata": {
    "id": "75008457"
   },
   "source": [
    "### LightGBM"
   ]
  },
  {
   "cell_type": "code",
   "execution_count": null,
   "id": "2im5IsTmgCsG",
   "metadata": {
    "colab": {
     "base_uri": "https://localhost:8080/"
    },
    "executionInfo": {
     "elapsed": 70075,
     "status": "ok",
     "timestamp": 1748431394426,
     "user": {
      "displayName": "Natalia Koval",
      "userId": "10118236118774007377"
     },
     "user_tz": -180
    },
    "id": "2im5IsTmgCsG",
    "outputId": "dcfac145-ea74-4cdd-efc3-7b3c95b36a04"
   },
   "outputs": [
    {
     "name": "stdout",
     "output_type": "stream",
     "text": [
      "Log loss on Train set: 0.5308825289028586\n",
      "Log loss on Validation set: 0.5291303549941574\n"
     ]
    }
   ],
   "source": [
    "model_lgb = LGBMClassifier(\n",
    "    learning_rate = 0.1,\n",
    "    n_estimators = 10,\n",
    "    random_state = 7,\n",
    "    n_jobs = -1,\n",
    "    is_unbalance=True,\n",
    "    verbose=0,\n",
    "    force_row_wise=True,\n",
    ").fit(train_inputs, train_target)\n",
    "\n",
    "log_loss_train, log_loss_val = evaluate_model(\n",
    "    train_inputs, val_inputs, train_target, val_target, model_lgb\n",
    ")\n",
    "print('Log loss on Train set:', log_loss_train)\n",
    "print('Log loss on Validation set:', log_loss_val)"
   ]
  },
  {
   "cell_type": "code",
   "execution_count": null,
   "id": "EOS3TT81hxoj",
   "metadata": {
    "colab": {
     "base_uri": "https://localhost:8080/"
    },
    "executionInfo": {
     "elapsed": 83955,
     "status": "ok",
     "timestamp": 1748431583489,
     "user": {
      "displayName": "Natalia Koval",
      "userId": "10118236118774007377"
     },
     "user_tz": -180
    },
    "id": "EOS3TT81hxoj",
    "outputId": "3e63ced3-64e6-4dac-e9b5-6d79ad2a1f02"
   },
   "outputs": [
    {
     "name": "stdout",
     "output_type": "stream",
     "text": [
      "Log loss on Train set: 0.5082868855534716\n",
      "Log loss on Validation set: 0.5089609529088308\n"
     ]
    }
   ],
   "source": [
    "model_lgb = LGBMClassifier(\n",
    "    num_leaves=150,\n",
    "    learning_rate = 0.1,\n",
    "    n_estimators = 10,\n",
    "    random_state = 7,\n",
    "    n_jobs = -1,\n",
    "    is_unbalance=True,\n",
    "    verbose=0,\n",
    "    force_row_wise=True,\n",
    ").fit(train_inputs, train_target)\n",
    "\n",
    "log_loss_train, log_loss_val = evaluate_model(\n",
    "    train_inputs, val_inputs, train_target, val_target, model_lgb\n",
    ")\n",
    "print('Log loss on Train set:', log_loss_train)\n",
    "print('Log loss on Validation set:', log_loss_val)"
   ]
  },
  {
   "cell_type": "code",
   "execution_count": null,
   "id": "Rjj2bqO_pDyZ",
   "metadata": {
    "colab": {
     "base_uri": "https://localhost:8080/"
    },
    "executionInfo": {
     "elapsed": 88853,
     "status": "ok",
     "timestamp": 1748431941550,
     "user": {
      "displayName": "Natalia Koval",
      "userId": "10118236118774007377"
     },
     "user_tz": -180
    },
    "id": "Rjj2bqO_pDyZ",
    "outputId": "bbf1a422-7659-413a-be13-852f9a93af40"
   },
   "outputs": [
    {
     "name": "stdout",
     "output_type": "stream",
     "text": [
      "Log loss on Train set: 0.4855083525869623\n",
      "Log loss on Validation set: 0.4935436375046539\n"
     ]
    }
   ],
   "source": [
    "model_lgb = LGBMClassifier(\n",
    "    num_leaves=500,\n",
    "    learning_rate = 0.1,\n",
    "    n_estimators = 10,\n",
    "    random_state = 7,\n",
    "    n_jobs = -1,\n",
    "    is_unbalance=True,\n",
    "    verbose=0,\n",
    "    force_row_wise=True,\n",
    ").fit(train_inputs, train_target)\n",
    "\n",
    "log_loss_train, log_loss_val = evaluate_model(\n",
    "    train_inputs, val_inputs, train_target, val_target, model_lgb\n",
    ")\n",
    "print('Log loss on Train set:', log_loss_train)\n",
    "print('Log loss on Validation set:', log_loss_val)"
   ]
  },
  {
   "cell_type": "code",
   "execution_count": null,
   "id": "lY2juc9pqqlI",
   "metadata": {
    "colab": {
     "base_uri": "https://localhost:8080/"
    },
    "executionInfo": {
     "elapsed": 98200,
     "status": "ok",
     "timestamp": 1748432094851,
     "user": {
      "displayName": "Natalia Koval",
      "userId": "10118236118774007377"
     },
     "user_tz": -180
    },
    "id": "lY2juc9pqqlI",
    "outputId": "153a72b3-aea4-4258-ecc7-02b7c64696d9"
   },
   "outputs": [
    {
     "name": "stdout",
     "output_type": "stream",
     "text": [
      "Log loss on Train set: 0.4757919936569115\n",
      "Log loss on Validation set: 0.4888107138178132\n"
     ]
    }
   ],
   "source": [
    "model_lgb = LGBMClassifier(\n",
    "    num_leaves=750,\n",
    "    learning_rate=0.1,\n",
    "    n_estimators=10,\n",
    "    random_state=7,\n",
    "    n_jobs=-1,\n",
    "    is_unbalance=True,\n",
    "    verbose=0,\n",
    "    force_row_wise=True,\n",
    ").fit(train_inputs, train_target)\n",
    "\n",
    "log_loss_train, log_loss_val = evaluate_model(\n",
    "    train_inputs, val_inputs, train_target, val_target, model_lgb\n",
    ")\n",
    "print('Log loss on Train set:', log_loss_train)\n",
    "print('Log loss on Validation set:', log_loss_val)"
   ]
  },
  {
   "cell_type": "code",
   "execution_count": null,
   "id": "JjFQ70Sqr8XU",
   "metadata": {
    "colab": {
     "base_uri": "https://localhost:8080/"
    },
    "executionInfo": {
     "elapsed": 22,
     "status": "ok",
     "timestamp": 1748432370869,
     "user": {
      "displayName": "Natalia Koval",
      "userId": "10118236118774007377"
     },
     "user_tz": -180
    },
    "id": "JjFQ70Sqr8XU",
    "outputId": "3cf38df8-3ce3-4db3-b07a-18aaed1cb59d"
   },
   "outputs": [
    {
     "data": {
      "text/plain": [
       "[{'model': 'Logistic Regression',\n",
       "  'log_loss_train': 0.452011036119724,\n",
       "  'log_loss_val': 0.46430953975827727},\n",
       " {'model': 'Random Forest',\n",
       "  'log_loss_train': 0.46324403501189154,\n",
       "  'log_loss_val': 0.48273726606001555},\n",
       " {'model': 'XGBClassifier',\n",
       "  'log_loss_train': 0.5380278210416257,\n",
       "  'log_loss_val': 0.5396793278246858}]"
      ]
     },
     "execution_count": 14,
     "metadata": {},
     "output_type": "execute_result"
    }
   ],
   "source": [
    "experiment_results = joblib.load(os.path.join(DATA_PATH, 'experiment_results.joblib'))\n",
    "experiment_results"
   ]
  },
  {
   "cell_type": "code",
   "execution_count": null,
   "id": "QqJ504nNsMYs",
   "metadata": {
    "id": "QqJ504nNsMYs"
   },
   "outputs": [],
   "source": [
    "results = {}\n",
    "results['model'] = 'LGBMClassifier'\n",
    "results['log_loss_train'] = log_loss_train\n",
    "results['log_loss_val'] = log_loss_val\n",
    "\n",
    "experiment_results.append(results)"
   ]
  },
  {
   "cell_type": "code",
   "execution_count": null,
   "id": "EAKc_h5hsUbu",
   "metadata": {
    "colab": {
     "base_uri": "https://localhost:8080/"
    },
    "executionInfo": {
     "elapsed": 30,
     "status": "ok",
     "timestamp": 1748432427804,
     "user": {
      "displayName": "Natalia Koval",
      "userId": "10118236118774007377"
     },
     "user_tz": -180
    },
    "id": "EAKc_h5hsUbu",
    "outputId": "0ee9df78-2bb8-43f9-be68-dff56332673b"
   },
   "outputs": [
    {
     "data": {
      "text/plain": [
       "['/content/drive/MyDrive/quora_duplicate_questions/data/processed/experiment_results.joblib']"
      ]
     },
     "execution_count": 17,
     "metadata": {},
     "output_type": "execute_result"
    }
   ],
   "source": [
    "joblib.dump(experiment_results, os.path.join(DATA_PATH, 'experiment_results.joblib'))"
   ]
  },
  {
   "cell_type": "code",
   "execution_count": null,
   "id": "NJS_EBLesao-",
   "metadata": {
    "colab": {
     "base_uri": "https://localhost:8080/",
     "height": 175
    },
    "executionInfo": {
     "elapsed": 53,
     "status": "ok",
     "timestamp": 1748432449679,
     "user": {
      "displayName": "Natalia Koval",
      "userId": "10118236118774007377"
     },
     "user_tz": -180
    },
    "id": "NJS_EBLesao-",
    "outputId": "17c38074-e433-4357-8116-75549b13a960"
   },
   "outputs": [
    {
     "data": {
      "application/vnd.google.colaboratory.intrinsic+json": {
       "summary": "{\n  \"name\": \"pd\",\n  \"rows\": 4,\n  \"fields\": [\n    {\n      \"column\": \"model\",\n      \"properties\": {\n        \"dtype\": \"string\",\n        \"num_unique_values\": 4,\n        \"samples\": [\n          \"Random Forest\",\n          \"LGBMClassifier\",\n          \"Logistic Regression\"\n        ],\n        \"semantic_type\": \"\",\n        \"description\": \"\"\n      }\n    },\n    {\n      \"column\": \"log_loss_train\",\n      \"properties\": {\n        \"dtype\": \"number\",\n        \"std\": 0.038420877162418474,\n        \"min\": 0.452011036119724,\n        \"max\": 0.5380278210416257,\n        \"num_unique_values\": 4,\n        \"samples\": [\n          0.46324403501189154,\n          0.4757919936569115,\n          0.452011036119724\n        ],\n        \"semantic_type\": \"\",\n        \"description\": \"\"\n      }\n    },\n    {\n      \"column\": \"log_loss_val\",\n      \"properties\": {\n        \"dtype\": \"number\",\n        \"std\": 0.03225858365972947,\n        \"min\": 0.46430953975827727,\n        \"max\": 0.5396793278246858,\n        \"num_unique_values\": 4,\n        \"samples\": [\n          0.48273726606001555,\n          0.4888107138178132,\n          0.46430953975827727\n        ],\n        \"semantic_type\": \"\",\n        \"description\": \"\"\n      }\n    }\n  ]\n}",
       "type": "dataframe"
      },
      "text/html": [
       "\n",
       "  <div id=\"df-8abd7ee7-3455-4363-8628-bdaffdf382eb\" class=\"colab-df-container\">\n",
       "    <div>\n",
       "<style scoped>\n",
       "    .dataframe tbody tr th:only-of-type {\n",
       "        vertical-align: middle;\n",
       "    }\n",
       "\n",
       "    .dataframe tbody tr th {\n",
       "        vertical-align: top;\n",
       "    }\n",
       "\n",
       "    .dataframe thead th {\n",
       "        text-align: right;\n",
       "    }\n",
       "</style>\n",
       "<table border=\"1\" class=\"dataframe\">\n",
       "  <thead>\n",
       "    <tr style=\"text-align: right;\">\n",
       "      <th></th>\n",
       "      <th>model</th>\n",
       "      <th>log_loss_train</th>\n",
       "      <th>log_loss_val</th>\n",
       "    </tr>\n",
       "  </thead>\n",
       "  <tbody>\n",
       "    <tr>\n",
       "      <th>0</th>\n",
       "      <td>Logistic Regression</td>\n",
       "      <td>0.452011</td>\n",
       "      <td>0.464310</td>\n",
       "    </tr>\n",
       "    <tr>\n",
       "      <th>1</th>\n",
       "      <td>Random Forest</td>\n",
       "      <td>0.463244</td>\n",
       "      <td>0.482737</td>\n",
       "    </tr>\n",
       "    <tr>\n",
       "      <th>2</th>\n",
       "      <td>XGBClassifier</td>\n",
       "      <td>0.538028</td>\n",
       "      <td>0.539679</td>\n",
       "    </tr>\n",
       "    <tr>\n",
       "      <th>3</th>\n",
       "      <td>LGBMClassifier</td>\n",
       "      <td>0.475792</td>\n",
       "      <td>0.488811</td>\n",
       "    </tr>\n",
       "  </tbody>\n",
       "</table>\n",
       "</div>\n",
       "    <div class=\"colab-df-buttons\">\n",
       "\n",
       "  <div class=\"colab-df-container\">\n",
       "    <button class=\"colab-df-convert\" onclick=\"convertToInteractive('df-8abd7ee7-3455-4363-8628-bdaffdf382eb')\"\n",
       "            title=\"Convert this dataframe to an interactive table.\"\n",
       "            style=\"display:none;\">\n",
       "\n",
       "  <svg xmlns=\"http://www.w3.org/2000/svg\" height=\"24px\" viewBox=\"0 -960 960 960\">\n",
       "    <path d=\"M120-120v-720h720v720H120Zm60-500h600v-160H180v160Zm220 220h160v-160H400v160Zm0 220h160v-160H400v160ZM180-400h160v-160H180v160Zm440 0h160v-160H620v160ZM180-180h160v-160H180v160Zm440 0h160v-160H620v160Z\"/>\n",
       "  </svg>\n",
       "    </button>\n",
       "\n",
       "  <style>\n",
       "    .colab-df-container {\n",
       "      display:flex;\n",
       "      gap: 12px;\n",
       "    }\n",
       "\n",
       "    .colab-df-convert {\n",
       "      background-color: #E8F0FE;\n",
       "      border: none;\n",
       "      border-radius: 50%;\n",
       "      cursor: pointer;\n",
       "      display: none;\n",
       "      fill: #1967D2;\n",
       "      height: 32px;\n",
       "      padding: 0 0 0 0;\n",
       "      width: 32px;\n",
       "    }\n",
       "\n",
       "    .colab-df-convert:hover {\n",
       "      background-color: #E2EBFA;\n",
       "      box-shadow: 0px 1px 2px rgba(60, 64, 67, 0.3), 0px 1px 3px 1px rgba(60, 64, 67, 0.15);\n",
       "      fill: #174EA6;\n",
       "    }\n",
       "\n",
       "    .colab-df-buttons div {\n",
       "      margin-bottom: 4px;\n",
       "    }\n",
       "\n",
       "    [theme=dark] .colab-df-convert {\n",
       "      background-color: #3B4455;\n",
       "      fill: #D2E3FC;\n",
       "    }\n",
       "\n",
       "    [theme=dark] .colab-df-convert:hover {\n",
       "      background-color: #434B5C;\n",
       "      box-shadow: 0px 1px 3px 1px rgba(0, 0, 0, 0.15);\n",
       "      filter: drop-shadow(0px 1px 2px rgba(0, 0, 0, 0.3));\n",
       "      fill: #FFFFFF;\n",
       "    }\n",
       "  </style>\n",
       "\n",
       "    <script>\n",
       "      const buttonEl =\n",
       "        document.querySelector('#df-8abd7ee7-3455-4363-8628-bdaffdf382eb button.colab-df-convert');\n",
       "      buttonEl.style.display =\n",
       "        google.colab.kernel.accessAllowed ? 'block' : 'none';\n",
       "\n",
       "      async function convertToInteractive(key) {\n",
       "        const element = document.querySelector('#df-8abd7ee7-3455-4363-8628-bdaffdf382eb');\n",
       "        const dataTable =\n",
       "          await google.colab.kernel.invokeFunction('convertToInteractive',\n",
       "                                                    [key], {});\n",
       "        if (!dataTable) return;\n",
       "\n",
       "        const docLinkHtml = 'Like what you see? Visit the ' +\n",
       "          '<a target=\"_blank\" href=https://colab.research.google.com/notebooks/data_table.ipynb>data table notebook</a>'\n",
       "          + ' to learn more about interactive tables.';\n",
       "        element.innerHTML = '';\n",
       "        dataTable['output_type'] = 'display_data';\n",
       "        await google.colab.output.renderOutput(dataTable, element);\n",
       "        const docLink = document.createElement('div');\n",
       "        docLink.innerHTML = docLinkHtml;\n",
       "        element.appendChild(docLink);\n",
       "      }\n",
       "    </script>\n",
       "  </div>\n",
       "\n",
       "\n",
       "    <div id=\"df-713b139b-0970-4bde-b39f-8f7542b0a8bd\">\n",
       "      <button class=\"colab-df-quickchart\" onclick=\"quickchart('df-713b139b-0970-4bde-b39f-8f7542b0a8bd')\"\n",
       "                title=\"Suggest charts\"\n",
       "                style=\"display:none;\">\n",
       "\n",
       "<svg xmlns=\"http://www.w3.org/2000/svg\" height=\"24px\"viewBox=\"0 0 24 24\"\n",
       "     width=\"24px\">\n",
       "    <g>\n",
       "        <path d=\"M19 3H5c-1.1 0-2 .9-2 2v14c0 1.1.9 2 2 2h14c1.1 0 2-.9 2-2V5c0-1.1-.9-2-2-2zM9 17H7v-7h2v7zm4 0h-2V7h2v10zm4 0h-2v-4h2v4z\"/>\n",
       "    </g>\n",
       "</svg>\n",
       "      </button>\n",
       "\n",
       "<style>\n",
       "  .colab-df-quickchart {\n",
       "      --bg-color: #E8F0FE;\n",
       "      --fill-color: #1967D2;\n",
       "      --hover-bg-color: #E2EBFA;\n",
       "      --hover-fill-color: #174EA6;\n",
       "      --disabled-fill-color: #AAA;\n",
       "      --disabled-bg-color: #DDD;\n",
       "  }\n",
       "\n",
       "  [theme=dark] .colab-df-quickchart {\n",
       "      --bg-color: #3B4455;\n",
       "      --fill-color: #D2E3FC;\n",
       "      --hover-bg-color: #434B5C;\n",
       "      --hover-fill-color: #FFFFFF;\n",
       "      --disabled-bg-color: #3B4455;\n",
       "      --disabled-fill-color: #666;\n",
       "  }\n",
       "\n",
       "  .colab-df-quickchart {\n",
       "    background-color: var(--bg-color);\n",
       "    border: none;\n",
       "    border-radius: 50%;\n",
       "    cursor: pointer;\n",
       "    display: none;\n",
       "    fill: var(--fill-color);\n",
       "    height: 32px;\n",
       "    padding: 0;\n",
       "    width: 32px;\n",
       "  }\n",
       "\n",
       "  .colab-df-quickchart:hover {\n",
       "    background-color: var(--hover-bg-color);\n",
       "    box-shadow: 0 1px 2px rgba(60, 64, 67, 0.3), 0 1px 3px 1px rgba(60, 64, 67, 0.15);\n",
       "    fill: var(--button-hover-fill-color);\n",
       "  }\n",
       "\n",
       "  .colab-df-quickchart-complete:disabled,\n",
       "  .colab-df-quickchart-complete:disabled:hover {\n",
       "    background-color: var(--disabled-bg-color);\n",
       "    fill: var(--disabled-fill-color);\n",
       "    box-shadow: none;\n",
       "  }\n",
       "\n",
       "  .colab-df-spinner {\n",
       "    border: 2px solid var(--fill-color);\n",
       "    border-color: transparent;\n",
       "    border-bottom-color: var(--fill-color);\n",
       "    animation:\n",
       "      spin 1s steps(1) infinite;\n",
       "  }\n",
       "\n",
       "  @keyframes spin {\n",
       "    0% {\n",
       "      border-color: transparent;\n",
       "      border-bottom-color: var(--fill-color);\n",
       "      border-left-color: var(--fill-color);\n",
       "    }\n",
       "    20% {\n",
       "      border-color: transparent;\n",
       "      border-left-color: var(--fill-color);\n",
       "      border-top-color: var(--fill-color);\n",
       "    }\n",
       "    30% {\n",
       "      border-color: transparent;\n",
       "      border-left-color: var(--fill-color);\n",
       "      border-top-color: var(--fill-color);\n",
       "      border-right-color: var(--fill-color);\n",
       "    }\n",
       "    40% {\n",
       "      border-color: transparent;\n",
       "      border-right-color: var(--fill-color);\n",
       "      border-top-color: var(--fill-color);\n",
       "    }\n",
       "    60% {\n",
       "      border-color: transparent;\n",
       "      border-right-color: var(--fill-color);\n",
       "    }\n",
       "    80% {\n",
       "      border-color: transparent;\n",
       "      border-right-color: var(--fill-color);\n",
       "      border-bottom-color: var(--fill-color);\n",
       "    }\n",
       "    90% {\n",
       "      border-color: transparent;\n",
       "      border-bottom-color: var(--fill-color);\n",
       "    }\n",
       "  }\n",
       "</style>\n",
       "\n",
       "      <script>\n",
       "        async function quickchart(key) {\n",
       "          const quickchartButtonEl =\n",
       "            document.querySelector('#' + key + ' button');\n",
       "          quickchartButtonEl.disabled = true;  // To prevent multiple clicks.\n",
       "          quickchartButtonEl.classList.add('colab-df-spinner');\n",
       "          try {\n",
       "            const charts = await google.colab.kernel.invokeFunction(\n",
       "                'suggestCharts', [key], {});\n",
       "          } catch (error) {\n",
       "            console.error('Error during call to suggestCharts:', error);\n",
       "          }\n",
       "          quickchartButtonEl.classList.remove('colab-df-spinner');\n",
       "          quickchartButtonEl.classList.add('colab-df-quickchart-complete');\n",
       "        }\n",
       "        (() => {\n",
       "          let quickchartButtonEl =\n",
       "            document.querySelector('#df-713b139b-0970-4bde-b39f-8f7542b0a8bd button');\n",
       "          quickchartButtonEl.style.display =\n",
       "            google.colab.kernel.accessAllowed ? 'block' : 'none';\n",
       "        })();\n",
       "      </script>\n",
       "    </div>\n",
       "    </div>\n",
       "  </div>\n"
      ],
      "text/plain": [
       "                 model  log_loss_train  log_loss_val\n",
       "0  Logistic Regression        0.452011      0.464310\n",
       "1        Random Forest        0.463244      0.482737\n",
       "2        XGBClassifier        0.538028      0.539679\n",
       "3       LGBMClassifier        0.475792      0.488811"
      ]
     },
     "execution_count": 18,
     "metadata": {},
     "output_type": "execute_result"
    }
   ],
   "source": [
    "pd.DataFrame(experiment_results)"
   ]
  },
  {
   "cell_type": "markdown",
   "id": "3UKGn5JhtOo5",
   "metadata": {
    "id": "3UKGn5JhtOo5"
   },
   "source": [
    "The best result for Logistic Regression. Tuning hyperparameters for LGBMClassifier maybe give better performance."
   ]
  },
  {
   "cell_type": "markdown",
   "id": "607cb459",
   "metadata": {
    "id": "607cb459"
   },
   "source": [
    "## TF-IDF for matching words"
   ]
  },
  {
   "cell_type": "code",
   "execution_count": 10,
   "id": "15e47edb",
   "metadata": {
    "executionInfo": {
     "elapsed": 49,
     "status": "ok",
     "timestamp": 1748889127693,
     "user": {
      "displayName": "Natalia Koval",
      "userId": "10118236118774007377"
     },
     "user_tz": -180
    },
    "id": "15e47edb"
   },
   "outputs": [],
   "source": [
    "def get_match_words(q1, q2):\n",
    "    \"\"\"\n",
    "    Function to find the common words between two questions\n",
    "    Args:\n",
    "        q1: first question\n",
    "        q2: second question\n",
    "    Return:\n",
    "        common words, match ratio\n",
    "    \"\"\"\n",
    "    try:\n",
    "      q1 = set(q1.split())\n",
    "      q2 = set(q2.split())\n",
    "    except:\n",
    "      q1 = set()\n",
    "      q2 = set()\n",
    "    match_words_list =  list(q1.intersection(q2))\n",
    "    count_match_words = len(match_words_list)\n",
    "    if count_match_words == 0:\n",
    "        match_words = ''\n",
    "    else:\n",
    "        match_words = ' '.join(match_words_list)\n",
    "\n",
    "    return match_words, count_match_words"
   ]
  },
  {
   "cell_type": "code",
   "execution_count": 11,
   "id": "f81ce2c0",
   "metadata": {
    "executionInfo": {
     "elapsed": 15,
     "status": "ok",
     "timestamp": 1748889132757,
     "user": {
      "displayName": "Natalia Koval",
      "userId": "10118236118774007377"
     },
     "user_tz": -180
    },
    "id": "f81ce2c0"
   },
   "outputs": [],
   "source": [
    "def train_evaluate_model(X_train, X_val, y_train, y_val, features, vectorizer, model):\n",
    "    \"\"\"\n",
    "    Function to train and evaluate the model\n",
    "    Args:\n",
    "        X_train: training data\n",
    "        X_val: validation data\n",
    "        y_train: training labels\n",
    "        y_val: validation labels\n",
    "        vectorizer: vectorizer\n",
    "        model: model\n",
    "    Return:\n",
    "        log loss on the training and validation data\n",
    "    \"\"\"\n",
    "    vectorizer.fit(X_train[features])\n",
    "\n",
    "    # Transform the data\n",
    "    X_train = vectorizer.transform(X_train[features])\n",
    "    X_val = vectorizer.transform(X_val[features])\n",
    "\n",
    "    # Train the model\n",
    "    model.fit(X_train, y_train)\n",
    "\n",
    "    # # Calculate log loss\n",
    "    log_loss_train, log_loss_val = evaluate_model(X_train, X_val, y_train, y_val, model)\n",
    "\n",
    "    return log_loss_train, log_loss_val"
   ]
  },
  {
   "cell_type": "code",
   "execution_count": 12,
   "id": "B91BAPoNkILA",
   "metadata": {
    "executionInfo": {
     "elapsed": 9059,
     "status": "ok",
     "timestamp": 1748889159547,
     "user": {
      "displayName": "Natalia Koval",
      "userId": "10118236118774007377"
     },
     "user_tz": -180
    },
    "id": "B91BAPoNkILA"
   },
   "outputs": [],
   "source": [
    "X_train = pd.DataFrame()\n",
    "X_val = pd.DataFrame()\n",
    "X_train['match_words'] = df_train.apply(\n",
    "    lambda x: get_match_words(x['question1_clean'], x['question2_clean'])[0], axis=1)\n",
    "X_val['match_words']  = df_val.apply(\n",
    "    lambda x: get_match_words(x['question1_clean'], x['question2_clean'])[0], axis=1)\n",
    "y_train = df_train['is_duplicate']\n",
    "y_val = df_val['is_duplicate']"
   ]
  },
  {
   "cell_type": "code",
   "execution_count": 13,
   "id": "17adcb62",
   "metadata": {
    "colab": {
     "base_uri": "https://localhost:8080/"
    },
    "executionInfo": {
     "elapsed": 7205,
     "status": "ok",
     "timestamp": 1748889168699,
     "user": {
      "displayName": "Natalia Koval",
      "userId": "10118236118774007377"
     },
     "user_tz": -180
    },
    "id": "17adcb62",
    "outputId": "9a359e85-a941-4f7c-b3e1-6c1712360879"
   },
   "outputs": [
    {
     "name": "stdout",
     "output_type": "stream",
     "text": [
      "Log loss on Train set: 0.517737791188619\n",
      "Log loss on Validation set: 0.5385623392721174\n"
     ]
    }
   ],
   "source": [
    "vectorizer = TfidfVectorizer(\n",
    "    stop_words='english',\n",
    "    lowercase=True,\n",
    "    analyzer='word',\n",
    "    max_features=10000\n",
    ")\n",
    "model = LogisticRegression(\n",
    "    max_iter=1000,\n",
    "    random_state=7,\n",
    "    class_weight='balanced',\n",
    "    n_jobs=-1\n",
    ")\n",
    "\n",
    "log_loss_train, log_loss_val = train_evaluate_model(\n",
    "    X_train, X_val, y_train, y_val, 'match_words', vectorizer, model\n",
    ")\n",
    "print('Log loss on Train set:', log_loss_train)\n",
    "print('Log loss on Validation set:', log_loss_val)"
   ]
  },
  {
   "cell_type": "markdown",
   "id": "195542db",
   "metadata": {
    "id": "195542db"
   },
   "source": [
    "TF-IDF only on matching words performs worse than TF-IDF on all words."
   ]
  },
  {
   "cell_type": "code",
   "execution_count": 15,
   "id": "Vij3RGws6wLi",
   "metadata": {
    "colab": {
     "base_uri": "https://localhost:8080/"
    },
    "executionInfo": {
     "elapsed": 28,
     "status": "ok",
     "timestamp": 1748889356895,
     "user": {
      "displayName": "Natalia Koval",
      "userId": "10118236118774007377"
     },
     "user_tz": -180
    },
    "id": "Vij3RGws6wLi",
    "outputId": "7ec64789-682d-45b6-b1ee-b7a7768a90f3"
   },
   "outputs": [
    {
     "data": {
      "text/plain": [
       "['/content/drive/MyDrive/quora_duplicate_questions/data/processed/experiment_results.joblib']"
      ]
     },
     "execution_count": 15,
     "metadata": {},
     "output_type": "execute_result"
    }
   ],
   "source": [
    "experiment_results = joblib.load(os.path.join(DATA_PATH, 'experiment_results.joblib'))\n",
    "results = {}\n",
    "results['model'] = 'Logistic Regressin with TF-IDF on matching words'\n",
    "results['log_loss_train'] = np.round(log_loss_train, 5)\n",
    "results['log_loss_val'] = np.round(log_loss_val, 5)\n",
    "\n",
    "experiment_results.append(results)\n",
    "\n",
    "joblib.dump(experiment_results, os.path.join(DATA_PATH, 'experiment_results.joblib'))"
   ]
  }
 ],
 "metadata": {
  "colab": {
   "provenance": [],
   "toc_visible": true
  },
  "kernelspec": {
   "display_name": "py312",
   "language": "python",
   "name": "python3"
  },
  "language_info": {
   "codemirror_mode": {
    "name": "ipython",
    "version": 3
   },
   "file_extension": ".py",
   "mimetype": "text/x-python",
   "name": "python",
   "nbconvert_exporter": "python",
   "pygments_lexer": "ipython3",
   "version": "3.12.7"
  }
 },
 "nbformat": 4,
 "nbformat_minor": 5
}
